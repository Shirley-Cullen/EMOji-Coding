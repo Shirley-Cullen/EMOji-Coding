{
 "cells": [
  {
   "metadata": {},
   "cell_type": "markdown",
   "source": [
    "---\n",
    "\n",
    "## CoAVAREP Features\n",
    "\n",
    "CoAVAREP is designed to extract features from audio signals, focusing on the acoustic aspects of speech.\n",
    "\n",
    "### Modality\n",
    "- **Type:** Audio\n",
    "- **Purpose:**\n",
    "  - Captures acoustic and paralinguistic characteristics (e.g., pitch, prosody, voice quality, spectral properties)\n",
    "\n",
    "### Feature Extraction\n",
    "- **Method:** Utilizes signal processing algorithms\n",
    "- **Dimensionality:** Determined by the number of computed acoustic features (varies based on configuration)\n",
    "- **Applications:**\n",
    "  - Emotion Recognition\n",
    "  - Speaker Identification\n",
    "  - Voice Quality Assessment\n",
    "\n",
    "---\n",
    "\n"
   ],
   "id": "8f96a0d6b99d548a"
  },
  {
   "metadata": {},
   "cell_type": "markdown",
   "source": "### Importing Libraries",
   "id": "6b6577081b9270c3"
  },
  {
   "metadata": {
    "collapsed": true,
    "ExecuteTime": {
     "end_time": "2025-02-22T21:13:47.313994Z",
     "start_time": "2025-02-22T21:13:47.311166Z"
    }
   },
   "cell_type": "code",
   "outputs": [],
   "execution_count": 31,
   "source": [
    "import pickle\n",
    "\n",
    "import matplotlib.pyplot as plt\n",
    "import numpy as np\n",
    "import seaborn as sns\n",
    "from sklearn.metrics import confusion_matrix, classification_report\n",
    "from tensorflow.keras.layers import (\n",
    "\tConv2D,\n",
    "\tMaxPooling2D,\n",
    "\tAveragePooling2D,\n",
    "\tFlatten,\n",
    "\tDense,\n",
    ")\n",
    "from tensorflow.keras.models import Sequential\n",
    "from tensorflow.keras.optimizers import Adam"
   ],
   "id": "initial_id"
  },
  {
   "metadata": {},
   "cell_type": "markdown",
   "source": "### Loading Data Tensors",
   "id": "6a149b08c4e65582"
  },
  {
   "metadata": {
    "ExecuteTime": {
     "end_time": "2025-02-22T18:27:50.463701Z",
     "start_time": "2025-02-22T18:27:48.120625Z"
    }
   },
   "cell_type": "code",
   "source": [
    "with open('../data/tensors.pkl', 'rb') as fr:\n",
    "    data_tensors = pickle.load(fr)"
   ],
   "id": "7debe840d5d7da0",
   "outputs": [],
   "execution_count": 2
  },
  {
   "metadata": {},
   "cell_type": "markdown",
   "source": "### Prepare Data into Partitions that make sense",
   "id": "22c4557af2bf127e"
  },
  {
   "metadata": {
    "ExecuteTime": {
     "end_time": "2025-02-22T18:27:50.469538Z",
     "start_time": "2025-02-22T18:27:50.467306Z"
    }
   },
   "cell_type": "code",
   "source": [
    "partitions_ = data_tensors[1]\n",
    "data_all = data_tensors[0]\n",
    "data_partitions = {partitions_[0]: data_all[0], partitions_[1]: data_all[1], partitions_[2]: data_all[2]}\n"
   ],
   "id": "b44d166ab988bd15",
   "outputs": [],
   "execution_count": 3
  },
  {
   "metadata": {
    "ExecuteTime": {
     "end_time": "2025-02-22T18:27:50.480692Z",
     "start_time": "2025-02-22T18:27:50.477302Z"
    }
   },
   "cell_type": "code",
   "source": "data_partitions['train'].keys()",
   "id": "890ff4c87099819",
   "outputs": [
    {
     "data": {
      "text/plain": [
       "dict_keys(['COAVAREP', 'FACET 4.2', 'OpenFace_2.0', 'All Labels', 'glove_vectors', 'OpenSMILE'])"
      ]
     },
     "execution_count": 4,
     "metadata": {},
     "output_type": "execute_result"
    }
   ],
   "execution_count": 4
  },
  {
   "metadata": {
    "ExecuteTime": {
     "end_time": "2025-02-22T18:27:50.653445Z",
     "start_time": "2025-02-22T18:27:50.650751Z"
    }
   },
   "cell_type": "code",
   "source": "data_partitions['train']['COAVAREP'].shape",
   "id": "47b466614c449253",
   "outputs": [
    {
     "data": {
      "text/plain": [
       "(16327, 50, 74)"
      ]
     },
     "execution_count": 6,
     "metadata": {},
     "output_type": "execute_result"
    }
   ],
   "execution_count": 6
  },
  {
   "metadata": {},
   "cell_type": "markdown",
   "source": "### Exploring Training Data Distribution",
   "id": "82281513ccc400a"
  },
  {
   "metadata": {
    "ExecuteTime": {
     "end_time": "2025-02-22T22:13:38.997610Z",
     "start_time": "2025-02-22T22:13:38.932311Z"
    }
   },
   "cell_type": "code",
   "source": [
    "# looking at sentiment probability distribution in train\n",
    "fig, ax = plt.subplots(figsize=(4, 3))\n",
    "ax.hist(data_partitions['train']['All Labels'][:, :, 0])\n",
    "ax.set_xlabel(\"Sentiment Levels (Raw)\")\n",
    "ax.set_ylabel(\"Count\")\n",
    "ax.set_title('Sentiment Count Distribution for Training Data')\n",
    "plt.show()"
   ],
   "id": "cfc456d2ae9c8103",
   "outputs": [
    {
     "data": {
      "text/plain": [
       "<Figure size 400x300 with 1 Axes>"
      ],
      "image/png": "[encoded data removed]"
     },
     "metadata": {},
     "output_type": "display_data"
    }
   ],
   "execution_count": 52
  },
  {
   "metadata": {},
   "cell_type": "markdown",
   "source": "### Extract COAVAREP Only",
   "id": "6cec1ad69c08a54e"
  },
  {
   "metadata": {
    "ExecuteTime": {
     "end_time": "2025-02-22T18:28:04.107976Z",
     "start_time": "2025-02-22T18:28:04.104800Z"
    }
   },
   "cell_type": "code",
   "source": [
    "for k in data_partitions['train'].keys():\n",
    "    if k == 'COAVAREP':\n",
    "        X_train = data_partitions['train'][k]\n",
    "        X_test = data_partitions['test'][k]\n",
    "        X_val = data_partitions['valid'][k]\n",
    "        print(f'{k} has dimension {X_train.shape[1:]}')"
   ],
   "id": "76cde0ce0a5311b4",
   "outputs": [
    {
     "name": "stdout",
     "output_type": "stream",
     "text": [
      "COAVAREP has dimension (50, 74)\n"
     ]
    }
   ],
   "execution_count": 14
  },
  {
   "metadata": {},
   "cell_type": "markdown",
   "source": "### Preparing Labels for Training, Testing, and Validation",
   "id": "47eb9bd886d5a2e6"
  },
  {
   "metadata": {
    "ExecuteTime": {
     "end_time": "2025-02-22T18:28:04.515906Z",
     "start_time": "2025-02-22T18:28:04.511438Z"
    }
   },
   "cell_type": "code",
   "outputs": [
    {
     "name": "stdout",
     "output_type": "stream",
     "text": [
      "(16327, 1) (4662, 1) (1871, 1)\n"
     ]
    }
   ],
   "execution_count": 15,
   "source": [
    "emo_selected = 0 # sentiment\n",
    "Y_train = data_partitions['train']['All Labels'][:, :, emo_selected]\n",
    "Y_test = data_partitions['test']['All Labels'][:, :, emo_selected]\n",
    "Y_val = data_partitions['valid']['All Labels'][:, :, emo_selected]\n",
    "\n",
    "# Round the values to the nearest integer\n",
    "Y_train_rounded = np.round(Y_train).astype(int)\n",
    "Y_test_rounded = np.round(Y_test).astype(int)\n",
    "Y_val_rounded = np.round(Y_val).astype(int)\n",
    "\n",
    "# If you need class indices from 0 to 6 instead of -3 to 3, you can shift them:\n",
    "Y_train_classes = Y_train_rounded + 3\n",
    "Y_test_classes = Y_test_rounded + 3\n",
    "Y_val_classes = Y_val_rounded + 3\n",
    "\n",
    "print(Y_train_classes.shape, Y_test_classes.shape, Y_val_classes.shape)"
   ],
   "id": "5fa3848dc091732f"
  },
  {
   "metadata": {
    "ExecuteTime": {
     "end_time": "2025-02-22T22:29:26.632965Z",
     "start_time": "2025-02-22T22:29:26.540702Z"
    }
   },
   "cell_type": "code",
   "source": [
    "# If Y_train_classes is multidimensional, flatten it to 1D\n",
    "y_train_flat = Y_train_classes.flatten()\n",
    "\n",
    "# Create the countplot\n",
    "fig, ax = plt.subplots(figsize=(4, 3))\n",
    "sns.countplot(x=y_train_flat, ax=ax)\n",
    "ax.set_xlabel(\"Sentiment Levels (7-class)\")\n",
    "ax.set_ylabel(\"Count\")\n",
    "ax.set_title('Sentiment Count Distribution for Training Data')\n",
    "plt.show()"
   ],
   "id": "8557ac388cb70ab6",
   "outputs": [
    {
     "data": {
      "text/plain": [
       "<Figure size 400x300 with 1 Axes>"
      ],
      "image/png": "[encoded data removed]"
     },
     "metadata": {},
     "output_type": "display_data"
    }
   ],
   "execution_count": 65
  },
  {
   "metadata": {},
   "cell_type": "markdown",
   "source": "### Building the CNN Model",
   "id": "2f0480b8736f0a1b"
  },
  {
   "metadata": {
    "ExecuteTime": {
     "end_time": "2025-02-22T18:28:08.371107Z",
     "start_time": "2025-02-22T18:28:08.323691Z"
    }
   },
   "cell_type": "code",
   "source": [
    "input_dim_1 = X_train.shape[1]\n",
    "input_dim_2 = X_train.shape[2]\n",
    "# since classes are: -3, -2, -1, 0, 1, 2, 3 (or 0-6 after shifting)\n",
    "num_classes = 7\n",
    "\n",
    "model = Sequential()\n",
    "\n",
    "# 1st convolution layer\n",
    "model.add(Conv2D(64, (5, 5), activation=\"relu\",\n",
    "                 input_shape=(input_dim_1, input_dim_2, 1)))\n",
    "model.add(MaxPooling2D(pool_size=(5, 5), strides=(2, 2)))\n",
    "\n",
    "# 2nd convolution layer\n",
    "model.add(Conv2D(128, (3, 3), activation=\"relu\"))\n",
    "model.add(AveragePooling2D(pool_size=(3, 3), strides=(2, 2)))\n",
    "\n",
    "model.add(Flatten())\n",
    "\n",
    "# Classification output layer: 7 neurons with softmax activation\n",
    "model.add(Dense(num_classes, activation=\"softmax\"))\n",
    "model.compile(optimizer=Adam(learning_rate=0.0001),\n",
    "              loss='sparse_categorical_crossentropy',\n",
    "              metrics=['accuracy'])"
   ],
   "id": "51da9e337c4892a5",
   "outputs": [
    {
     "name": "stderr",
     "output_type": "stream",
     "text": [
      "/Users/alexanderhsu/Documents/GitHub/11777-EMOji/venv/lib/python3.9/site-packages/keras/src/layers/convolutional/base_conv.py:107: UserWarning: Do not pass an `input_shape`/`input_dim` argument to a layer. When using Sequential models, prefer using an `Input(shape)` object as the first layer in the model instead.\n",
      "  super().__init__(activity_regularizer=activity_regularizer, **kwargs)\n"
     ]
    }
   ],
   "execution_count": 18
  },
  {
   "metadata": {},
   "cell_type": "markdown",
   "source": "### Preparing Data for Model Training",
   "id": "222ee1e36dbace6c"
  },
  {
   "metadata": {
    "ExecuteTime": {
     "end_time": "2025-02-22T18:28:08.780554Z",
     "start_time": "2025-02-22T18:28:08.436673Z"
    }
   },
   "cell_type": "code",
   "source": [
    "X_train_reshape = X_train.reshape(-1, input_dim_1, input_dim_2, 1)\n",
    "Y_train_reshape = np.array(Y_train_classes).reshape(-1, 1)\n",
    "X_test_reshape = X_test.reshape(-1, input_dim_1, input_dim_2, 1)\n",
    "Y_test_reshape = np.array(Y_test_classes).reshape(-1, 1)\n",
    "X_val_reshape = X_val.reshape(-1, input_dim_1, input_dim_2, 1)\n",
    "Y_val_reshape = np.array(Y_val_classes).reshape(-1, 1)\n",
    "\n",
    "# there could be some inf values in features\n",
    "# Replace Inf values with the max finite value in X_data\n",
    "X_train_reshape[np.isinf(X_train_reshape)] = np.nan \n",
    "X_train_reshape = np.nan_to_num(X_train_reshape, nan=np.nanmax(X_train_reshape)) \n",
    "# Replace Inf values with the max finite value in X_data\n",
    "X_test_reshape[np.isinf(X_test_reshape)] = np.nan \n",
    "X_test_reshape = np.nan_to_num(X_test_reshape, nan=np.nanmax(X_test_reshape)) \n",
    "# Replace Inf values with the max finite value in X_data\n",
    "X_val_reshape[np.isinf(X_val_reshape)] = np.nan \n",
    "X_val_reshape = np.nan_to_num(X_val_reshape, nan=np.nanmax(X_val_reshape))"
   ],
   "id": "a069070c69cbe7ee",
   "outputs": [],
   "execution_count": 19
  },
  {
   "metadata": {},
   "cell_type": "markdown",
   "source": "### Training the Model",
   "id": "a9e6e8e81994ad1c"
  },
  {
   "metadata": {
    "ExecuteTime": {
     "end_time": "2025-02-22T19:28:26.505583Z",
     "start_time": "2025-02-22T18:28:10.339227Z"
    }
   },
   "cell_type": "code",
   "source": [
    "history = model.fit(X_train_reshape, \n",
    "                    Y_train_reshape, \n",
    "                    epochs=200,       # Adjust as needed\n",
    "                    batch_size=32,   # Adjust based on available memory\n",
    "                    validation_data=(X_val_reshape, Y_val_reshape),\n",
    "                    verbose=2)\n"
   ],
   "id": "b54221325ded8c6b",
   "outputs": [
    {
     "name": "stdout",
     "output_type": "stream",
     "text": [
      "Epoch 1/200\n",
      "511/511 - 17s - 34ms/step - accuracy: 0.4072 - loss: 1.5471 - val_accuracy: 0.4441 - val_loss: 1.4614\n",
      "Epoch 2/200\n",
      "511/511 - 17s - 33ms/step - accuracy: 0.4128 - loss: 1.5210 - val_accuracy: 0.4447 - val_loss: 1.4616\n",
      "Epoch 3/200\n",
      "511/511 - 17s - 33ms/step - accuracy: 0.4161 - loss: 1.5105 - val_accuracy: 0.4404 - val_loss: 1.4526\n",
      "Epoch 4/200\n",
      "511/511 - 17s - 33ms/step - accuracy: 0.4168 - loss: 1.5018 - val_accuracy: 0.4425 - val_loss: 1.4514\n",
      "Epoch 5/200\n",
      "511/511 - 17s - 33ms/step - accuracy: 0.4169 - loss: 1.4953 - val_accuracy: 0.4356 - val_loss: 1.4606\n",
      "Epoch 6/200\n",
      "511/511 - 17s - 33ms/step - accuracy: 0.4197 - loss: 1.4885 - val_accuracy: 0.4415 - val_loss: 1.4511\n",
      "Epoch 7/200\n",
      "511/511 - 17s - 34ms/step - accuracy: 0.4196 - loss: 1.4817 - val_accuracy: 0.4431 - val_loss: 1.4622\n",
      "Epoch 8/200\n",
      "511/511 - 17s - 34ms/step - accuracy: 0.4187 - loss: 1.4748 - val_accuracy: 0.4447 - val_loss: 1.4724\n",
      "Epoch 9/200\n",
      "511/511 - 17s - 34ms/step - accuracy: 0.4213 - loss: 1.4701 - val_accuracy: 0.4212 - val_loss: 1.4813\n",
      "Epoch 10/200\n",
      "511/511 - 18s - 34ms/step - accuracy: 0.4195 - loss: 1.4631 - val_accuracy: 0.4270 - val_loss: 1.4544\n",
      "Epoch 11/200\n",
      "511/511 - 18s - 35ms/step - accuracy: 0.4245 - loss: 1.4555 - val_accuracy: 0.4244 - val_loss: 1.4764\n",
      "Epoch 12/200\n",
      "511/511 - 18s - 34ms/step - accuracy: 0.4259 - loss: 1.4491 - val_accuracy: 0.4383 - val_loss: 1.4678\n",
      "Epoch 13/200\n",
      "511/511 - 18s - 34ms/step - accuracy: 0.4268 - loss: 1.4406 - val_accuracy: 0.4244 - val_loss: 1.4847\n",
      "Epoch 14/200\n",
      "511/511 - 18s - 35ms/step - accuracy: 0.4281 - loss: 1.4351 - val_accuracy: 0.4292 - val_loss: 1.4715\n",
      "Epoch 15/200\n",
      "511/511 - 18s - 35ms/step - accuracy: 0.4313 - loss: 1.4273 - val_accuracy: 0.4233 - val_loss: 1.4962\n",
      "Epoch 16/200\n",
      "511/511 - 18s - 35ms/step - accuracy: 0.4347 - loss: 1.4184 - val_accuracy: 0.4153 - val_loss: 1.4945\n",
      "Epoch 17/200\n",
      "511/511 - 18s - 35ms/step - accuracy: 0.4357 - loss: 1.4105 - val_accuracy: 0.4142 - val_loss: 1.4820\n",
      "Epoch 18/200\n",
      "511/511 - 18s - 35ms/step - accuracy: 0.4392 - loss: 1.4042 - val_accuracy: 0.4212 - val_loss: 1.4959\n",
      "Epoch 19/200\n",
      "511/511 - 18s - 35ms/step - accuracy: 0.4413 - loss: 1.3947 - val_accuracy: 0.3928 - val_loss: 1.5045\n",
      "Epoch 20/200\n",
      "511/511 - 18s - 35ms/step - accuracy: 0.4467 - loss: 1.3873 - val_accuracy: 0.4051 - val_loss: 1.5006\n",
      "Epoch 21/200\n",
      "511/511 - 18s - 35ms/step - accuracy: 0.4484 - loss: 1.3797 - val_accuracy: 0.4174 - val_loss: 1.4973\n",
      "Epoch 22/200\n",
      "511/511 - 18s - 35ms/step - accuracy: 0.4531 - loss: 1.3705 - val_accuracy: 0.3843 - val_loss: 1.5177\n",
      "Epoch 23/200\n",
      "511/511 - 18s - 35ms/step - accuracy: 0.4554 - loss: 1.3633 - val_accuracy: 0.3848 - val_loss: 1.5294\n",
      "Epoch 24/200\n",
      "511/511 - 18s - 35ms/step - accuracy: 0.4610 - loss: 1.3528 - val_accuracy: 0.3779 - val_loss: 1.5351\n",
      "Epoch 25/200\n",
      "511/511 - 17s - 34ms/step - accuracy: 0.4614 - loss: 1.3484 - val_accuracy: 0.3789 - val_loss: 1.5342\n",
      "Epoch 26/200\n",
      "511/511 - 18s - 34ms/step - accuracy: 0.4646 - loss: 1.3368 - val_accuracy: 0.3709 - val_loss: 1.5481\n",
      "Epoch 27/200\n",
      "511/511 - 18s - 35ms/step - accuracy: 0.4690 - loss: 1.3286 - val_accuracy: 0.4265 - val_loss: 1.5425\n",
      "Epoch 28/200\n",
      "511/511 - 18s - 35ms/step - accuracy: 0.4718 - loss: 1.3218 - val_accuracy: 0.3827 - val_loss: 1.5682\n",
      "Epoch 29/200\n",
      "511/511 - 18s - 35ms/step - accuracy: 0.4757 - loss: 1.3141 - val_accuracy: 0.4121 - val_loss: 1.5493\n",
      "Epoch 30/200\n",
      "511/511 - 18s - 35ms/step - accuracy: 0.4801 - loss: 1.3046 - val_accuracy: 0.3870 - val_loss: 1.5495\n",
      "Epoch 31/200\n",
      "511/511 - 18s - 35ms/step - accuracy: 0.4844 - loss: 1.2953 - val_accuracy: 0.3656 - val_loss: 1.5793\n",
      "Epoch 32/200\n",
      "511/511 - 18s - 35ms/step - accuracy: 0.4891 - loss: 1.2854 - val_accuracy: 0.3886 - val_loss: 1.5746\n",
      "Epoch 33/200\n",
      "511/511 - 18s - 35ms/step - accuracy: 0.4929 - loss: 1.2760 - val_accuracy: 0.3821 - val_loss: 1.6039\n",
      "Epoch 34/200\n",
      "511/511 - 18s - 36ms/step - accuracy: 0.4961 - loss: 1.2692 - val_accuracy: 0.3832 - val_loss: 1.5807\n",
      "Epoch 35/200\n",
      "511/511 - 18s - 36ms/step - accuracy: 0.5025 - loss: 1.2590 - val_accuracy: 0.3923 - val_loss: 1.6038\n",
      "Epoch 36/200\n",
      "511/511 - 18s - 35ms/step - accuracy: 0.5047 - loss: 1.2476 - val_accuracy: 0.3661 - val_loss: 1.6058\n",
      "Epoch 37/200\n",
      "511/511 - 18s - 35ms/step - accuracy: 0.5071 - loss: 1.2408 - val_accuracy: 0.3993 - val_loss: 1.6012\n",
      "Epoch 38/200\n",
      "511/511 - 18s - 35ms/step - accuracy: 0.5152 - loss: 1.2302 - val_accuracy: 0.3495 - val_loss: 1.6228\n",
      "Epoch 39/200\n",
      "511/511 - 18s - 35ms/step - accuracy: 0.5164 - loss: 1.2215 - val_accuracy: 0.3549 - val_loss: 1.6156\n",
      "Epoch 40/200\n",
      "511/511 - 18s - 35ms/step - accuracy: 0.5166 - loss: 1.2125 - val_accuracy: 0.3410 - val_loss: 1.6536\n",
      "Epoch 41/200\n",
      "511/511 - 18s - 35ms/step - accuracy: 0.5230 - loss: 1.2013 - val_accuracy: 0.3560 - val_loss: 1.6431\n",
      "Epoch 42/200\n",
      "511/511 - 18s - 35ms/step - accuracy: 0.5283 - loss: 1.1933 - val_accuracy: 0.3656 - val_loss: 1.6386\n",
      "Epoch 43/200\n",
      "511/511 - 18s - 35ms/step - accuracy: 0.5322 - loss: 1.1814 - val_accuracy: 0.3554 - val_loss: 1.6909\n",
      "Epoch 44/200\n",
      "511/511 - 18s - 35ms/step - accuracy: 0.5349 - loss: 1.1784 - val_accuracy: 0.3469 - val_loss: 1.6810\n",
      "Epoch 45/200\n",
      "511/511 - 18s - 35ms/step - accuracy: 0.5409 - loss: 1.1657 - val_accuracy: 0.3870 - val_loss: 1.6816\n",
      "Epoch 46/200\n",
      "511/511 - 18s - 35ms/step - accuracy: 0.5460 - loss: 1.1523 - val_accuracy: 0.3618 - val_loss: 1.6764\n",
      "Epoch 47/200\n",
      "511/511 - 18s - 35ms/step - accuracy: 0.5485 - loss: 1.1492 - val_accuracy: 0.3447 - val_loss: 1.7050\n",
      "Epoch 48/200\n",
      "511/511 - 18s - 36ms/step - accuracy: 0.5550 - loss: 1.1364 - val_accuracy: 0.3656 - val_loss: 1.7019\n",
      "Epoch 49/200\n",
      "511/511 - 18s - 36ms/step - accuracy: 0.5553 - loss: 1.1259 - val_accuracy: 0.3479 - val_loss: 1.7275\n",
      "Epoch 50/200\n",
      "511/511 - 18s - 36ms/step - accuracy: 0.5632 - loss: 1.1158 - val_accuracy: 0.3431 - val_loss: 1.7248\n",
      "Epoch 51/200\n",
      "511/511 - 18s - 35ms/step - accuracy: 0.5665 - loss: 1.1040 - val_accuracy: 0.3816 - val_loss: 1.7571\n",
      "Epoch 52/200\n",
      "511/511 - 18s - 35ms/step - accuracy: 0.5760 - loss: 1.0976 - val_accuracy: 0.3389 - val_loss: 1.7512\n",
      "Epoch 53/200\n",
      "511/511 - 18s - 35ms/step - accuracy: 0.5721 - loss: 1.0847 - val_accuracy: 0.3506 - val_loss: 1.7584\n",
      "Epoch 54/200\n",
      "511/511 - 18s - 35ms/step - accuracy: 0.5789 - loss: 1.0798 - val_accuracy: 0.3474 - val_loss: 1.7479\n",
      "Epoch 55/200\n",
      "511/511 - 18s - 35ms/step - accuracy: 0.5885 - loss: 1.0657 - val_accuracy: 0.3260 - val_loss: 1.7842\n",
      "Epoch 56/200\n",
      "511/511 - 18s - 35ms/step - accuracy: 0.5869 - loss: 1.0592 - val_accuracy: 0.3683 - val_loss: 1.8052\n",
      "Epoch 57/200\n",
      "511/511 - 18s - 36ms/step - accuracy: 0.5948 - loss: 1.0465 - val_accuracy: 0.3025 - val_loss: 1.8190\n",
      "Epoch 58/200\n",
      "511/511 - 18s - 36ms/step - accuracy: 0.5958 - loss: 1.0394 - val_accuracy: 0.3715 - val_loss: 1.8145\n",
      "Epoch 59/200\n",
      "511/511 - 18s - 36ms/step - accuracy: 0.6080 - loss: 1.0289 - val_accuracy: 0.3218 - val_loss: 1.8430\n",
      "Epoch 60/200\n",
      "511/511 - 18s - 36ms/step - accuracy: 0.6052 - loss: 1.0210 - val_accuracy: 0.3362 - val_loss: 1.8527\n",
      "Epoch 61/200\n",
      "511/511 - 18s - 35ms/step - accuracy: 0.6095 - loss: 1.0143 - val_accuracy: 0.3271 - val_loss: 1.8270\n",
      "Epoch 62/200\n",
      "511/511 - 18s - 36ms/step - accuracy: 0.6157 - loss: 1.0010 - val_accuracy: 0.3373 - val_loss: 1.8493\n",
      "Epoch 63/200\n",
      "511/511 - 18s - 36ms/step - accuracy: 0.6176 - loss: 0.9913 - val_accuracy: 0.3415 - val_loss: 1.8772\n",
      "Epoch 64/200\n",
      "511/511 - 18s - 36ms/step - accuracy: 0.6238 - loss: 0.9828 - val_accuracy: 0.3683 - val_loss: 1.8469\n",
      "Epoch 65/200\n",
      "511/511 - 18s - 36ms/step - accuracy: 0.6238 - loss: 0.9744 - val_accuracy: 0.3319 - val_loss: 1.8648\n",
      "Epoch 66/200\n",
      "511/511 - 18s - 35ms/step - accuracy: 0.6287 - loss: 0.9651 - val_accuracy: 0.3164 - val_loss: 1.8912\n",
      "Epoch 67/200\n",
      "511/511 - 18s - 36ms/step - accuracy: 0.6328 - loss: 0.9586 - val_accuracy: 0.2972 - val_loss: 1.9350\n",
      "Epoch 68/200\n",
      "511/511 - 18s - 35ms/step - accuracy: 0.6371 - loss: 0.9470 - val_accuracy: 0.3389 - val_loss: 1.9249\n",
      "Epoch 69/200\n",
      "511/511 - 18s - 35ms/step - accuracy: 0.6386 - loss: 0.9407 - val_accuracy: 0.3127 - val_loss: 1.9269\n",
      "Epoch 70/200\n",
      "511/511 - 18s - 35ms/step - accuracy: 0.6470 - loss: 0.9283 - val_accuracy: 0.3282 - val_loss: 1.9574\n",
      "Epoch 71/200\n",
      "511/511 - 18s - 35ms/step - accuracy: 0.6456 - loss: 0.9231 - val_accuracy: 0.3335 - val_loss: 1.9369\n",
      "Epoch 72/200\n",
      "511/511 - 18s - 36ms/step - accuracy: 0.6553 - loss: 0.9116 - val_accuracy: 0.3389 - val_loss: 1.9444\n",
      "Epoch 73/200\n",
      "511/511 - 18s - 36ms/step - accuracy: 0.6584 - loss: 0.9010 - val_accuracy: 0.3362 - val_loss: 1.9679\n",
      "Epoch 74/200\n",
      "511/511 - 19s - 37ms/step - accuracy: 0.6606 - loss: 0.8931 - val_accuracy: 0.3324 - val_loss: 1.9714\n",
      "Epoch 75/200\n",
      "511/511 - 19s - 36ms/step - accuracy: 0.6628 - loss: 0.8806 - val_accuracy: 0.3244 - val_loss: 2.0272\n",
      "Epoch 76/200\n",
      "511/511 - 19s - 36ms/step - accuracy: 0.6686 - loss: 0.8747 - val_accuracy: 0.3330 - val_loss: 2.0237\n",
      "Epoch 77/200\n",
      "511/511 - 18s - 35ms/step - accuracy: 0.6725 - loss: 0.8680 - val_accuracy: 0.3335 - val_loss: 2.0458\n",
      "Epoch 78/200\n",
      "511/511 - 18s - 35ms/step - accuracy: 0.6739 - loss: 0.8588 - val_accuracy: 0.3030 - val_loss: 2.0397\n",
      "Epoch 79/200\n",
      "511/511 - 18s - 35ms/step - accuracy: 0.6791 - loss: 0.8471 - val_accuracy: 0.3276 - val_loss: 2.0407\n",
      "Epoch 80/200\n",
      "511/511 - 18s - 35ms/step - accuracy: 0.6843 - loss: 0.8408 - val_accuracy: 0.3608 - val_loss: 2.1077\n",
      "Epoch 81/200\n",
      "511/511 - 18s - 35ms/step - accuracy: 0.6883 - loss: 0.8284 - val_accuracy: 0.3244 - val_loss: 2.0747\n",
      "Epoch 82/200\n",
      "511/511 - 18s - 34ms/step - accuracy: 0.6952 - loss: 0.8188 - val_accuracy: 0.3528 - val_loss: 2.1351\n",
      "Epoch 83/200\n",
      "511/511 - 18s - 35ms/step - accuracy: 0.6844 - loss: 0.8243 - val_accuracy: 0.3394 - val_loss: 2.1346\n",
      "Epoch 84/200\n",
      "511/511 - 18s - 36ms/step - accuracy: 0.7016 - loss: 0.8062 - val_accuracy: 0.3068 - val_loss: 2.1320\n",
      "Epoch 85/200\n",
      "511/511 - 18s - 36ms/step - accuracy: 0.7031 - loss: 0.7949 - val_accuracy: 0.2940 - val_loss: 2.1484\n",
      "Epoch 86/200\n",
      "511/511 - 18s - 36ms/step - accuracy: 0.7053 - loss: 0.7877 - val_accuracy: 0.3046 - val_loss: 2.1297\n",
      "Epoch 87/200\n",
      "511/511 - 18s - 36ms/step - accuracy: 0.7134 - loss: 0.7792 - val_accuracy: 0.3282 - val_loss: 2.1348\n",
      "Epoch 88/200\n",
      "511/511 - 18s - 36ms/step - accuracy: 0.7136 - loss: 0.7738 - val_accuracy: 0.3250 - val_loss: 2.1970\n",
      "Epoch 89/200\n",
      "511/511 - 18s - 36ms/step - accuracy: 0.7200 - loss: 0.7643 - val_accuracy: 0.3201 - val_loss: 2.1537\n",
      "Epoch 90/200\n",
      "511/511 - 18s - 36ms/step - accuracy: 0.7211 - loss: 0.7554 - val_accuracy: 0.2940 - val_loss: 2.2275\n",
      "Epoch 91/200\n",
      "511/511 - 19s - 36ms/step - accuracy: 0.7235 - loss: 0.7460 - val_accuracy: 0.3089 - val_loss: 2.2641\n",
      "Epoch 92/200\n",
      "511/511 - 19s - 36ms/step - accuracy: 0.7280 - loss: 0.7422 - val_accuracy: 0.3522 - val_loss: 2.2894\n",
      "Epoch 93/200\n",
      "511/511 - 19s - 37ms/step - accuracy: 0.7279 - loss: 0.7280 - val_accuracy: 0.3089 - val_loss: 2.2261\n",
      "Epoch 94/200\n",
      "511/511 - 19s - 37ms/step - accuracy: 0.7274 - loss: 0.7337 - val_accuracy: 0.3244 - val_loss: 2.2724\n",
      "Epoch 95/200\n",
      "511/511 - 18s - 36ms/step - accuracy: 0.7436 - loss: 0.7108 - val_accuracy: 0.3394 - val_loss: 2.2718\n",
      "Epoch 96/200\n",
      "511/511 - 18s - 36ms/step - accuracy: 0.7445 - loss: 0.7068 - val_accuracy: 0.2929 - val_loss: 2.3267\n",
      "Epoch 97/200\n",
      "511/511 - 18s - 36ms/step - accuracy: 0.7413 - loss: 0.7035 - val_accuracy: 0.3132 - val_loss: 2.3445\n",
      "Epoch 98/200\n",
      "511/511 - 18s - 36ms/step - accuracy: 0.7507 - loss: 0.6879 - val_accuracy: 0.3196 - val_loss: 2.3388\n",
      "Epoch 99/200\n",
      "511/511 - 18s - 36ms/step - accuracy: 0.7456 - loss: 0.6892 - val_accuracy: 0.3009 - val_loss: 2.3584\n",
      "Epoch 100/200\n",
      "511/511 - 18s - 36ms/step - accuracy: 0.7515 - loss: 0.6841 - val_accuracy: 0.2843 - val_loss: 2.4083\n",
      "Epoch 101/200\n",
      "511/511 - 18s - 36ms/step - accuracy: 0.7573 - loss: 0.6679 - val_accuracy: 0.3447 - val_loss: 2.3681\n",
      "Epoch 102/200\n",
      "511/511 - 18s - 36ms/step - accuracy: 0.7581 - loss: 0.6662 - val_accuracy: 0.3234 - val_loss: 2.3708\n",
      "Epoch 103/200\n",
      "511/511 - 18s - 36ms/step - accuracy: 0.7661 - loss: 0.6554 - val_accuracy: 0.3324 - val_loss: 2.4021\n",
      "Epoch 104/200\n",
      "511/511 - 19s - 36ms/step - accuracy: 0.7695 - loss: 0.6449 - val_accuracy: 0.3009 - val_loss: 2.4283\n",
      "Epoch 105/200\n",
      "511/511 - 19s - 36ms/step - accuracy: 0.7657 - loss: 0.6438 - val_accuracy: 0.2827 - val_loss: 2.4798\n",
      "Epoch 106/200\n",
      "511/511 - 19s - 36ms/step - accuracy: 0.7764 - loss: 0.6319 - val_accuracy: 0.3111 - val_loss: 2.4860\n",
      "Epoch 107/200\n",
      "511/511 - 18s - 36ms/step - accuracy: 0.7713 - loss: 0.6288 - val_accuracy: 0.3201 - val_loss: 2.4550\n",
      "Epoch 108/200\n",
      "511/511 - 18s - 36ms/step - accuracy: 0.7793 - loss: 0.6237 - val_accuracy: 0.3180 - val_loss: 2.4741\n",
      "Epoch 109/200\n",
      "511/511 - 18s - 36ms/step - accuracy: 0.7802 - loss: 0.6127 - val_accuracy: 0.2881 - val_loss: 2.4968\n",
      "Epoch 110/200\n",
      "511/511 - 18s - 35ms/step - accuracy: 0.7804 - loss: 0.6115 - val_accuracy: 0.3079 - val_loss: 2.5450\n",
      "Epoch 111/200\n",
      "511/511 - 18s - 35ms/step - accuracy: 0.7855 - loss: 0.5976 - val_accuracy: 0.3137 - val_loss: 2.5484\n",
      "Epoch 112/200\n",
      "511/511 - 18s - 35ms/step - accuracy: 0.7881 - loss: 0.5931 - val_accuracy: 0.3608 - val_loss: 2.6060\n",
      "Epoch 113/200\n",
      "511/511 - 18s - 35ms/step - accuracy: 0.7890 - loss: 0.5913 - val_accuracy: 0.3191 - val_loss: 2.5539\n",
      "Epoch 114/200\n",
      "511/511 - 18s - 35ms/step - accuracy: 0.7960 - loss: 0.5799 - val_accuracy: 0.3180 - val_loss: 2.5735\n",
      "Epoch 115/200\n",
      "511/511 - 18s - 35ms/step - accuracy: 0.7961 - loss: 0.5686 - val_accuracy: 0.2763 - val_loss: 2.6332\n",
      "Epoch 116/200\n",
      "511/511 - 18s - 35ms/step - accuracy: 0.8020 - loss: 0.5684 - val_accuracy: 0.3127 - val_loss: 2.6387\n",
      "Epoch 117/200\n",
      "511/511 - 18s - 36ms/step - accuracy: 0.8030 - loss: 0.5576 - val_accuracy: 0.3271 - val_loss: 2.6571\n",
      "Epoch 118/200\n",
      "511/511 - 18s - 36ms/step - accuracy: 0.8084 - loss: 0.5520 - val_accuracy: 0.2737 - val_loss: 2.6928\n",
      "Epoch 119/200\n",
      "511/511 - 19s - 36ms/step - accuracy: 0.8068 - loss: 0.5483 - val_accuracy: 0.2993 - val_loss: 2.6875\n",
      "Epoch 120/200\n",
      "511/511 - 19s - 37ms/step - accuracy: 0.8069 - loss: 0.5407 - val_accuracy: 0.3084 - val_loss: 2.7017\n",
      "Epoch 121/200\n",
      "511/511 - 18s - 36ms/step - accuracy: 0.8117 - loss: 0.5337 - val_accuracy: 0.3175 - val_loss: 2.7250\n",
      "Epoch 122/200\n",
      "511/511 - 18s - 36ms/step - accuracy: 0.8158 - loss: 0.5289 - val_accuracy: 0.3271 - val_loss: 2.7300\n",
      "Epoch 123/200\n",
      "511/511 - 18s - 36ms/step - accuracy: 0.8221 - loss: 0.5175 - val_accuracy: 0.2950 - val_loss: 2.7621\n",
      "Epoch 124/200\n",
      "511/511 - 18s - 36ms/step - accuracy: 0.8188 - loss: 0.5192 - val_accuracy: 0.3212 - val_loss: 2.7680\n",
      "Epoch 125/200\n",
      "511/511 - 18s - 36ms/step - accuracy: 0.8224 - loss: 0.5074 - val_accuracy: 0.2865 - val_loss: 2.7932\n",
      "Epoch 126/200\n",
      "511/511 - 18s - 36ms/step - accuracy: 0.8304 - loss: 0.4980 - val_accuracy: 0.3335 - val_loss: 2.7871\n",
      "Epoch 127/200\n",
      "511/511 - 18s - 35ms/step - accuracy: 0.8258 - loss: 0.5025 - val_accuracy: 0.3089 - val_loss: 2.8108\n",
      "Epoch 128/200\n",
      "511/511 - 18s - 35ms/step - accuracy: 0.8293 - loss: 0.4944 - val_accuracy: 0.3143 - val_loss: 2.8612\n",
      "Epoch 129/200\n",
      "511/511 - 18s - 35ms/step - accuracy: 0.8335 - loss: 0.4834 - val_accuracy: 0.3148 - val_loss: 2.8134\n",
      "Epoch 130/200\n",
      "511/511 - 17s - 34ms/step - accuracy: 0.8393 - loss: 0.4758 - val_accuracy: 0.2945 - val_loss: 2.8686\n",
      "Epoch 131/200\n",
      "511/511 - 17s - 34ms/step - accuracy: 0.8415 - loss: 0.4695 - val_accuracy: 0.3100 - val_loss: 2.8507\n",
      "Epoch 132/200\n",
      "511/511 - 18s - 35ms/step - accuracy: 0.8362 - loss: 0.4757 - val_accuracy: 0.2897 - val_loss: 2.8957\n",
      "Epoch 133/200\n",
      "511/511 - 18s - 35ms/step - accuracy: 0.8521 - loss: 0.4500 - val_accuracy: 0.2913 - val_loss: 2.9078\n",
      "Epoch 134/200\n",
      "511/511 - 18s - 35ms/step - accuracy: 0.8515 - loss: 0.4474 - val_accuracy: 0.2886 - val_loss: 2.9117\n",
      "Epoch 135/200\n",
      "511/511 - 18s - 35ms/step - accuracy: 0.8472 - loss: 0.4458 - val_accuracy: 0.2950 - val_loss: 2.9897\n",
      "Epoch 136/200\n",
      "511/511 - 18s - 35ms/step - accuracy: 0.8536 - loss: 0.4418 - val_accuracy: 0.2902 - val_loss: 2.9621\n",
      "Epoch 137/200\n",
      "511/511 - 18s - 36ms/step - accuracy: 0.8524 - loss: 0.4357 - val_accuracy: 0.3180 - val_loss: 3.0134\n",
      "Epoch 138/200\n",
      "511/511 - 18s - 36ms/step - accuracy: 0.8531 - loss: 0.4406 - val_accuracy: 0.3057 - val_loss: 3.0297\n",
      "Epoch 139/200\n",
      "511/511 - 18s - 36ms/step - accuracy: 0.8593 - loss: 0.4216 - val_accuracy: 0.3079 - val_loss: 3.0449\n",
      "Epoch 140/200\n",
      "511/511 - 19s - 36ms/step - accuracy: 0.8653 - loss: 0.4158 - val_accuracy: 0.3234 - val_loss: 3.1087\n",
      "Epoch 141/200\n",
      "511/511 - 18s - 36ms/step - accuracy: 0.8581 - loss: 0.4223 - val_accuracy: 0.2833 - val_loss: 3.1757\n",
      "Epoch 142/200\n",
      "511/511 - 18s - 36ms/step - accuracy: 0.8668 - loss: 0.4117 - val_accuracy: 0.3063 - val_loss: 3.1195\n",
      "Epoch 143/200\n",
      "511/511 - 18s - 36ms/step - accuracy: 0.8649 - loss: 0.4142 - val_accuracy: 0.3105 - val_loss: 3.1137\n",
      "Epoch 144/200\n",
      "511/511 - 18s - 35ms/step - accuracy: 0.8730 - loss: 0.3920 - val_accuracy: 0.3121 - val_loss: 3.1420\n",
      "Epoch 145/200\n",
      "511/511 - 18s - 35ms/step - accuracy: 0.8740 - loss: 0.3946 - val_accuracy: 0.2998 - val_loss: 3.2029\n",
      "Epoch 146/200\n",
      "511/511 - 18s - 35ms/step - accuracy: 0.8770 - loss: 0.3868 - val_accuracy: 0.2683 - val_loss: 3.2271\n",
      "Epoch 147/200\n",
      "511/511 - 18s - 36ms/step - accuracy: 0.8798 - loss: 0.3803 - val_accuracy: 0.2859 - val_loss: 3.2021\n",
      "Epoch 148/200\n",
      "511/511 - 18s - 36ms/step - accuracy: 0.8741 - loss: 0.3863 - val_accuracy: 0.3185 - val_loss: 3.2251\n",
      "Epoch 149/200\n",
      "511/511 - 18s - 36ms/step - accuracy: 0.8819 - loss: 0.3743 - val_accuracy: 0.3046 - val_loss: 3.2246\n",
      "Epoch 150/200\n",
      "511/511 - 19s - 36ms/step - accuracy: 0.8851 - loss: 0.3669 - val_accuracy: 0.3025 - val_loss: 3.2406\n",
      "Epoch 151/200\n",
      "511/511 - 18s - 36ms/step - accuracy: 0.8895 - loss: 0.3561 - val_accuracy: 0.3191 - val_loss: 3.2658\n",
      "Epoch 152/200\n",
      "511/511 - 18s - 36ms/step - accuracy: 0.8903 - loss: 0.3530 - val_accuracy: 0.2993 - val_loss: 3.2621\n",
      "Epoch 153/200\n",
      "511/511 - 19s - 36ms/step - accuracy: 0.8915 - loss: 0.3499 - val_accuracy: 0.3175 - val_loss: 3.3375\n",
      "Epoch 154/200\n",
      "511/511 - 18s - 36ms/step - accuracy: 0.8914 - loss: 0.3489 - val_accuracy: 0.3121 - val_loss: 3.3624\n",
      "Epoch 155/200\n",
      "511/511 - 18s - 36ms/step - accuracy: 0.8943 - loss: 0.3416 - val_accuracy: 0.2753 - val_loss: 3.3572\n",
      "Epoch 156/200\n",
      "511/511 - 18s - 36ms/step - accuracy: 0.8951 - loss: 0.3414 - val_accuracy: 0.3100 - val_loss: 3.4008\n",
      "Epoch 157/200\n",
      "511/511 - 18s - 36ms/step - accuracy: 0.8947 - loss: 0.3372 - val_accuracy: 0.2908 - val_loss: 3.4446\n",
      "Epoch 158/200\n",
      "511/511 - 18s - 36ms/step - accuracy: 0.8973 - loss: 0.3328 - val_accuracy: 0.2998 - val_loss: 3.4444\n",
      "Epoch 159/200\n",
      "511/511 - 18s - 35ms/step - accuracy: 0.9045 - loss: 0.3196 - val_accuracy: 0.3100 - val_loss: 3.5469\n",
      "Epoch 160/200\n",
      "511/511 - 18s - 35ms/step - accuracy: 0.9019 - loss: 0.3208 - val_accuracy: 0.2972 - val_loss: 3.5205\n",
      "Epoch 161/200\n",
      "511/511 - 18s - 35ms/step - accuracy: 0.9059 - loss: 0.3162 - val_accuracy: 0.3009 - val_loss: 3.4860\n",
      "Epoch 162/200\n",
      "511/511 - 18s - 36ms/step - accuracy: 0.9133 - loss: 0.3014 - val_accuracy: 0.2892 - val_loss: 3.5088\n",
      "Epoch 163/200\n",
      "511/511 - 18s - 36ms/step - accuracy: 0.9088 - loss: 0.3029 - val_accuracy: 0.2982 - val_loss: 3.5421\n",
      "Epoch 164/200\n",
      "511/511 - 18s - 36ms/step - accuracy: 0.9076 - loss: 0.3055 - val_accuracy: 0.2892 - val_loss: 3.5634\n",
      "Epoch 165/200\n",
      "511/511 - 18s - 36ms/step - accuracy: 0.9154 - loss: 0.2941 - val_accuracy: 0.2865 - val_loss: 3.6017\n",
      "Epoch 166/200\n",
      "511/511 - 18s - 35ms/step - accuracy: 0.9132 - loss: 0.2955 - val_accuracy: 0.2982 - val_loss: 3.6943\n",
      "Epoch 167/200\n",
      "511/511 - 18s - 35ms/step - accuracy: 0.9234 - loss: 0.2779 - val_accuracy: 0.2998 - val_loss: 3.6823\n",
      "Epoch 168/200\n",
      "511/511 - 18s - 35ms/step - accuracy: 0.9139 - loss: 0.2896 - val_accuracy: 0.2945 - val_loss: 3.6815\n",
      "Epoch 169/200\n",
      "511/511 - 18s - 35ms/step - accuracy: 0.9247 - loss: 0.2712 - val_accuracy: 0.3014 - val_loss: 3.7283\n",
      "Epoch 170/200\n",
      "511/511 - 18s - 36ms/step - accuracy: 0.9240 - loss: 0.2721 - val_accuracy: 0.3266 - val_loss: 3.7007\n",
      "Epoch 171/200\n",
      "511/511 - 18s - 36ms/step - accuracy: 0.9244 - loss: 0.2673 - val_accuracy: 0.2875 - val_loss: 3.7391\n",
      "Epoch 172/200\n",
      "511/511 - 18s - 36ms/step - accuracy: 0.9250 - loss: 0.2685 - val_accuracy: 0.3116 - val_loss: 3.7860\n",
      "Epoch 173/200\n",
      "511/511 - 18s - 36ms/step - accuracy: 0.9299 - loss: 0.2576 - val_accuracy: 0.2940 - val_loss: 3.8173\n",
      "Epoch 174/200\n",
      "511/511 - 18s - 36ms/step - accuracy: 0.9267 - loss: 0.2638 - val_accuracy: 0.3175 - val_loss: 3.7981\n",
      "Epoch 175/200\n",
      "511/511 - 18s - 36ms/step - accuracy: 0.9312 - loss: 0.2545 - val_accuracy: 0.3121 - val_loss: 3.9071\n",
      "Epoch 176/200\n",
      "511/511 - 18s - 36ms/step - accuracy: 0.9329 - loss: 0.2454 - val_accuracy: 0.2945 - val_loss: 3.9056\n",
      "Epoch 177/200\n",
      "511/511 - 18s - 35ms/step - accuracy: 0.9345 - loss: 0.2443 - val_accuracy: 0.2774 - val_loss: 3.9263\n",
      "Epoch 178/200\n",
      "511/511 - 18s - 35ms/step - accuracy: 0.9427 - loss: 0.2291 - val_accuracy: 0.3004 - val_loss: 3.9401\n",
      "Epoch 179/200\n",
      "511/511 - 18s - 35ms/step - accuracy: 0.9416 - loss: 0.2332 - val_accuracy: 0.3143 - val_loss: 3.9625\n",
      "Epoch 180/200\n",
      "511/511 - 18s - 35ms/step - accuracy: 0.9388 - loss: 0.2363 - val_accuracy: 0.2790 - val_loss: 4.0043\n",
      "Epoch 181/200\n",
      "511/511 - 18s - 36ms/step - accuracy: 0.9434 - loss: 0.2248 - val_accuracy: 0.2950 - val_loss: 4.0434\n",
      "Epoch 182/200\n",
      "511/511 - 18s - 36ms/step - accuracy: 0.9424 - loss: 0.2209 - val_accuracy: 0.2918 - val_loss: 4.0412\n",
      "Epoch 183/200\n",
      "511/511 - 18s - 35ms/step - accuracy: 0.9441 - loss: 0.2220 - val_accuracy: 0.3025 - val_loss: 3.9953\n",
      "Epoch 184/200\n",
      "511/511 - 18s - 35ms/step - accuracy: 0.9433 - loss: 0.2254 - val_accuracy: 0.2859 - val_loss: 4.1056\n",
      "Epoch 185/200\n",
      "511/511 - 18s - 35ms/step - accuracy: 0.9470 - loss: 0.2124 - val_accuracy: 0.2929 - val_loss: 4.1129\n",
      "Epoch 186/200\n",
      "511/511 - 18s - 35ms/step - accuracy: 0.9523 - loss: 0.2068 - val_accuracy: 0.3100 - val_loss: 4.1491\n",
      "Epoch 187/200\n",
      "511/511 - 18s - 35ms/step - accuracy: 0.9496 - loss: 0.2055 - val_accuracy: 0.2838 - val_loss: 4.1687\n",
      "Epoch 188/200\n",
      "511/511 - 18s - 35ms/step - accuracy: 0.9446 - loss: 0.2120 - val_accuracy: 0.2993 - val_loss: 4.3096\n",
      "Epoch 189/200\n",
      "511/511 - 18s - 36ms/step - accuracy: 0.9519 - loss: 0.2032 - val_accuracy: 0.2998 - val_loss: 4.3134\n",
      "Epoch 190/200\n",
      "511/511 - 18s - 36ms/step - accuracy: 0.9520 - loss: 0.2075 - val_accuracy: 0.3009 - val_loss: 4.1952\n",
      "Epoch 191/200\n",
      "511/511 - 18s - 36ms/step - accuracy: 0.9530 - loss: 0.1987 - val_accuracy: 0.2977 - val_loss: 4.2880\n",
      "Epoch 192/200\n",
      "511/511 - 18s - 36ms/step - accuracy: 0.9568 - loss: 0.1900 - val_accuracy: 0.2972 - val_loss: 4.2660\n",
      "Epoch 193/200\n",
      "511/511 - 18s - 36ms/step - accuracy: 0.9580 - loss: 0.1906 - val_accuracy: 0.3036 - val_loss: 4.3313\n",
      "Epoch 194/200\n",
      "511/511 - 19s - 36ms/step - accuracy: 0.9590 - loss: 0.1838 - val_accuracy: 0.2753 - val_loss: 4.3587\n",
      "Epoch 195/200\n",
      "511/511 - 18s - 36ms/step - accuracy: 0.9632 - loss: 0.1781 - val_accuracy: 0.2859 - val_loss: 4.3145\n",
      "Epoch 196/200\n",
      "511/511 - 18s - 36ms/step - accuracy: 0.9569 - loss: 0.1806 - val_accuracy: 0.2966 - val_loss: 4.2969\n",
      "Epoch 197/200\n",
      "511/511 - 19s - 36ms/step - accuracy: 0.9562 - loss: 0.1848 - val_accuracy: 0.2908 - val_loss: 4.4614\n",
      "Epoch 198/200\n",
      "511/511 - 18s - 36ms/step - accuracy: 0.9621 - loss: 0.1726 - val_accuracy: 0.3063 - val_loss: 4.4602\n",
      "Epoch 199/200\n",
      "511/511 - 19s - 36ms/step - accuracy: 0.9657 - loss: 0.1660 - val_accuracy: 0.2897 - val_loss: 4.4535\n",
      "Epoch 200/200\n",
      "511/511 - 18s - 36ms/step - accuracy: 0.9661 - loss: 0.1598 - val_accuracy: 0.3073 - val_loss: 4.4599\n"
     ]
    }
   ],
   "execution_count": 21
  },
  {
   "metadata": {
    "ExecuteTime": {
     "end_time": "2025-02-22T22:24:40.668965Z",
     "start_time": "2025-02-22T22:24:40.637955Z"
    }
   },
   "cell_type": "code",
   "source": [
    "# Save the entire model (architecture, weights, and optimizer state)\n",
    "model.save(\"../models/coavarep_unimodal_baseline_model.h5\")"
   ],
   "id": "341868fc9ed49140",
   "outputs": [
    {
     "name": "stderr",
     "output_type": "stream",
     "text": [
      "WARNING:absl:You are saving your model as an HDF5 file via `model.save()` or `keras.saving.save_model(model)`. This file format is considered legacy. We recommend using instead the native Keras format, e.g. `model.save('my_model.keras')` or `keras.saving.save_model(model, 'my_model.keras')`. \n"
     ]
    }
   ],
   "execution_count": 64
  },
  {
   "metadata": {},
   "cell_type": "markdown",
   "source": "### Evaluating Model - Predictions and Metrics",
   "id": "ae612d344194ec80"
  },
  {
   "metadata": {
    "ExecuteTime": {
     "end_time": "2025-02-22T22:15:29.120928Z",
     "start_time": "2025-02-22T22:15:27.574044Z"
    }
   },
   "cell_type": "code",
   "source": "y_predict = np.argmax(model.predict(X_test_reshape), axis=1)",
   "id": "7b2198d41b97b9c6",
   "outputs": [
    {
     "name": "stdout",
     "output_type": "stream",
     "text": [
      "\u001B[1m146/146\u001B[0m \u001B[32m━━━━━━━━━━━━━━━━━━━━\u001B[0m\u001B[37m\u001B[0m \u001B[1m1s\u001B[0m 10ms/step\n"
     ]
    }
   ],
   "execution_count": 54
  },
  {
   "metadata": {
    "ExecuteTime": {
     "end_time": "2025-02-22T22:16:08.332374Z",
     "start_time": "2025-02-22T22:16:08.323754Z"
    }
   },
   "cell_type": "code",
   "source": [
    "# Compute the confusion matrix\n",
    "cm = confusion_matrix(Y_test_reshape, y_predict, normalize='true')\n",
    "\n",
    "# Compute precision, recall, and f1-score using classification_report\n",
    "report = classification_report(Y_test_reshape, y_predict)\n",
    "print(\"Classification Report:\")\n",
    "print(report)"
   ],
   "id": "58c1fcc3670846d5",
   "outputs": [
    {
     "name": "stdout",
     "output_type": "stream",
     "text": [
      "Classification Report:\n",
      "              precision    recall  f1-score   support\n",
      "\n",
      "           0       0.00      0.00      0.00        70\n",
      "           1       0.15      0.12      0.13       399\n",
      "           2       0.12      0.14      0.13       554\n",
      "           3       0.42      0.49      0.45      1927\n",
      "           4       0.28      0.28      0.28      1230\n",
      "           5       0.11      0.06      0.07       441\n",
      "           6       0.00      0.00      0.00        41\n",
      "\n",
      "    accuracy                           0.31      4662\n",
      "   macro avg       0.16      0.15      0.15      4662\n",
      "weighted avg       0.29      0.31      0.30      4662\n",
      "\n"
     ]
    }
   ],
   "execution_count": 59
  },
  {
   "metadata": {
    "ExecuteTime": {
     "end_time": "2025-02-25T04:36:09.952768Z",
     "start_time": "2025-02-25T04:36:09.753664Z"
    }
   },
   "cell_type": "code",
   "source": [
    "fig, ax = plt.subplots(figsize=(4, 3))\n",
    "sns.heatmap(cm, annot=True, fmt=\".2f\", xticklabels=np.arange(-3, 3.1).astype(int),\n",
    "\t\t\tyticklabels=np.arange(-3, 3.1).astype(int), ax=ax)\n",
    "ax.set_xlabel(\"Predicted Labels\")\n",
    "ax.set_ylabel(\"True Labels\")\n",
    "ax.set_title(\"COAVAREP Unimodal CNN\")\n",
    "plt.show()\n",
    "fig.savefig('../figures/coavarep_unimodal_baseline_confusion_matrix.png', bbox_inches='tight', dpi=300)"
   ],
   "id": "7a716ee72f303768",
   "outputs": [
    {
     "data": {
      "text/plain": [
       "<Figure size 400x300 with 2 Axes>"
      ],
      "image/png": "[encoded data removed]"
     },
     "metadata": {},
     "output_type": "display_data"
    }
   ],
   "execution_count": 68
  },
  {
   "metadata": {},
   "cell_type": "code",
   "outputs": [],
   "execution_count": null,
   "source": "",
   "id": "bb37a885b21ad8e8"
  }
 ],
 "metadata": {
  "kernelspec": {
   "display_name": "Python 3",
   "language": "python",
   "name": "python3"
  },
  "language_info": {
   "codemirror_mode": {
    "name": "ipython",
    "version": 2
   },
   "file_extension": ".py",
   "mimetype": "text/x-python",
   "name": "python",
   "nbconvert_exporter": "python",
   "pygments_lexer": "ipython2",
   "version": "2.7.6"
  }
 },
 "nbformat": 4,
 "nbformat_minor": 5
}

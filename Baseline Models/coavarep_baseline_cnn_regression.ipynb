{
 "cells": [
  {
   "metadata": {},
   "cell_type": "markdown",
   "source": [
    "---\n",
    "\n",
    "## CoAVAREP Features\n",
    "\n",
    "CoAVAREP is designed to extract features from audio signals, focusing on the acoustic aspects of speech.\n",
    "\n",
    "### Modality\n",
    "- **Type:** Audio\n",
    "- **Purpose:**\n",
    "  - Captures acoustic and paralinguistic characteristics (e.g., pitch, prosody, voice quality, spectral properties)\n",
    "\n",
    "### Feature Extraction\n",
    "- **Method:** Utilizes signal processing algorithms\n",
    "- **Dimensionality:** Determined by the number of computed acoustic features (varies based on configuration)\n",
    "- **Applications:**\n",
    "  - Emotion Recognition\n",
    "  - Speaker Identification\n",
    "  - Voice Quality Assessment\n",
    "\n",
    "---\n",
    "\n"
   ],
   "id": "8f96a0d6b99d548a"
  },
  {
   "metadata": {},
   "cell_type": "markdown",
   "source": "### Importing Libraries",
   "id": "6b6577081b9270c3"
  },
  {
   "metadata": {
    "collapsed": true,
    "ExecuteTime": {
     "end_time": "2025-02-26T04:51:05.423544Z",
     "start_time": "2025-02-26T04:51:05.421038Z"
    }
   },
   "cell_type": "code",
   "source": [
    "import pickle\n",
    "\n",
    "import matplotlib.pyplot as plt\n",
    "import numpy as np\n",
    "import seaborn as sns\n",
    "from sklearn.metrics import confusion_matrix, classification_report\n",
    "from tensorflow.keras.layers import (\n",
    "\tConv2D,\n",
    "\tMaxPooling2D,\n",
    "\tAveragePooling2D,\n",
    "\tFlatten,\n",
    "\tDense,\n",
    ")\n",
    "from tensorflow.keras.models import Sequential\n",
    "from tensorflow.keras.optimizers import Adam\n",
    "from sklearn.metrics import mean_absolute_error, r2_score\n",
    "from scipy.stats import pearsonr"
   ],
   "id": "initial_id",
   "outputs": [],
   "execution_count": 12
  },
  {
   "metadata": {},
   "cell_type": "markdown",
   "source": "### Loading Data Tensors",
   "id": "6a149b08c4e65582"
  },
  {
   "metadata": {
    "ExecuteTime": {
     "end_time": "2025-02-26T03:47:40.168744Z",
     "start_time": "2025-02-26T03:47:36.158136Z"
    }
   },
   "cell_type": "code",
   "source": [
    "with open('../data/tensors.pkl', 'rb') as fr:\n",
    "    data_tensors = pickle.load(fr)"
   ],
   "id": "7debe840d5d7da0",
   "outputs": [],
   "execution_count": 2
  },
  {
   "metadata": {},
   "cell_type": "markdown",
   "source": "### Prepare Data into Partitions that make sense",
   "id": "22c4557af2bf127e"
  },
  {
   "metadata": {
    "ExecuteTime": {
     "end_time": "2025-02-26T03:47:40.233464Z",
     "start_time": "2025-02-26T03:47:40.231373Z"
    }
   },
   "cell_type": "code",
   "source": [
    "partitions_ = data_tensors[1]\n",
    "data_all = data_tensors[0]\n",
    "data_partitions = {partitions_[0]: data_all[0], partitions_[1]: data_all[1], partitions_[2]: data_all[2]}\n"
   ],
   "id": "b44d166ab988bd15",
   "outputs": [],
   "execution_count": 3
  },
  {
   "metadata": {
    "ExecuteTime": {
     "end_time": "2025-02-26T03:47:40.243763Z",
     "start_time": "2025-02-26T03:47:40.240313Z"
    }
   },
   "cell_type": "code",
   "source": "data_partitions['train'].keys()",
   "id": "890ff4c87099819",
   "outputs": [
    {
     "data": {
      "text/plain": [
       "dict_keys(['COAVAREP', 'FACET 4.2', 'OpenFace_2.0', 'All Labels', 'glove_vectors', 'OpenSMILE'])"
      ]
     },
     "execution_count": 4,
     "metadata": {},
     "output_type": "execute_result"
    }
   ],
   "execution_count": 4
  },
  {
   "metadata": {
    "ExecuteTime": {
     "end_time": "2025-02-26T03:47:40.254123Z",
     "start_time": "2025-02-26T03:47:40.251675Z"
    }
   },
   "cell_type": "code",
   "source": "data_partitions['train']['COAVAREP'].shape",
   "id": "47b466614c449253",
   "outputs": [
    {
     "data": {
      "text/plain": [
       "(16327, 50, 74)"
      ]
     },
     "execution_count": 5,
     "metadata": {},
     "output_type": "execute_result"
    }
   ],
   "execution_count": 5
  },
  {
   "metadata": {},
   "cell_type": "markdown",
   "source": "### Exploring Training Data Distribution",
   "id": "82281513ccc400a"
  },
  {
   "metadata": {
    "ExecuteTime": {
     "end_time": "2025-02-26T03:47:40.404909Z",
     "start_time": "2025-02-26T03:47:40.322087Z"
    }
   },
   "cell_type": "code",
   "source": [
    "# looking at sentiment probability distribution in train\n",
    "fig, ax = plt.subplots(figsize=(4, 3))\n",
    "ax.hist(data_partitions['train']['All Labels'][:, :, 0])\n",
    "ax.set_xlabel(\"Sentiment Levels (Raw)\")\n",
    "ax.set_ylabel(\"Count\")\n",
    "ax.set_title('Sentiment Count Distribution for Training Data')\n",
    "plt.show()"
   ],
   "id": "cfc456d2ae9c8103",
   "outputs": [
    {
     "data": {
      "text/plain": [
       "<Figure size 400x300 with 1 Axes>"
      ],
      "image/png": "[encoded data removed]"
     },
     "metadata": {},
     "output_type": "display_data"
    }
   ],
   "execution_count": 6
  },
  {
   "metadata": {},
   "cell_type": "markdown",
   "source": "### Extract COAVAREP Only",
   "id": "6cec1ad69c08a54e"
  },
  {
   "metadata": {
    "ExecuteTime": {
     "end_time": "2025-02-26T03:47:40.513627Z",
     "start_time": "2025-02-26T03:47:40.510869Z"
    }
   },
   "cell_type": "code",
   "source": [
    "for k in data_partitions['train'].keys():\n",
    "    if k == 'COAVAREP':\n",
    "        X_train = data_partitions['train'][k]\n",
    "        X_test = data_partitions['test'][k]\n",
    "        X_val = data_partitions['valid'][k]\n",
    "        print(f'{k} has dimension {X_train.shape[1:]}')"
   ],
   "id": "76cde0ce0a5311b4",
   "outputs": [
    {
     "name": "stdout",
     "output_type": "stream",
     "text": [
      "COAVAREP has dimension (50, 74)\n"
     ]
    }
   ],
   "execution_count": 7
  },
  {
   "metadata": {},
   "cell_type": "markdown",
   "source": "### Preparing Labels for Training, Testing, and Validation",
   "id": "47eb9bd886d5a2e6"
  },
  {
   "metadata": {
    "ExecuteTime": {
     "end_time": "2025-02-26T03:47:52.414458Z",
     "start_time": "2025-02-26T03:47:52.411820Z"
    }
   },
   "cell_type": "code",
   "source": [
    "# Use continuous sentiment values for regression:\n",
    "emo_selected = 0  # sentiment index\n",
    "Y_train = data_partitions['train']['All Labels'][:, :, emo_selected]\n",
    "Y_test = data_partitions['test']['All Labels'][:, :, emo_selected]\n",
    "Y_val = data_partitions['valid']['All Labels'][:, :, emo_selected]\n",
    "\n",
    "print(Y_train.shape, Y_test.shape, Y_val.shape)\n"
   ],
   "id": "5fa3848dc091732f",
   "outputs": [
    {
     "name": "stdout",
     "output_type": "stream",
     "text": [
      "(16327, 1) (4662, 1) (1871, 1)\n"
     ]
    }
   ],
   "execution_count": 8
  },
  {
   "metadata": {},
   "cell_type": "markdown",
   "source": "### Building the CNN Model",
   "id": "2f0480b8736f0a1b"
  },
  {
   "metadata": {
    "ExecuteTime": {
     "end_time": "2025-02-26T03:48:04.490856Z",
     "start_time": "2025-02-26T03:48:04.432861Z"
    }
   },
   "cell_type": "code",
   "source": [
    "input_dim_1 = X_train.shape[1]\n",
    "input_dim_2 = X_train.shape[2]\n",
    "\n",
    "model = Sequential()\n",
    "\n",
    "# 1st convolution layer\n",
    "model.add(Conv2D(64, (5, 5), activation=\"relu\", input_shape=(input_dim_1, input_dim_2, 1)))\n",
    "model.add(MaxPooling2D(pool_size=(5, 5), strides=(2, 2)))\n",
    "\n",
    "# 2nd convolution layer\n",
    "model.add(Conv2D(128, (3, 3), activation=\"relu\"))\n",
    "model.add(AveragePooling2D(pool_size=(3, 3), strides=(2, 2)))\n",
    "\n",
    "model.add(Flatten())\n",
    "\n",
    "# Regression output layer: 1 neuron with linear activation\n",
    "model.add(Dense(1, activation=\"linear\"))\n",
    "\n",
    "# Compile the model with a regression loss and metric\n",
    "model.compile(optimizer=Adam(learning_rate=0.0001),\n",
    "              loss='mse',\n",
    "              metrics=['mae'])"
   ],
   "id": "51da9e337c4892a5",
   "outputs": [
    {
     "name": "stderr",
     "output_type": "stream",
     "text": [
      "/Users/alexanderhsu/Documents/GitHub/11777-EMOji/venv/lib/python3.9/site-packages/keras/src/layers/convolutional/base_conv.py:107: UserWarning: Do not pass an `input_shape`/`input_dim` argument to a layer. When using Sequential models, prefer using an `Input(shape)` object as the first layer in the model instead.\n",
      "  super().__init__(activity_regularizer=activity_regularizer, **kwargs)\n"
     ]
    }
   ],
   "execution_count": 9
  },
  {
   "metadata": {},
   "cell_type": "markdown",
   "source": "### Preparing Data for Model Training",
   "id": "222ee1e36dbace6c"
  },
  {
   "metadata": {
    "ExecuteTime": {
     "end_time": "2025-02-26T03:48:12.032917Z",
     "start_time": "2025-02-26T03:48:11.608251Z"
    }
   },
   "cell_type": "code",
   "source": [
    "# Reshape the data\n",
    "X_train_reshape = X_train.reshape(-1, input_dim_1, input_dim_2, 1)\n",
    "Y_train_reshape = np.array(Y_train).reshape(-1, 1)\n",
    "X_test_reshape = X_test.reshape(-1, input_dim_1, input_dim_2, 1)\n",
    "Y_test_reshape = np.array(Y_test).reshape(-1, 1)\n",
    "X_val_reshape = X_val.reshape(-1, input_dim_1, input_dim_2, 1)\n",
    "Y_val_reshape = np.array(Y_val).reshape(-1, 1)\n",
    "\n",
    "# Handle potential Inf values in features\n",
    "X_train_reshape[np.isinf(X_train_reshape)] = np.nan\n",
    "X_train_reshape = np.nan_to_num(X_train_reshape, nan=np.nanmax(X_train_reshape))\n",
    "X_test_reshape[np.isinf(X_test_reshape)] = np.nan\n",
    "X_test_reshape = np.nan_to_num(X_test_reshape, nan=np.nanmax(X_test_reshape))\n",
    "X_val_reshape[np.isinf(X_val_reshape)] = np.nan\n",
    "X_val_reshape = np.nan_to_num(X_val_reshape, nan=np.nanmax(X_val_reshape))\n"
   ],
   "id": "a069070c69cbe7ee",
   "outputs": [],
   "execution_count": 10
  },
  {
   "metadata": {},
   "cell_type": "markdown",
   "source": "### Training the Model",
   "id": "a9e6e8e81994ad1c"
  },
  {
   "metadata": {
    "ExecuteTime": {
     "end_time": "2025-02-26T04:51:05.401038Z",
     "start_time": "2025-02-26T03:48:20.337280Z"
    }
   },
   "cell_type": "code",
   "source": [
    "history = model.fit(X_train_reshape, \n",
    "                    Y_train_reshape, \n",
    "                    epochs=200,\n",
    "                    batch_size=32,\n",
    "                    validation_data=(X_val_reshape, Y_val_reshape),\n",
    "                    verbose=2)"
   ],
   "id": "b54221325ded8c6b",
   "outputs": [
    {
     "name": "stdout",
     "output_type": "stream",
     "text": [
      "Epoch 1/200\n",
      "511/511 - 17s - 34ms/step - loss: 1.2879 - mae: 0.8552 - val_loss: 1.1151 - val_mae: 0.8003\n",
      "Epoch 2/200\n",
      "511/511 - 17s - 32ms/step - loss: 1.2475 - mae: 0.8427 - val_loss: 1.0812 - val_mae: 0.7823\n",
      "Epoch 3/200\n",
      "511/511 - 17s - 32ms/step - loss: 1.2318 - mae: 0.8364 - val_loss: 1.0540 - val_mae: 0.7706\n",
      "Epoch 4/200\n",
      "511/511 - 17s - 32ms/step - loss: 1.2183 - mae: 0.8335 - val_loss: 1.0607 - val_mae: 0.7780\n",
      "Epoch 5/200\n",
      "511/511 - 17s - 33ms/step - loss: 1.2138 - mae: 0.8332 - val_loss: 1.0528 - val_mae: 0.7737\n",
      "Epoch 6/200\n",
      "511/511 - 17s - 32ms/step - loss: 1.2015 - mae: 0.8291 - val_loss: 1.0854 - val_mae: 0.7926\n",
      "Epoch 7/200\n",
      "511/511 - 17s - 33ms/step - loss: 1.1980 - mae: 0.8301 - val_loss: 1.0638 - val_mae: 0.7798\n",
      "Epoch 8/200\n",
      "511/511 - 17s - 33ms/step - loss: 1.1903 - mae: 0.8282 - val_loss: 1.0763 - val_mae: 0.7886\n",
      "Epoch 9/200\n",
      "511/511 - 17s - 33ms/step - loss: 1.1864 - mae: 0.8279 - val_loss: 1.0606 - val_mae: 0.7795\n",
      "Epoch 10/200\n",
      "511/511 - 17s - 32ms/step - loss: 1.1764 - mae: 0.8248 - val_loss: 1.0942 - val_mae: 0.7992\n",
      "Epoch 11/200\n",
      "511/511 - 17s - 32ms/step - loss: 1.1722 - mae: 0.8236 - val_loss: 1.0724 - val_mae: 0.7883\n",
      "Epoch 12/200\n",
      "511/511 - 17s - 33ms/step - loss: 1.1605 - mae: 0.8199 - val_loss: 1.0858 - val_mae: 0.7949\n",
      "Epoch 13/200\n",
      "511/511 - 17s - 32ms/step - loss: 1.1593 - mae: 0.8203 - val_loss: 1.0962 - val_mae: 0.8008\n",
      "Epoch 14/200\n",
      "511/511 - 17s - 33ms/step - loss: 1.1497 - mae: 0.8177 - val_loss: 1.1236 - val_mae: 0.8156\n",
      "Epoch 15/200\n",
      "511/511 - 17s - 33ms/step - loss: 1.1455 - mae: 0.8168 - val_loss: 1.0828 - val_mae: 0.7909\n",
      "Epoch 16/200\n",
      "511/511 - 17s - 33ms/step - loss: 1.1351 - mae: 0.8129 - val_loss: 1.1056 - val_mae: 0.8061\n",
      "Epoch 17/200\n",
      "511/511 - 17s - 33ms/step - loss: 1.1293 - mae: 0.8126 - val_loss: 1.1042 - val_mae: 0.8077\n",
      "Epoch 18/200\n",
      "511/511 - 17s - 33ms/step - loss: 1.1214 - mae: 0.8109 - val_loss: 1.1020 - val_mae: 0.8076\n",
      "Epoch 19/200\n",
      "511/511 - 17s - 34ms/step - loss: 1.1162 - mae: 0.8090 - val_loss: 1.1318 - val_mae: 0.8217\n",
      "Epoch 20/200\n",
      "511/511 - 17s - 34ms/step - loss: 1.1118 - mae: 0.8078 - val_loss: 1.0999 - val_mae: 0.8052\n",
      "Epoch 21/200\n",
      "511/511 - 17s - 34ms/step - loss: 1.1034 - mae: 0.8055 - val_loss: 1.1094 - val_mae: 0.8105\n",
      "Epoch 22/200\n",
      "511/511 - 17s - 34ms/step - loss: 1.0962 - mae: 0.8035 - val_loss: 1.1620 - val_mae: 0.8362\n",
      "Epoch 23/200\n",
      "511/511 - 17s - 34ms/step - loss: 1.0918 - mae: 0.8031 - val_loss: 1.1142 - val_mae: 0.8146\n",
      "Epoch 24/200\n",
      "511/511 - 17s - 34ms/step - loss: 1.0832 - mae: 0.7994 - val_loss: 1.0983 - val_mae: 0.8085\n",
      "Epoch 25/200\n",
      "511/511 - 17s - 34ms/step - loss: 1.0794 - mae: 0.8001 - val_loss: 1.1331 - val_mae: 0.8236\n",
      "Epoch 26/200\n",
      "511/511 - 17s - 33ms/step - loss: 1.0707 - mae: 0.7961 - val_loss: 1.1200 - val_mae: 0.8171\n",
      "Epoch 27/200\n",
      "511/511 - 17s - 33ms/step - loss: 1.0638 - mae: 0.7936 - val_loss: 1.1298 - val_mae: 0.8223\n",
      "Epoch 28/200\n",
      "511/511 - 17s - 34ms/step - loss: 1.0602 - mae: 0.7929 - val_loss: 1.1056 - val_mae: 0.8132\n",
      "Epoch 29/200\n",
      "511/511 - 18s - 35ms/step - loss: 1.0506 - mae: 0.7896 - val_loss: 1.1265 - val_mae: 0.8231\n",
      "Epoch 30/200\n",
      "511/511 - 17s - 34ms/step - loss: 1.0458 - mae: 0.7875 - val_loss: 1.1491 - val_mae: 0.8327\n",
      "Epoch 31/200\n",
      "511/511 - 18s - 35ms/step - loss: 1.0404 - mae: 0.7860 - val_loss: 1.1255 - val_mae: 0.8236\n",
      "Epoch 32/200\n",
      "511/511 - 17s - 34ms/step - loss: 1.0323 - mae: 0.7835 - val_loss: 1.1254 - val_mae: 0.8205\n",
      "Epoch 33/200\n",
      "511/511 - 17s - 34ms/step - loss: 1.0253 - mae: 0.7820 - val_loss: 1.1145 - val_mae: 0.8199\n",
      "Epoch 34/200\n",
      "511/511 - 17s - 34ms/step - loss: 1.0192 - mae: 0.7800 - val_loss: 1.1459 - val_mae: 0.8298\n",
      "Epoch 35/200\n",
      "511/511 - 17s - 34ms/step - loss: 1.0147 - mae: 0.7778 - val_loss: 1.1283 - val_mae: 0.8214\n",
      "Epoch 36/200\n",
      "511/511 - 17s - 34ms/step - loss: 1.0053 - mae: 0.7750 - val_loss: 1.1591 - val_mae: 0.8384\n",
      "Epoch 37/200\n",
      "511/511 - 17s - 34ms/step - loss: 0.9990 - mae: 0.7723 - val_loss: 1.1496 - val_mae: 0.8313\n",
      "Epoch 38/200\n",
      "511/511 - 17s - 34ms/step - loss: 0.9885 - mae: 0.7691 - val_loss: 1.1481 - val_mae: 0.8359\n",
      "Epoch 39/200\n",
      "511/511 - 17s - 34ms/step - loss: 0.9898 - mae: 0.7700 - val_loss: 1.1400 - val_mae: 0.8280\n",
      "Epoch 40/200\n",
      "511/511 - 17s - 33ms/step - loss: 0.9785 - mae: 0.7660 - val_loss: 1.1617 - val_mae: 0.8373\n",
      "Epoch 41/200\n",
      "511/511 - 17s - 34ms/step - loss: 0.9708 - mae: 0.7633 - val_loss: 1.1700 - val_mae: 0.8441\n",
      "Epoch 42/200\n",
      "511/511 - 17s - 34ms/step - loss: 0.9665 - mae: 0.7619 - val_loss: 1.1679 - val_mae: 0.8425\n",
      "Epoch 43/200\n",
      "511/511 - 17s - 34ms/step - loss: 0.9634 - mae: 0.7620 - val_loss: 1.1776 - val_mae: 0.8449\n",
      "Epoch 44/200\n",
      "511/511 - 17s - 34ms/step - loss: 0.9531 - mae: 0.7573 - val_loss: 1.1867 - val_mae: 0.8428\n",
      "Epoch 45/200\n",
      "511/511 - 17s - 34ms/step - loss: 0.9464 - mae: 0.7543 - val_loss: 1.1609 - val_mae: 0.8404\n",
      "Epoch 46/200\n",
      "511/511 - 17s - 34ms/step - loss: 0.9386 - mae: 0.7506 - val_loss: 1.1933 - val_mae: 0.8521\n",
      "Epoch 47/200\n",
      "511/511 - 17s - 34ms/step - loss: 0.9312 - mae: 0.7507 - val_loss: 1.2105 - val_mae: 0.8569\n",
      "Epoch 48/200\n",
      "511/511 - 18s - 35ms/step - loss: 0.9260 - mae: 0.7473 - val_loss: 1.2206 - val_mae: 0.8684\n",
      "Epoch 49/200\n",
      "511/511 - 18s - 36ms/step - loss: 0.9172 - mae: 0.7454 - val_loss: 1.2302 - val_mae: 0.8643\n",
      "Epoch 50/200\n",
      "511/511 - 18s - 36ms/step - loss: 0.9196 - mae: 0.7461 - val_loss: 1.1732 - val_mae: 0.8444\n",
      "Epoch 51/200\n",
      "511/511 - 18s - 35ms/step - loss: 0.9034 - mae: 0.7394 - val_loss: 1.2164 - val_mae: 0.8621\n",
      "Epoch 52/200\n",
      "511/511 - 18s - 36ms/step - loss: 0.8971 - mae: 0.7370 - val_loss: 1.2293 - val_mae: 0.8650\n",
      "Epoch 53/200\n",
      "511/511 - 19s - 36ms/step - loss: 0.8922 - mae: 0.7359 - val_loss: 1.2369 - val_mae: 0.8689\n",
      "Epoch 54/200\n",
      "511/511 - 18s - 35ms/step - loss: 0.8903 - mae: 0.7355 - val_loss: 1.2108 - val_mae: 0.8565\n",
      "Epoch 55/200\n",
      "511/511 - 18s - 35ms/step - loss: 0.8782 - mae: 0.7292 - val_loss: 1.1923 - val_mae: 0.8582\n",
      "Epoch 56/200\n",
      "511/511 - 18s - 35ms/step - loss: 0.8720 - mae: 0.7280 - val_loss: 1.1981 - val_mae: 0.8574\n",
      "Epoch 57/200\n",
      "511/511 - 18s - 35ms/step - loss: 0.8578 - mae: 0.7224 - val_loss: 1.2345 - val_mae: 0.8693\n",
      "Epoch 58/200\n",
      "511/511 - 18s - 35ms/step - loss: 0.8584 - mae: 0.7223 - val_loss: 1.2491 - val_mae: 0.8742\n",
      "Epoch 59/200\n",
      "511/511 - 18s - 35ms/step - loss: 0.8523 - mae: 0.7188 - val_loss: 1.2570 - val_mae: 0.8770\n",
      "Epoch 60/200\n",
      "511/511 - 18s - 35ms/step - loss: 0.8496 - mae: 0.7190 - val_loss: 1.2538 - val_mae: 0.8734\n",
      "Epoch 61/200\n",
      "511/511 - 18s - 35ms/step - loss: 0.8357 - mae: 0.7153 - val_loss: 1.2590 - val_mae: 0.8747\n",
      "Epoch 62/200\n",
      "511/511 - 18s - 35ms/step - loss: 0.8347 - mae: 0.7133 - val_loss: 1.2704 - val_mae: 0.8781\n",
      "Epoch 63/200\n",
      "511/511 - 18s - 35ms/step - loss: 0.8319 - mae: 0.7134 - val_loss: 1.2535 - val_mae: 0.8734\n",
      "Epoch 64/200\n",
      "511/511 - 18s - 35ms/step - loss: 0.8128 - mae: 0.7041 - val_loss: 1.2888 - val_mae: 0.8877\n",
      "Epoch 65/200\n",
      "511/511 - 18s - 35ms/step - loss: 0.8199 - mae: 0.7079 - val_loss: 1.2425 - val_mae: 0.8719\n",
      "Epoch 66/200\n",
      "511/511 - 18s - 35ms/step - loss: 0.8107 - mae: 0.7045 - val_loss: 1.2625 - val_mae: 0.8763\n",
      "Epoch 67/200\n",
      "511/511 - 18s - 35ms/step - loss: 0.8007 - mae: 0.6992 - val_loss: 1.3225 - val_mae: 0.8922\n",
      "Epoch 68/200\n",
      "511/511 - 18s - 35ms/step - loss: 0.7891 - mae: 0.6956 - val_loss: 1.3262 - val_mae: 0.8947\n",
      "Epoch 69/200\n",
      "511/511 - 18s - 35ms/step - loss: 0.7849 - mae: 0.6927 - val_loss: 1.2720 - val_mae: 0.8799\n",
      "Epoch 70/200\n",
      "511/511 - 18s - 36ms/step - loss: 0.7780 - mae: 0.6898 - val_loss: 1.2865 - val_mae: 0.8889\n",
      "Epoch 71/200\n",
      "511/511 - 18s - 36ms/step - loss: 0.7752 - mae: 0.6881 - val_loss: 1.2812 - val_mae: 0.8883\n",
      "Epoch 72/200\n",
      "511/511 - 18s - 35ms/step - loss: 0.7667 - mae: 0.6860 - val_loss: 1.3048 - val_mae: 0.8948\n",
      "Epoch 73/200\n",
      "511/511 - 18s - 36ms/step - loss: 0.7554 - mae: 0.6805 - val_loss: 1.2886 - val_mae: 0.8879\n",
      "Epoch 74/200\n",
      "511/511 - 18s - 36ms/step - loss: 0.7543 - mae: 0.6815 - val_loss: 1.3362 - val_mae: 0.9037\n",
      "Epoch 75/200\n",
      "511/511 - 18s - 36ms/step - loss: 0.7514 - mae: 0.6782 - val_loss: 1.3253 - val_mae: 0.9044\n",
      "Epoch 76/200\n",
      "511/511 - 18s - 36ms/step - loss: 0.7421 - mae: 0.6763 - val_loss: 1.3124 - val_mae: 0.8996\n",
      "Epoch 77/200\n",
      "511/511 - 18s - 36ms/step - loss: 0.7317 - mae: 0.6713 - val_loss: 1.3805 - val_mae: 0.9224\n",
      "Epoch 78/200\n",
      "511/511 - 19s - 37ms/step - loss: 0.7264 - mae: 0.6691 - val_loss: 1.3320 - val_mae: 0.9031\n",
      "Epoch 79/200\n",
      "511/511 - 19s - 36ms/step - loss: 0.7206 - mae: 0.6673 - val_loss: 1.3288 - val_mae: 0.8999\n",
      "Epoch 80/200\n",
      "511/511 - 18s - 36ms/step - loss: 0.7160 - mae: 0.6635 - val_loss: 1.3455 - val_mae: 0.9056\n",
      "Epoch 81/200\n",
      "511/511 - 18s - 36ms/step - loss: 0.7074 - mae: 0.6611 - val_loss: 1.3271 - val_mae: 0.9015\n",
      "Epoch 82/200\n",
      "511/511 - 19s - 37ms/step - loss: 0.7052 - mae: 0.6593 - val_loss: 1.3599 - val_mae: 0.9055\n",
      "Epoch 83/200\n",
      "511/511 - 18s - 36ms/step - loss: 0.7001 - mae: 0.6568 - val_loss: 1.3474 - val_mae: 0.9088\n",
      "Epoch 84/200\n",
      "511/511 - 18s - 35ms/step - loss: 0.6899 - mae: 0.6525 - val_loss: 1.3837 - val_mae: 0.9220\n",
      "Epoch 85/200\n",
      "511/511 - 18s - 35ms/step - loss: 0.6878 - mae: 0.6507 - val_loss: 1.3509 - val_mae: 0.9118\n",
      "Epoch 86/200\n",
      "511/511 - 18s - 35ms/step - loss: 0.6758 - mae: 0.6468 - val_loss: 1.3885 - val_mae: 0.9214\n",
      "Epoch 87/200\n",
      "511/511 - 18s - 35ms/step - loss: 0.6691 - mae: 0.6437 - val_loss: 1.4056 - val_mae: 0.9263\n",
      "Epoch 88/200\n",
      "511/511 - 19s - 37ms/step - loss: 0.6650 - mae: 0.6403 - val_loss: 1.3637 - val_mae: 0.9131\n",
      "Epoch 89/200\n",
      "511/511 - 18s - 36ms/step - loss: 0.6635 - mae: 0.6383 - val_loss: 1.3775 - val_mae: 0.9133\n",
      "Epoch 90/200\n",
      "511/511 - 18s - 36ms/step - loss: 0.6554 - mae: 0.6365 - val_loss: 1.4110 - val_mae: 0.9286\n",
      "Epoch 91/200\n",
      "511/511 - 19s - 36ms/step - loss: 0.6499 - mae: 0.6335 - val_loss: 1.3877 - val_mae: 0.9218\n",
      "Epoch 92/200\n",
      "511/511 - 19s - 37ms/step - loss: 0.6444 - mae: 0.6317 - val_loss: 1.3889 - val_mae: 0.9217\n",
      "Epoch 93/200\n",
      "511/511 - 18s - 35ms/step - loss: 0.6362 - mae: 0.6276 - val_loss: 1.4136 - val_mae: 0.9314\n",
      "Epoch 94/200\n",
      "511/511 - 18s - 35ms/step - loss: 0.6290 - mae: 0.6226 - val_loss: 1.4009 - val_mae: 0.9297\n",
      "Epoch 95/200\n",
      "511/511 - 18s - 35ms/step - loss: 0.6224 - mae: 0.6216 - val_loss: 1.4210 - val_mae: 0.9326\n",
      "Epoch 96/200\n",
      "511/511 - 18s - 35ms/step - loss: 0.6141 - mae: 0.6165 - val_loss: 1.4288 - val_mae: 0.9402\n",
      "Epoch 97/200\n",
      "511/511 - 18s - 36ms/step - loss: 0.6139 - mae: 0.6154 - val_loss: 1.4250 - val_mae: 0.9389\n",
      "Epoch 98/200\n",
      "511/511 - 19s - 36ms/step - loss: 0.6048 - mae: 0.6115 - val_loss: 1.4519 - val_mae: 0.9421\n",
      "Epoch 99/200\n",
      "511/511 - 87s - 170ms/step - loss: 0.6003 - mae: 0.6102 - val_loss: 1.4255 - val_mae: 0.9379\n",
      "Epoch 100/200\n",
      "511/511 - 113s - 221ms/step - loss: 0.5959 - mae: 0.6070 - val_loss: 1.4149 - val_mae: 0.9402\n",
      "Epoch 101/200\n",
      "511/511 - 18s - 35ms/step - loss: 0.5908 - mae: 0.6049 - val_loss: 1.4670 - val_mae: 0.9486\n",
      "Epoch 102/200\n",
      "511/511 - 18s - 36ms/step - loss: 0.5856 - mae: 0.6016 - val_loss: 1.4137 - val_mae: 0.9305\n",
      "Epoch 103/200\n",
      "511/511 - 19s - 37ms/step - loss: 0.5804 - mae: 0.6001 - val_loss: 1.4612 - val_mae: 0.9473\n",
      "Epoch 104/200\n",
      "511/511 - 18s - 36ms/step - loss: 0.5773 - mae: 0.5971 - val_loss: 1.4574 - val_mae: 0.9407\n",
      "Epoch 105/200\n",
      "511/511 - 19s - 37ms/step - loss: 0.5693 - mae: 0.5941 - val_loss: 1.4769 - val_mae: 0.9557\n",
      "Epoch 106/200\n",
      "511/511 - 19s - 37ms/step - loss: 0.5642 - mae: 0.5915 - val_loss: 1.5062 - val_mae: 0.9582\n",
      "Epoch 107/200\n",
      "511/511 - 18s - 35ms/step - loss: 0.5568 - mae: 0.5867 - val_loss: 1.5329 - val_mae: 0.9766\n",
      "Epoch 108/200\n",
      "511/511 - 18s - 35ms/step - loss: 0.5497 - mae: 0.5836 - val_loss: 1.4886 - val_mae: 0.9594\n",
      "Epoch 109/200\n",
      "511/511 - 18s - 36ms/step - loss: 0.5419 - mae: 0.5794 - val_loss: 1.4906 - val_mae: 0.9612\n",
      "Epoch 110/200\n",
      "511/511 - 18s - 35ms/step - loss: 0.5457 - mae: 0.5836 - val_loss: 1.5182 - val_mae: 0.9647\n",
      "Epoch 111/200\n",
      "511/511 - 18s - 35ms/step - loss: 0.5421 - mae: 0.5791 - val_loss: 1.5171 - val_mae: 0.9671\n",
      "Epoch 112/200\n",
      "511/511 - 18s - 35ms/step - loss: 0.5285 - mae: 0.5724 - val_loss: 1.5406 - val_mae: 0.9798\n",
      "Epoch 113/200\n",
      "511/511 - 18s - 35ms/step - loss: 0.5303 - mae: 0.5744 - val_loss: 1.5245 - val_mae: 0.9713\n",
      "Epoch 114/200\n",
      "511/511 - 18s - 35ms/step - loss: 0.5265 - mae: 0.5709 - val_loss: 1.6045 - val_mae: 0.9937\n",
      "Epoch 115/200\n",
      "511/511 - 20s - 38ms/step - loss: 0.5297 - mae: 0.5718 - val_loss: 1.5917 - val_mae: 0.9946\n",
      "Epoch 116/200\n",
      "511/511 - 20s - 39ms/step - loss: 0.5120 - mae: 0.5648 - val_loss: 1.5046 - val_mae: 0.9622\n",
      "Epoch 117/200\n",
      "511/511 - 18s - 36ms/step - loss: 0.5111 - mae: 0.5628 - val_loss: 1.5575 - val_mae: 0.9854\n",
      "Epoch 118/200\n",
      "511/511 - 18s - 36ms/step - loss: 0.5053 - mae: 0.5591 - val_loss: 1.5550 - val_mae: 0.9790\n",
      "Epoch 119/200\n",
      "511/511 - 18s - 36ms/step - loss: 0.4986 - mae: 0.5568 - val_loss: 1.5606 - val_mae: 0.9823\n",
      "Epoch 120/200\n",
      "511/511 - 18s - 35ms/step - loss: 0.5007 - mae: 0.5568 - val_loss: 1.5812 - val_mae: 0.9838\n",
      "Epoch 121/200\n",
      "511/511 - 19s - 37ms/step - loss: 0.4984 - mae: 0.5548 - val_loss: 1.5449 - val_mae: 0.9751\n",
      "Epoch 122/200\n",
      "511/511 - 18s - 35ms/step - loss: 0.4879 - mae: 0.5501 - val_loss: 1.5854 - val_mae: 0.9888\n",
      "Epoch 123/200\n",
      "511/511 - 18s - 36ms/step - loss: 0.4810 - mae: 0.5471 - val_loss: 1.5617 - val_mae: 0.9856\n",
      "Epoch 124/200\n",
      "511/511 - 18s - 36ms/step - loss: 0.4770 - mae: 0.5442 - val_loss: 1.5308 - val_mae: 0.9737\n",
      "Epoch 125/200\n",
      "511/511 - 18s - 35ms/step - loss: 0.4735 - mae: 0.5415 - val_loss: 1.5926 - val_mae: 0.9904\n",
      "Epoch 126/200\n",
      "511/511 - 18s - 35ms/step - loss: 0.4669 - mae: 0.5395 - val_loss: 1.5812 - val_mae: 0.9811\n",
      "Epoch 127/200\n",
      "511/511 - 18s - 35ms/step - loss: 0.4664 - mae: 0.5376 - val_loss: 1.5473 - val_mae: 0.9850\n",
      "Epoch 128/200\n",
      "511/511 - 18s - 36ms/step - loss: 0.4619 - mae: 0.5357 - val_loss: 1.5508 - val_mae: 0.9816\n",
      "Epoch 129/200\n",
      "511/511 - 18s - 35ms/step - loss: 0.4578 - mae: 0.5329 - val_loss: 1.6136 - val_mae: 1.0062\n",
      "Epoch 130/200\n",
      "511/511 - 18s - 34ms/step - loss: 0.4508 - mae: 0.5289 - val_loss: 1.6005 - val_mae: 0.9955\n",
      "Epoch 131/200\n",
      "511/511 - 18s - 34ms/step - loss: 0.4522 - mae: 0.5295 - val_loss: 1.6054 - val_mae: 0.9986\n",
      "Epoch 132/200\n",
      "511/511 - 18s - 35ms/step - loss: 0.4432 - mae: 0.5242 - val_loss: 1.5945 - val_mae: 0.9925\n",
      "Epoch 133/200\n",
      "511/511 - 18s - 35ms/step - loss: 0.4395 - mae: 0.5229 - val_loss: 1.6060 - val_mae: 0.9934\n",
      "Epoch 134/200\n",
      "511/511 - 18s - 35ms/step - loss: 0.4385 - mae: 0.5218 - val_loss: 1.6382 - val_mae: 1.0058\n",
      "Epoch 135/200\n",
      "511/511 - 18s - 35ms/step - loss: 0.4307 - mae: 0.5173 - val_loss: 1.6323 - val_mae: 1.0092\n",
      "Epoch 136/200\n",
      "511/511 - 18s - 35ms/step - loss: 0.4240 - mae: 0.5140 - val_loss: 1.6275 - val_mae: 1.0023\n",
      "Epoch 137/200\n",
      "511/511 - 18s - 35ms/step - loss: 0.4205 - mae: 0.5111 - val_loss: 1.6402 - val_mae: 1.0114\n",
      "Epoch 138/200\n",
      "511/511 - 19s - 37ms/step - loss: 0.4277 - mae: 0.5156 - val_loss: 1.6727 - val_mae: 1.0116\n",
      "Epoch 139/200\n",
      "511/511 - 19s - 37ms/step - loss: 0.4220 - mae: 0.5099 - val_loss: 1.6317 - val_mae: 1.0116\n",
      "Epoch 140/200\n",
      "511/511 - 18s - 36ms/step - loss: 0.4089 - mae: 0.5048 - val_loss: 1.6525 - val_mae: 1.0147\n",
      "Epoch 141/200\n",
      "511/511 - 20s - 39ms/step - loss: 0.4035 - mae: 0.4997 - val_loss: 1.6397 - val_mae: 1.0085\n",
      "Epoch 142/200\n",
      "511/511 - 19s - 38ms/step - loss: 0.4034 - mae: 0.5004 - val_loss: 1.6566 - val_mae: 1.0155\n",
      "Epoch 143/200\n",
      "511/511 - 18s - 36ms/step - loss: 0.4014 - mae: 0.5011 - val_loss: 1.6585 - val_mae: 1.0175\n",
      "Epoch 144/200\n",
      "511/511 - 18s - 36ms/step - loss: 0.3978 - mae: 0.4968 - val_loss: 1.6130 - val_mae: 0.9954\n",
      "Epoch 145/200\n",
      "511/511 - 18s - 36ms/step - loss: 0.3924 - mae: 0.4948 - val_loss: 1.6562 - val_mae: 1.0186\n",
      "Epoch 146/200\n",
      "511/511 - 18s - 36ms/step - loss: 0.3881 - mae: 0.4911 - val_loss: 1.6175 - val_mae: 1.0045\n",
      "Epoch 147/200\n",
      "511/511 - 18s - 36ms/step - loss: 0.3916 - mae: 0.4933 - val_loss: 1.6401 - val_mae: 1.0134\n",
      "Epoch 148/200\n",
      "511/511 - 18s - 36ms/step - loss: 0.3847 - mae: 0.4894 - val_loss: 1.6410 - val_mae: 1.0151\n",
      "Epoch 149/200\n",
      "511/511 - 18s - 35ms/step - loss: 0.3759 - mae: 0.4825 - val_loss: 1.6461 - val_mae: 1.0114\n",
      "Epoch 150/200\n",
      "511/511 - 18s - 35ms/step - loss: 0.3735 - mae: 0.4819 - val_loss: 1.6509 - val_mae: 1.0140\n",
      "Epoch 151/200\n",
      "511/511 - 18s - 35ms/step - loss: 0.3746 - mae: 0.4826 - val_loss: 1.6585 - val_mae: 1.0163\n",
      "Epoch 152/200\n",
      "511/511 - 18s - 35ms/step - loss: 0.3777 - mae: 0.4812 - val_loss: 1.6838 - val_mae: 1.0248\n",
      "Epoch 153/200\n",
      "511/511 - 18s - 36ms/step - loss: 0.3673 - mae: 0.4766 - val_loss: 1.6562 - val_mae: 1.0166\n",
      "Epoch 154/200\n",
      "511/511 - 18s - 36ms/step - loss: 0.3637 - mae: 0.4745 - val_loss: 1.6852 - val_mae: 1.0195\n",
      "Epoch 155/200\n",
      "511/511 - 19s - 37ms/step - loss: 0.3628 - mae: 0.4719 - val_loss: 1.7056 - val_mae: 1.0270\n",
      "Epoch 156/200\n",
      "511/511 - 19s - 37ms/step - loss: 0.3610 - mae: 0.4718 - val_loss: 1.7000 - val_mae: 1.0313\n",
      "Epoch 157/200\n",
      "511/511 - 19s - 37ms/step - loss: 0.3481 - mae: 0.4649 - val_loss: 1.7018 - val_mae: 1.0263\n",
      "Epoch 158/200\n",
      "511/511 - 19s - 37ms/step - loss: 0.3452 - mae: 0.4633 - val_loss: 1.6810 - val_mae: 1.0229\n",
      "Epoch 159/200\n",
      "511/511 - 18s - 35ms/step - loss: 0.3467 - mae: 0.4646 - val_loss: 1.6847 - val_mae: 1.0268\n",
      "Epoch 160/200\n",
      "511/511 - 18s - 36ms/step - loss: 0.3400 - mae: 0.4612 - val_loss: 1.7543 - val_mae: 1.0434\n",
      "Epoch 161/200\n",
      "511/511 - 18s - 36ms/step - loss: 0.3421 - mae: 0.4604 - val_loss: 1.7077 - val_mae: 1.0356\n",
      "Epoch 162/200\n",
      "511/511 - 18s - 36ms/step - loss: 0.3385 - mae: 0.4588 - val_loss: 1.7127 - val_mae: 1.0333\n",
      "Epoch 163/200\n",
      "511/511 - 18s - 36ms/step - loss: 0.3305 - mae: 0.4534 - val_loss: 1.7175 - val_mae: 1.0360\n",
      "Epoch 164/200\n",
      "511/511 - 18s - 36ms/step - loss: 0.3272 - mae: 0.4507 - val_loss: 1.7266 - val_mae: 1.0400\n",
      "Epoch 165/200\n",
      "511/511 - 19s - 37ms/step - loss: 0.3238 - mae: 0.4486 - val_loss: 1.7887 - val_mae: 1.0562\n",
      "Epoch 166/200\n",
      "511/511 - 19s - 37ms/step - loss: 0.3260 - mae: 0.4497 - val_loss: 1.7537 - val_mae: 1.0472\n",
      "Epoch 167/200\n",
      "511/511 - 19s - 37ms/step - loss: 0.3284 - mae: 0.4496 - val_loss: 1.7284 - val_mae: 1.0365\n",
      "Epoch 168/200\n",
      "511/511 - 19s - 37ms/step - loss: 0.3287 - mae: 0.4505 - val_loss: 1.7512 - val_mae: 1.0439\n",
      "Epoch 169/200\n",
      "511/511 - 18s - 36ms/step - loss: 0.3142 - mae: 0.4402 - val_loss: 1.7487 - val_mae: 1.0433\n",
      "Epoch 170/200\n",
      "511/511 - 18s - 35ms/step - loss: 0.3068 - mae: 0.4370 - val_loss: 1.7342 - val_mae: 1.0445\n",
      "Epoch 171/200\n",
      "511/511 - 18s - 35ms/step - loss: 0.3039 - mae: 0.4343 - val_loss: 1.7283 - val_mae: 1.0440\n",
      "Epoch 172/200\n",
      "511/511 - 18s - 36ms/step - loss: 0.3046 - mae: 0.4352 - val_loss: 1.7420 - val_mae: 1.0431\n",
      "Epoch 173/200\n",
      "511/511 - 18s - 36ms/step - loss: 0.3023 - mae: 0.4332 - val_loss: 1.7443 - val_mae: 1.0500\n",
      "Epoch 174/200\n",
      "511/511 - 19s - 37ms/step - loss: 0.2975 - mae: 0.4299 - val_loss: 1.7850 - val_mae: 1.0529\n",
      "Epoch 175/200\n",
      "511/511 - 19s - 37ms/step - loss: 0.2963 - mae: 0.4286 - val_loss: 1.7786 - val_mae: 1.0522\n",
      "Epoch 176/200\n",
      "511/511 - 20s - 39ms/step - loss: 0.2971 - mae: 0.4291 - val_loss: 1.8095 - val_mae: 1.0662\n",
      "Epoch 177/200\n",
      "511/511 - 19s - 36ms/step - loss: 0.3032 - mae: 0.4333 - val_loss: 1.7416 - val_mae: 1.0451\n",
      "Epoch 178/200\n",
      "511/511 - 19s - 38ms/step - loss: 0.2888 - mae: 0.4230 - val_loss: 1.8031 - val_mae: 1.0552\n",
      "Epoch 179/200\n",
      "511/511 - 19s - 37ms/step - loss: 0.2884 - mae: 0.4216 - val_loss: 1.7682 - val_mae: 1.0434\n",
      "Epoch 180/200\n",
      "511/511 - 19s - 38ms/step - loss: 0.2815 - mae: 0.4180 - val_loss: 1.7837 - val_mae: 1.0520\n",
      "Epoch 181/200\n",
      "511/511 - 19s - 38ms/step - loss: 0.2837 - mae: 0.4196 - val_loss: 1.8582 - val_mae: 1.0790\n",
      "Epoch 182/200\n",
      "511/511 - 19s - 38ms/step - loss: 0.2787 - mae: 0.4152 - val_loss: 1.8092 - val_mae: 1.0581\n",
      "Epoch 183/200\n",
      "511/511 - 17s - 34ms/step - loss: 0.2818 - mae: 0.4191 - val_loss: 1.8043 - val_mae: 1.0639\n",
      "Epoch 184/200\n",
      "511/511 - 18s - 35ms/step - loss: 0.2683 - mae: 0.4071 - val_loss: 1.7978 - val_mae: 1.0573\n",
      "Epoch 185/200\n",
      "511/511 - 18s - 36ms/step - loss: 0.2657 - mae: 0.4054 - val_loss: 1.7677 - val_mae: 1.0508\n",
      "Epoch 186/200\n",
      "511/511 - 18s - 35ms/step - loss: 0.2655 - mae: 0.4055 - val_loss: 1.7944 - val_mae: 1.0574\n",
      "Epoch 187/200\n",
      "511/511 - 18s - 35ms/step - loss: 0.2639 - mae: 0.4034 - val_loss: 1.8387 - val_mae: 1.0754\n",
      "Epoch 188/200\n",
      "511/511 - 18s - 36ms/step - loss: 0.2669 - mae: 0.4072 - val_loss: 1.7931 - val_mae: 1.0541\n",
      "Epoch 189/200\n",
      "511/511 - 19s - 37ms/step - loss: 0.2640 - mae: 0.4025 - val_loss: 1.8549 - val_mae: 1.0713\n",
      "Epoch 190/200\n",
      "511/511 - 18s - 36ms/step - loss: 0.2586 - mae: 0.3997 - val_loss: 1.7992 - val_mae: 1.0593\n",
      "Epoch 191/200\n",
      "511/511 - 18s - 36ms/step - loss: 0.2575 - mae: 0.3997 - val_loss: 1.8159 - val_mae: 1.0695\n",
      "Epoch 192/200\n",
      "511/511 - 18s - 35ms/step - loss: 0.2544 - mae: 0.3946 - val_loss: 1.8680 - val_mae: 1.0795\n",
      "Epoch 193/200\n",
      "511/511 - 18s - 34ms/step - loss: 0.2587 - mae: 0.3999 - val_loss: 1.7957 - val_mae: 1.0627\n",
      "Epoch 194/200\n",
      "511/511 - 18s - 35ms/step - loss: 0.2412 - mae: 0.3863 - val_loss: 1.8560 - val_mae: 1.0792\n",
      "Epoch 195/200\n",
      "511/511 - 18s - 35ms/step - loss: 0.2478 - mae: 0.3909 - val_loss: 1.8083 - val_mae: 1.0669\n",
      "Epoch 196/200\n",
      "511/511 - 18s - 35ms/step - loss: 0.2418 - mae: 0.3870 - val_loss: 1.8376 - val_mae: 1.0685\n",
      "Epoch 197/200\n",
      "511/511 - 18s - 35ms/step - loss: 0.2405 - mae: 0.3850 - val_loss: 1.8780 - val_mae: 1.0832\n",
      "Epoch 198/200\n",
      "511/511 - 18s - 35ms/step - loss: 0.2370 - mae: 0.3829 - val_loss: 1.9016 - val_mae: 1.0906\n",
      "Epoch 199/200\n",
      "511/511 - 18s - 35ms/step - loss: 0.2361 - mae: 0.3827 - val_loss: 1.8971 - val_mae: 1.0873\n",
      "Epoch 200/200\n",
      "511/511 - 18s - 35ms/step - loss: 0.2325 - mae: 0.3806 - val_loss: 1.8173 - val_mae: 1.0686\n"
     ]
    }
   ],
   "execution_count": 11
  },
  {
   "metadata": {
    "ExecuteTime": {
     "end_time": "2025-02-26T04:52:43.664362Z",
     "start_time": "2025-02-26T04:52:43.644159Z"
    }
   },
   "cell_type": "code",
   "source": [
    "# Save the entire model (architecture, weights, and optimizer state)\n",
    "model.save(\"../models/coavarep_unimodal_baseline_regression_model.h5\")"
   ],
   "id": "341868fc9ed49140",
   "outputs": [
    {
     "name": "stderr",
     "output_type": "stream",
     "text": [
      "WARNING:absl:You are saving your model as an HDF5 file via `model.save()` or `keras.saving.save_model(model)`. This file format is considered legacy. We recommend using instead the native Keras format, e.g. `model.save('my_model.keras')` or `keras.saving.save_model(model, 'my_model.keras')`. \n"
     ]
    }
   ],
   "execution_count": 13
  },
  {
   "metadata": {},
   "cell_type": "markdown",
   "source": "### Evaluating Model - Predictions and Metrics",
   "id": "ae612d344194ec80"
  },
  {
   "metadata": {
    "ExecuteTime": {
     "end_time": "2025-02-26T04:52:50.626955Z",
     "start_time": "2025-02-26T04:52:49.016270Z"
    }
   },
   "cell_type": "code",
   "source": [
    "# Predict on the test set\n",
    "Y_pred = model.predict(X_test_reshape)\n",
    "\n",
    "# Compute Mean Absolute Error (MAE)\n",
    "mae = mean_absolute_error(Y_test_reshape, Y_pred)\n",
    "\n",
    "# Compute Pearson correlation coefficient\n",
    "# Flatten arrays in case they are multi-dimensional\n",
    "corr, _ = pearsonr(Y_test_reshape.flatten(), Y_pred.flatten())\n",
    "\n",
    "# Compute R-squared (Coefficient of Determination)\n",
    "r2 = r2_score(Y_test_reshape, Y_pred)\n",
    "\n",
    "print(\"MAE:\", mae)\n",
    "print(\"Correlation:\", corr)\n",
    "print(\"R2:\", r2)"
   ],
   "id": "7b2198d41b97b9c6",
   "outputs": [
    {
     "name": "stdout",
     "output_type": "stream",
     "text": [
      "\u001B[1m146/146\u001B[0m \u001B[32m━━━━━━━━━━━━━━━━━━━━\u001B[0m\u001B[37m\u001B[0m \u001B[1m2s\u001B[0m 10ms/step\n",
      "MAE: 1.0915940999984741\n",
      "Correlation: 0.1015298\n",
      "R2: -0.552946925163269\n"
     ]
    }
   ],
   "execution_count": 14
  },
  {
   "metadata": {
    "ExecuteTime": {
     "end_time": "2025-02-26T04:57:43.093433Z",
     "start_time": "2025-02-26T04:57:42.939805Z"
    }
   },
   "cell_type": "code",
   "source": [
    "fig, ax = plt.subplots(1, 1, figsize=(4, 3))\n",
    "ax.scatter(Y_pred, Y_test_reshape, s=1, color='indigo')\n",
    "ax.set_xlabel(\"Predicted Sentiment Levels\")\n",
    "ax.set_ylabel(\"True Sentiment Levels\")\n",
    "ax.set_title('COAVAREP CNN Regression')\n",
    "# clipping to possible sentiment to zoom in on within range predictions\n",
    "ax.set_xlim([-3, 3])\n",
    "\n",
    "plt.show()\n",
    "fig.savefig('../figures/coavarep_baseline_regression_plot.png', bbox_inches='tight', dpi=300)"
   ],
   "id": "bb37a885b21ad8e8",
   "outputs": [
    {
     "data": {
      "text/plain": [
       "<Figure size 400x300 with 1 Axes>"
      ],
      "image/png": "[encoded data removed]"
     },
     "metadata": {},
     "output_type": "display_data"
    }
   ],
   "execution_count": 18
  },
  {
   "metadata": {},
   "cell_type": "code",
   "outputs": [],
   "execution_count": null,
   "source": "",
   "id": "88f5b1f338de4026"
  }
 ],
 "metadata": {
  "kernelspec": {
   "display_name": "Python 3",
   "language": "python",
   "name": "python3"
  },
  "language_info": {
   "codemirror_mode": {
    "name": "ipython",
    "version": 2
   },
   "file_extension": ".py",
   "mimetype": "text/x-python",
   "name": "python",
   "nbconvert_exporter": "python",
   "pygments_lexer": "ipython2",
   "version": "2.7.6"
  }
 },
 "nbformat": 4,
 "nbformat_minor": 5
}

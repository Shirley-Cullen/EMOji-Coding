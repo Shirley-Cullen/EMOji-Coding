{
 "cells": [
  {
   "metadata": {},
   "cell_type": "markdown",
   "source": [
    "---\n",
    "\n",
    "## Facet: Facial Expressions in iMotions's Software Suite\n",
    "\n",
    "The facial expressions facet in iMotions's software suite harnesses advanced computer vision and machine learning techniques to detect, measure, and analyze facial movements. This module is pivotal for understanding emotional and behavioral responses in real-time.\n",
    "\n",
    "### Modality\n",
    "- **Type:** Visual (Video/Image)\n",
    "- **Purpose:**\n",
    "  - Decodes subtle facial cues and micro-expressions\n",
    "  - Provides real-time insights into emotional and affective states\n",
    "  - Supports a variety of research and practical applications, from consumer behavior analysis to psychological studies\n",
    "\n",
    "### Feature Extraction\n",
    "- **Pre-processing:**\n",
    "  - Implements robust facial landmark detection and alignment to ensure accuracy\n",
    "- **Analysis:**\n",
    "  - Utilizes the Facial Action Coding System (FACS) to quantify muscle activations\n",
    "  - Measures expression intensity, duration, and frequency for comprehensive emotion profiling\n",
    "- **Applications:**\n",
    "  - Market research and advertising to gauge consumer reactions\n",
    "  - Psychological and behavioral studies to analyze emotional responses\n",
    "  - Human-computer interaction (HCI) to improve user experience and adaptive interfaces\n",
    "\n",
    "---"
   ],
   "id": "49bdb5c09c0c94a3"
  },
  {
   "metadata": {},
   "cell_type": "markdown",
   "source": "### Importing Libraries",
   "id": "6b6577081b9270c3"
  },
  {
   "metadata": {
    "collapsed": true,
    "ExecuteTime": {
     "end_time": "2025-02-25T02:39:02.631020Z",
     "start_time": "2025-02-25T02:38:59.711444Z"
    }
   },
   "cell_type": "code",
   "source": [
    "import pickle\n",
    "\n",
    "import matplotlib.pyplot as plt\n",
    "import numpy as np\n",
    "import seaborn as sns\n",
    "from sklearn.metrics import confusion_matrix, classification_report\n",
    "from tensorflow.keras.layers import (\n",
    "\tConv2D,\n",
    "\tMaxPooling2D,\n",
    "\tAveragePooling2D,\n",
    "\tFlatten,\n",
    "\tDense,\n",
    ")\n",
    "from tensorflow.keras.models import Sequential\n",
    "from tensorflow.keras.optimizers import Adam"
   ],
   "id": "initial_id",
   "outputs": [
    {
     "name": "stderr",
     "output_type": "stream",
     "text": [
      "/Users/alexanderhsu/Documents/GitHub/11777-EMOji/venv/lib/python3.9/site-packages/urllib3/__init__.py:35: NotOpenSSLWarning: urllib3 v2 only supports OpenSSL 1.1.1+, currently the 'ssl' module is compiled with 'LibreSSL 2.8.3'. See: https://github.com/urllib3/urllib3/issues/3020\n",
      "  warnings.warn(\n"
     ]
    }
   ],
   "execution_count": 1
  },
  {
   "metadata": {},
   "cell_type": "markdown",
   "source": "### Loading Data Tensors",
   "id": "6a149b08c4e65582"
  },
  {
   "metadata": {
    "ExecuteTime": {
     "end_time": "2025-02-25T02:39:06.904755Z",
     "start_time": "2025-02-25T02:39:02.634711Z"
    }
   },
   "cell_type": "code",
   "source": [
    "with open('../data/tensors.pkl', 'rb') as fr:\n",
    "    data_tensors = pickle.load(fr)"
   ],
   "id": "7debe840d5d7da0",
   "outputs": [],
   "execution_count": 2
  },
  {
   "metadata": {},
   "cell_type": "markdown",
   "source": "### Prepare Data into Partitions that make sense",
   "id": "22c4557af2bf127e"
  },
  {
   "metadata": {
    "ExecuteTime": {
     "end_time": "2025-02-25T02:39:07.117554Z",
     "start_time": "2025-02-25T02:39:07.110016Z"
    }
   },
   "cell_type": "code",
   "source": [
    "partitions_ = data_tensors[1]\n",
    "data_all = data_tensors[0]\n",
    "data_partitions = {partitions_[0]: data_all[0], partitions_[1]: data_all[1], partitions_[2]: data_all[2]}\n"
   ],
   "id": "b44d166ab988bd15",
   "outputs": [],
   "execution_count": 3
  },
  {
   "metadata": {
    "ExecuteTime": {
     "end_time": "2025-02-25T02:39:07.459508Z",
     "start_time": "2025-02-25T02:39:07.454729Z"
    }
   },
   "cell_type": "code",
   "source": "data_partitions['train'].keys()",
   "id": "890ff4c87099819",
   "outputs": [
    {
     "data": {
      "text/plain": [
       "dict_keys(['COAVAREP', 'FACET 4.2', 'OpenFace_2.0', 'All Labels', 'glove_vectors', 'OpenSMILE'])"
      ]
     },
     "execution_count": 4,
     "metadata": {},
     "output_type": "execute_result"
    }
   ],
   "execution_count": 4
  },
  {
   "metadata": {
    "ExecuteTime": {
     "end_time": "2025-02-25T02:39:18.080414Z",
     "start_time": "2025-02-25T02:39:18.077728Z"
    }
   },
   "cell_type": "code",
   "source": "data_partitions['train']['FACET 4.2'].shape",
   "id": "47b466614c449253",
   "outputs": [
    {
     "data": {
      "text/plain": [
       "(16327, 50, 35)"
      ]
     },
     "execution_count": 6,
     "metadata": {},
     "output_type": "execute_result"
    }
   ],
   "execution_count": 6
  },
  {
   "metadata": {},
   "cell_type": "markdown",
   "source": "### Exploring Training Data Distribution",
   "id": "82281513ccc400a"
  },
  {
   "metadata": {
    "ExecuteTime": {
     "end_time": "2025-02-25T02:39:31.395257Z",
     "start_time": "2025-02-25T02:39:31.297009Z"
    }
   },
   "cell_type": "code",
   "source": [
    "# looking at sentiment probability distribution in train\n",
    "fig, ax = plt.subplots(figsize=(4, 3))\n",
    "ax.hist(data_partitions['train']['All Labels'][:, :, 0])\n",
    "ax.set_xlabel(\"Sentiment Levels (Raw)\")\n",
    "ax.set_ylabel(\"Count\")\n",
    "ax.set_title('Sentiment Count Distribution for Training Data')\n",
    "plt.show()"
   ],
   "id": "cfc456d2ae9c8103",
   "outputs": [
    {
     "data": {
      "text/plain": [
       "<Figure size 400x300 with 1 Axes>"
      ],
      "image/png": "[encoded data removed]"
     },
     "metadata": {},
     "output_type": "display_data"
    }
   ],
   "execution_count": 7
  },
  {
   "metadata": {},
   "cell_type": "markdown",
   "source": "### Extract glove_vectors Only",
   "id": "6cec1ad69c08a54e"
  },
  {
   "metadata": {
    "ExecuteTime": {
     "end_time": "2025-02-25T02:39:36.596222Z",
     "start_time": "2025-02-25T02:39:36.592753Z"
    }
   },
   "cell_type": "code",
   "source": [
    "for k in data_partitions['train'].keys():\n",
    "    if k == 'FACET 4.2':\n",
    "        X_train = data_partitions['train'][k]\n",
    "        X_test = data_partitions['test'][k]\n",
    "        X_val = data_partitions['valid'][k]\n",
    "        print(f'{k} has dimension {X_train.shape[1:]}')"
   ],
   "id": "76cde0ce0a5311b4",
   "outputs": [
    {
     "name": "stdout",
     "output_type": "stream",
     "text": [
      "FACET 4.2 has dimension (50, 35)\n"
     ]
    }
   ],
   "execution_count": 9
  },
  {
   "metadata": {},
   "cell_type": "markdown",
   "source": "### Preparing Labels for Training, Testing, and Validation",
   "id": "47eb9bd886d5a2e6"
  },
  {
   "metadata": {
    "ExecuteTime": {
     "end_time": "2025-02-25T02:39:52.855547Z",
     "start_time": "2025-02-25T02:39:52.850539Z"
    }
   },
   "cell_type": "code",
   "source": [
    "emo_selected = 0 # sentiment\n",
    "Y_train = data_partitions['train']['All Labels'][:, :, emo_selected]\n",
    "Y_test = data_partitions['test']['All Labels'][:, :, emo_selected]\n",
    "Y_val = data_partitions['valid']['All Labels'][:, :, emo_selected]\n",
    "\n",
    "# Round the values to the nearest integer\n",
    "Y_train_rounded = np.round(Y_train).astype(int)\n",
    "Y_test_rounded = np.round(Y_test).astype(int)\n",
    "Y_val_rounded = np.round(Y_val).astype(int)\n",
    "\n",
    "# If you need class indices from 0 to 6 instead of -3 to 3, you can shift them:\n",
    "Y_train_classes = Y_train_rounded + 3\n",
    "Y_test_classes = Y_test_rounded + 3\n",
    "Y_val_classes = Y_val_rounded + 3\n",
    "\n",
    "print(Y_train_classes.shape, Y_test_classes.shape, Y_val_classes.shape)"
   ],
   "id": "5fa3848dc091732f",
   "outputs": [
    {
     "name": "stdout",
     "output_type": "stream",
     "text": [
      "(16327, 1) (4662, 1) (1871, 1)\n"
     ]
    }
   ],
   "execution_count": 10
  },
  {
   "metadata": {
    "ExecuteTime": {
     "end_time": "2025-02-25T04:36:36.851761Z",
     "start_time": "2025-02-25T04:36:36.702120Z"
    }
   },
   "cell_type": "code",
   "source": [
    "# If Y_train_classes is multidimensional, flatten it to 1D\n",
    "y_train_flat = Y_train_classes.flatten()\n",
    "\n",
    "# Create the countplot\n",
    "fig, ax = plt.subplots(figsize=(4, 3))\n",
    "sns.countplot(x=y_train_flat, ax=ax, color='indigo')\n",
    "ax.set_xlabel(\"Sentiment Levels (7-class)\")\n",
    "ax.set_xticklabels(np.arange(-3, 3.1).astype(int))\n",
    "ax.set_ylabel(\"Count\")\n",
    "ax.set_title('Sentiment Count Distribution for Training Data')\n",
    "plt.show()\n",
    "fig.savefig('../figures/sentiment_count_distribution_train.png',\n",
    "\t\t\tbbox_inches='tight', dpi=300)"
   ],
   "id": "8557ac388cb70ab6",
   "outputs": [
    {
     "name": "stderr",
     "output_type": "stream",
     "text": [
      "/var/folders/gp/nsk60k_n2cz7kk79_pv33d8r0000gn/T/ipykernel_8639/1000670048.py:8: UserWarning: set_ticklabels() should only be used with a fixed number of ticks, i.e. after set_ticks() or using a FixedLocator.\n",
      "  ax.set_xticklabels(np.arange(-3, 3.1).astype(int))\n"
     ]
    },
    {
     "data": {
      "text/plain": [
       "<Figure size 400x300 with 1 Axes>"
      ],
      "image/png": "[encoded data removed]"
     },
     "metadata": {},
     "output_type": "display_data"
    }
   ],
   "execution_count": 26
  },
  {
   "metadata": {},
   "cell_type": "markdown",
   "source": "### Building the CNN Model",
   "id": "2f0480b8736f0a1b"
  },
  {
   "metadata": {
    "ExecuteTime": {
     "end_time": "2025-02-25T02:40:01.903112Z",
     "start_time": "2025-02-25T02:40:01.850241Z"
    }
   },
   "cell_type": "code",
   "source": [
    "input_dim_1 = X_train.shape[1]\n",
    "input_dim_2 = X_train.shape[2]\n",
    "# since classes are: -3, -2, -1, 0, 1, 2, 3 (or 0-6 after shifting)\n",
    "num_classes = 7\n",
    "\n",
    "model = Sequential()\n",
    "\n",
    "# 1st convolution layer\n",
    "model.add(Conv2D(64, (5, 5), activation=\"relu\",\n",
    "                 input_shape=(input_dim_1, input_dim_2, 1)))\n",
    "model.add(MaxPooling2D(pool_size=(5, 5), strides=(2, 2)))\n",
    "\n",
    "# 2nd convolution layer\n",
    "model.add(Conv2D(128, (3, 3), activation=\"relu\"))\n",
    "model.add(AveragePooling2D(pool_size=(3, 3), strides=(2, 2)))\n",
    "\n",
    "model.add(Flatten())\n",
    "\n",
    "# Classification output layer: 7 neurons with softmax activation\n",
    "model.add(Dense(num_classes, activation=\"softmax\"))\n",
    "model.compile(optimizer=Adam(learning_rate=0.0001),\n",
    "              loss='sparse_categorical_crossentropy',\n",
    "              metrics=['accuracy'])"
   ],
   "id": "51da9e337c4892a5",
   "outputs": [
    {
     "name": "stderr",
     "output_type": "stream",
     "text": [
      "/Users/alexanderhsu/Documents/GitHub/11777-EMOji/venv/lib/python3.9/site-packages/keras/src/layers/convolutional/base_conv.py:107: UserWarning: Do not pass an `input_shape`/`input_dim` argument to a layer. When using Sequential models, prefer using an `Input(shape)` object as the first layer in the model instead.\n",
      "  super().__init__(activity_regularizer=activity_regularizer, **kwargs)\n"
     ]
    }
   ],
   "execution_count": 12
  },
  {
   "metadata": {},
   "cell_type": "markdown",
   "source": "### Preparing Data for Model Training",
   "id": "222ee1e36dbace6c"
  },
  {
   "metadata": {
    "ExecuteTime": {
     "end_time": "2025-02-25T02:40:16.469508Z",
     "start_time": "2025-02-25T02:40:16.284618Z"
    }
   },
   "cell_type": "code",
   "source": [
    "X_train_reshape = X_train.reshape(-1, input_dim_1, input_dim_2, 1)\n",
    "Y_train_reshape = np.array(Y_train_classes).reshape(-1, 1)\n",
    "X_test_reshape = X_test.reshape(-1, input_dim_1, input_dim_2, 1)\n",
    "Y_test_reshape = np.array(Y_test_classes).reshape(-1, 1)\n",
    "X_val_reshape = X_val.reshape(-1, input_dim_1, input_dim_2, 1)\n",
    "Y_val_reshape = np.array(Y_val_classes).reshape(-1, 1)\n",
    "\n",
    "# there could be some inf values in features\n",
    "# Replace Inf values with the max finite value in X_data\n",
    "X_train_reshape[np.isinf(X_train_reshape)] = np.nan \n",
    "X_train_reshape = np.nan_to_num(X_train_reshape, nan=np.nanmax(X_train_reshape)) \n",
    "# Replace Inf values with the max finite value in X_data\n",
    "X_test_reshape[np.isinf(X_test_reshape)] = np.nan \n",
    "X_test_reshape = np.nan_to_num(X_test_reshape, nan=np.nanmax(X_test_reshape)) \n",
    "# Replace Inf values with the max finite value in X_data\n",
    "X_val_reshape[np.isinf(X_val_reshape)] = np.nan \n",
    "X_val_reshape = np.nan_to_num(X_val_reshape, nan=np.nanmax(X_val_reshape))"
   ],
   "id": "a069070c69cbe7ee",
   "outputs": [],
   "execution_count": 13
  },
  {
   "metadata": {},
   "cell_type": "markdown",
   "source": "### Training the Model",
   "id": "a9e6e8e81994ad1c"
  },
  {
   "metadata": {
    "ExecuteTime": {
     "end_time": "2025-02-25T03:06:30.332545Z",
     "start_time": "2025-02-25T02:40:19.618583Z"
    }
   },
   "cell_type": "code",
   "source": [
    "history = model.fit(X_train_reshape, \n",
    "                    Y_train_reshape, \n",
    "                    epochs=200,       # Adjust as needed\n",
    "                    batch_size=32,   # Adjust based on available memory\n",
    "                    validation_data=(X_val_reshape, Y_val_reshape),\n",
    "                    verbose=2)\n"
   ],
   "id": "b54221325ded8c6b",
   "outputs": [
    {
     "name": "stdout",
     "output_type": "stream",
     "text": [
      "Epoch 1/200\n",
      "511/511 - 8s - 16ms/step - accuracy: 0.4147 - loss: 1.5435 - val_accuracy: 0.4538 - val_loss: 1.4500\n",
      "Epoch 2/200\n",
      "511/511 - 7s - 15ms/step - accuracy: 0.4230 - loss: 1.4967 - val_accuracy: 0.4543 - val_loss: 1.4452\n",
      "Epoch 3/200\n",
      "511/511 - 8s - 15ms/step - accuracy: 0.4271 - loss: 1.4821 - val_accuracy: 0.4522 - val_loss: 1.4493\n",
      "Epoch 4/200\n",
      "511/511 - 8s - 15ms/step - accuracy: 0.4257 - loss: 1.4728 - val_accuracy: 0.4532 - val_loss: 1.4389\n",
      "Epoch 5/200\n",
      "511/511 - 7s - 14ms/step - accuracy: 0.4263 - loss: 1.4677 - val_accuracy: 0.4554 - val_loss: 1.4393\n",
      "Epoch 6/200\n",
      "511/511 - 7s - 14ms/step - accuracy: 0.4307 - loss: 1.4587 - val_accuracy: 0.4500 - val_loss: 1.4293\n",
      "Epoch 7/200\n",
      "511/511 - 7s - 14ms/step - accuracy: 0.4299 - loss: 1.4542 - val_accuracy: 0.4538 - val_loss: 1.4465\n",
      "Epoch 8/200\n",
      "511/511 - 7s - 14ms/step - accuracy: 0.4309 - loss: 1.4477 - val_accuracy: 0.4564 - val_loss: 1.4312\n",
      "Epoch 9/200\n",
      "511/511 - 7s - 14ms/step - accuracy: 0.4324 - loss: 1.4417 - val_accuracy: 0.4511 - val_loss: 1.4356\n",
      "Epoch 10/200\n",
      "511/511 - 7s - 14ms/step - accuracy: 0.4332 - loss: 1.4369 - val_accuracy: 0.4479 - val_loss: 1.4329\n",
      "Epoch 11/200\n",
      "511/511 - 8s - 15ms/step - accuracy: 0.4349 - loss: 1.4319 - val_accuracy: 0.4484 - val_loss: 1.4315\n",
      "Epoch 12/200\n",
      "511/511 - 8s - 15ms/step - accuracy: 0.4380 - loss: 1.4255 - val_accuracy: 0.4415 - val_loss: 1.4449\n",
      "Epoch 13/200\n",
      "511/511 - 8s - 15ms/step - accuracy: 0.4409 - loss: 1.4224 - val_accuracy: 0.4506 - val_loss: 1.4359\n",
      "Epoch 14/200\n",
      "511/511 - 8s - 15ms/step - accuracy: 0.4398 - loss: 1.4175 - val_accuracy: 0.4383 - val_loss: 1.4378\n",
      "Epoch 15/200\n",
      "511/511 - 8s - 15ms/step - accuracy: 0.4420 - loss: 1.4119 - val_accuracy: 0.4399 - val_loss: 1.4447\n",
      "Epoch 16/200\n",
      "511/511 - 7s - 15ms/step - accuracy: 0.4430 - loss: 1.4053 - val_accuracy: 0.4522 - val_loss: 1.4436\n",
      "Epoch 17/200\n",
      "511/511 - 8s - 15ms/step - accuracy: 0.4444 - loss: 1.3996 - val_accuracy: 0.4532 - val_loss: 1.4339\n",
      "Epoch 18/200\n",
      "511/511 - 7s - 15ms/step - accuracy: 0.4466 - loss: 1.3949 - val_accuracy: 0.4468 - val_loss: 1.4430\n",
      "Epoch 19/200\n",
      "511/511 - 8s - 15ms/step - accuracy: 0.4500 - loss: 1.3898 - val_accuracy: 0.4490 - val_loss: 1.4423\n",
      "Epoch 20/200\n",
      "511/511 - 7s - 15ms/step - accuracy: 0.4491 - loss: 1.3855 - val_accuracy: 0.4399 - val_loss: 1.4395\n",
      "Epoch 21/200\n",
      "511/511 - 8s - 15ms/step - accuracy: 0.4523 - loss: 1.3780 - val_accuracy: 0.4270 - val_loss: 1.4475\n",
      "Epoch 22/200\n",
      "511/511 - 8s - 17ms/step - accuracy: 0.4556 - loss: 1.3722 - val_accuracy: 0.4335 - val_loss: 1.4523\n",
      "Epoch 23/200\n",
      "511/511 - 8s - 15ms/step - accuracy: 0.4571 - loss: 1.3690 - val_accuracy: 0.4409 - val_loss: 1.4454\n",
      "Epoch 24/200\n",
      "511/511 - 8s - 16ms/step - accuracy: 0.4591 - loss: 1.3609 - val_accuracy: 0.4313 - val_loss: 1.4520\n",
      "Epoch 25/200\n",
      "511/511 - 8s - 15ms/step - accuracy: 0.4575 - loss: 1.3583 - val_accuracy: 0.4393 - val_loss: 1.4438\n",
      "Epoch 26/200\n",
      "511/511 - 8s - 15ms/step - accuracy: 0.4613 - loss: 1.3517 - val_accuracy: 0.4404 - val_loss: 1.4519\n",
      "Epoch 27/200\n",
      "511/511 - 8s - 15ms/step - accuracy: 0.4635 - loss: 1.3458 - val_accuracy: 0.4436 - val_loss: 1.4584\n",
      "Epoch 28/200\n",
      "511/511 - 8s - 15ms/step - accuracy: 0.4673 - loss: 1.3391 - val_accuracy: 0.4393 - val_loss: 1.4555\n",
      "Epoch 29/200\n",
      "511/511 - 8s - 15ms/step - accuracy: 0.4698 - loss: 1.3318 - val_accuracy: 0.4399 - val_loss: 1.4642\n",
      "Epoch 30/200\n",
      "511/511 - 8s - 15ms/step - accuracy: 0.4727 - loss: 1.3275 - val_accuracy: 0.4233 - val_loss: 1.4625\n",
      "Epoch 31/200\n",
      "511/511 - 8s - 15ms/step - accuracy: 0.4755 - loss: 1.3204 - val_accuracy: 0.4292 - val_loss: 1.4703\n",
      "Epoch 32/200\n",
      "511/511 - 8s - 15ms/step - accuracy: 0.4764 - loss: 1.3139 - val_accuracy: 0.4222 - val_loss: 1.4711\n",
      "Epoch 33/200\n",
      "511/511 - 8s - 16ms/step - accuracy: 0.4787 - loss: 1.3078 - val_accuracy: 0.4388 - val_loss: 1.4692\n",
      "Epoch 34/200\n",
      "511/511 - 8s - 16ms/step - accuracy: 0.4765 - loss: 1.3045 - val_accuracy: 0.4324 - val_loss: 1.4702\n",
      "Epoch 35/200\n",
      "511/511 - 8s - 16ms/step - accuracy: 0.4828 - loss: 1.2946 - val_accuracy: 0.4051 - val_loss: 1.4847\n",
      "Epoch 36/200\n",
      "511/511 - 8s - 16ms/step - accuracy: 0.4862 - loss: 1.2894 - val_accuracy: 0.3998 - val_loss: 1.4938\n",
      "Epoch 37/200\n",
      "511/511 - 8s - 16ms/step - accuracy: 0.4896 - loss: 1.2821 - val_accuracy: 0.4153 - val_loss: 1.4827\n",
      "Epoch 38/200\n",
      "511/511 - 9s - 17ms/step - accuracy: 0.4927 - loss: 1.2770 - val_accuracy: 0.4180 - val_loss: 1.4855\n",
      "Epoch 39/200\n",
      "511/511 - 9s - 17ms/step - accuracy: 0.4927 - loss: 1.2740 - val_accuracy: 0.4233 - val_loss: 1.4939\n",
      "Epoch 40/200\n",
      "511/511 - 8s - 16ms/step - accuracy: 0.4956 - loss: 1.2665 - val_accuracy: 0.4388 - val_loss: 1.4878\n",
      "Epoch 41/200\n",
      "511/511 - 8s - 16ms/step - accuracy: 0.5023 - loss: 1.2597 - val_accuracy: 0.4126 - val_loss: 1.4988\n",
      "Epoch 42/200\n",
      "511/511 - 8s - 16ms/step - accuracy: 0.5019 - loss: 1.2536 - val_accuracy: 0.4105 - val_loss: 1.4921\n",
      "Epoch 43/200\n",
      "511/511 - 8s - 16ms/step - accuracy: 0.5038 - loss: 1.2460 - val_accuracy: 0.4276 - val_loss: 1.5025\n",
      "Epoch 44/200\n",
      "511/511 - 8s - 16ms/step - accuracy: 0.5103 - loss: 1.2415 - val_accuracy: 0.3993 - val_loss: 1.5066\n",
      "Epoch 45/200\n",
      "511/511 - 8s - 16ms/step - accuracy: 0.5110 - loss: 1.2341 - val_accuracy: 0.4153 - val_loss: 1.5094\n",
      "Epoch 46/200\n",
      "511/511 - 8s - 16ms/step - accuracy: 0.5152 - loss: 1.2281 - val_accuracy: 0.4292 - val_loss: 1.5125\n",
      "Epoch 47/200\n",
      "511/511 - 8s - 16ms/step - accuracy: 0.5185 - loss: 1.2204 - val_accuracy: 0.4345 - val_loss: 1.5275\n",
      "Epoch 48/200\n",
      "511/511 - 8s - 16ms/step - accuracy: 0.5194 - loss: 1.2164 - val_accuracy: 0.4142 - val_loss: 1.5114\n",
      "Epoch 49/200\n",
      "511/511 - 8s - 16ms/step - accuracy: 0.5185 - loss: 1.2088 - val_accuracy: 0.4121 - val_loss: 1.5136\n",
      "Epoch 50/200\n",
      "511/511 - 8s - 17ms/step - accuracy: 0.5234 - loss: 1.2018 - val_accuracy: 0.4126 - val_loss: 1.5185\n",
      "Epoch 51/200\n",
      "511/511 - 9s - 17ms/step - accuracy: 0.5254 - loss: 1.1962 - val_accuracy: 0.4035 - val_loss: 1.5265\n",
      "Epoch 52/200\n",
      "511/511 - 8s - 16ms/step - accuracy: 0.5317 - loss: 1.1881 - val_accuracy: 0.4126 - val_loss: 1.5320\n",
      "Epoch 53/200\n",
      "511/511 - 8s - 16ms/step - accuracy: 0.5310 - loss: 1.1830 - val_accuracy: 0.4276 - val_loss: 1.5534\n",
      "Epoch 54/200\n",
      "511/511 - 8s - 16ms/step - accuracy: 0.5359 - loss: 1.1770 - val_accuracy: 0.4142 - val_loss: 1.5469\n",
      "Epoch 55/200\n",
      "511/511 - 8s - 16ms/step - accuracy: 0.5403 - loss: 1.1679 - val_accuracy: 0.3939 - val_loss: 1.5470\n",
      "Epoch 56/200\n",
      "511/511 - 8s - 16ms/step - accuracy: 0.5411 - loss: 1.1629 - val_accuracy: 0.4099 - val_loss: 1.5524\n",
      "Epoch 57/200\n",
      "511/511 - 8s - 16ms/step - accuracy: 0.5440 - loss: 1.1563 - val_accuracy: 0.4292 - val_loss: 1.5991\n",
      "Epoch 58/200\n",
      "511/511 - 8s - 16ms/step - accuracy: 0.5450 - loss: 1.1542 - val_accuracy: 0.4030 - val_loss: 1.5492\n",
      "Epoch 59/200\n",
      "511/511 - 8s - 16ms/step - accuracy: 0.5474 - loss: 1.1462 - val_accuracy: 0.3816 - val_loss: 1.5919\n",
      "Epoch 60/200\n",
      "511/511 - 8s - 15ms/step - accuracy: 0.5518 - loss: 1.1382 - val_accuracy: 0.4180 - val_loss: 1.5687\n",
      "Epoch 61/200\n",
      "511/511 - 8s - 15ms/step - accuracy: 0.5478 - loss: 1.1321 - val_accuracy: 0.3971 - val_loss: 1.5892\n",
      "Epoch 62/200\n",
      "511/511 - 8s - 15ms/step - accuracy: 0.5590 - loss: 1.1246 - val_accuracy: 0.4099 - val_loss: 1.5880\n",
      "Epoch 63/200\n",
      "511/511 - 8s - 15ms/step - accuracy: 0.5603 - loss: 1.1186 - val_accuracy: 0.3902 - val_loss: 1.5823\n",
      "Epoch 64/200\n",
      "511/511 - 8s - 16ms/step - accuracy: 0.5639 - loss: 1.1110 - val_accuracy: 0.3998 - val_loss: 1.6108\n",
      "Epoch 65/200\n",
      "511/511 - 8s - 16ms/step - accuracy: 0.5653 - loss: 1.1095 - val_accuracy: 0.3934 - val_loss: 1.6010\n",
      "Epoch 66/200\n",
      "511/511 - 8s - 16ms/step - accuracy: 0.5688 - loss: 1.1004 - val_accuracy: 0.3843 - val_loss: 1.5927\n",
      "Epoch 67/200\n",
      "511/511 - 8s - 16ms/step - accuracy: 0.5702 - loss: 1.0954 - val_accuracy: 0.4073 - val_loss: 1.6303\n",
      "Epoch 68/200\n",
      "511/511 - 8s - 16ms/step - accuracy: 0.5726 - loss: 1.0893 - val_accuracy: 0.3907 - val_loss: 1.6116\n",
      "Epoch 69/200\n",
      "511/511 - 8s - 16ms/step - accuracy: 0.5732 - loss: 1.0827 - val_accuracy: 0.3736 - val_loss: 1.6151\n",
      "Epoch 70/200\n",
      "511/511 - 8s - 16ms/step - accuracy: 0.5765 - loss: 1.0778 - val_accuracy: 0.3784 - val_loss: 1.6379\n",
      "Epoch 71/200\n",
      "511/511 - 8s - 15ms/step - accuracy: 0.5779 - loss: 1.0703 - val_accuracy: 0.3838 - val_loss: 1.6537\n",
      "Epoch 72/200\n",
      "511/511 - 8s - 15ms/step - accuracy: 0.5879 - loss: 1.0633 - val_accuracy: 0.3640 - val_loss: 1.6574\n",
      "Epoch 73/200\n",
      "511/511 - 8s - 15ms/step - accuracy: 0.5857 - loss: 1.0570 - val_accuracy: 0.4062 - val_loss: 1.6501\n",
      "Epoch 74/200\n",
      "511/511 - 8s - 15ms/step - accuracy: 0.5879 - loss: 1.0532 - val_accuracy: 0.3960 - val_loss: 1.6256\n",
      "Epoch 75/200\n",
      "511/511 - 8s - 15ms/step - accuracy: 0.5925 - loss: 1.0461 - val_accuracy: 0.4003 - val_loss: 1.6448\n",
      "Epoch 76/200\n",
      "511/511 - 8s - 15ms/step - accuracy: 0.5947 - loss: 1.0406 - val_accuracy: 0.4169 - val_loss: 1.6886\n",
      "Epoch 77/200\n",
      "511/511 - 8s - 16ms/step - accuracy: 0.5964 - loss: 1.0352 - val_accuracy: 0.3923 - val_loss: 1.6578\n",
      "Epoch 78/200\n",
      "511/511 - 8s - 16ms/step - accuracy: 0.5957 - loss: 1.0308 - val_accuracy: 0.4067 - val_loss: 1.6730\n",
      "Epoch 79/200\n",
      "511/511 - 8s - 15ms/step - accuracy: 0.6031 - loss: 1.0228 - val_accuracy: 0.4051 - val_loss: 1.6858\n",
      "Epoch 80/200\n",
      "511/511 - 8s - 16ms/step - accuracy: 0.6005 - loss: 1.0175 - val_accuracy: 0.3843 - val_loss: 1.6781\n",
      "Epoch 81/200\n",
      "511/511 - 8s - 15ms/step - accuracy: 0.6068 - loss: 1.0094 - val_accuracy: 0.3789 - val_loss: 1.6872\n",
      "Epoch 82/200\n",
      "511/511 - 8s - 15ms/step - accuracy: 0.6079 - loss: 1.0061 - val_accuracy: 0.3704 - val_loss: 1.6819\n",
      "Epoch 83/200\n",
      "511/511 - 8s - 15ms/step - accuracy: 0.6117 - loss: 1.0032 - val_accuracy: 0.3784 - val_loss: 1.6889\n",
      "Epoch 84/200\n",
      "511/511 - 8s - 15ms/step - accuracy: 0.6152 - loss: 0.9950 - val_accuracy: 0.3821 - val_loss: 1.6906\n",
      "Epoch 85/200\n",
      "511/511 - 8s - 16ms/step - accuracy: 0.6207 - loss: 0.9879 - val_accuracy: 0.3811 - val_loss: 1.6951\n",
      "Epoch 86/200\n",
      "511/511 - 8s - 15ms/step - accuracy: 0.6203 - loss: 0.9824 - val_accuracy: 0.3725 - val_loss: 1.7147\n",
      "Epoch 87/200\n",
      "511/511 - 8s - 15ms/step - accuracy: 0.6222 - loss: 0.9773 - val_accuracy: 0.3613 - val_loss: 1.7563\n",
      "Epoch 88/200\n",
      "511/511 - 8s - 15ms/step - accuracy: 0.6253 - loss: 0.9702 - val_accuracy: 0.3832 - val_loss: 1.7330\n",
      "Epoch 89/200\n",
      "511/511 - 8s - 15ms/step - accuracy: 0.6285 - loss: 0.9650 - val_accuracy: 0.3741 - val_loss: 1.7627\n",
      "Epoch 90/200\n",
      "511/511 - 8s - 15ms/step - accuracy: 0.6288 - loss: 0.9584 - val_accuracy: 0.4062 - val_loss: 1.7935\n",
      "Epoch 91/200\n",
      "511/511 - 8s - 15ms/step - accuracy: 0.6333 - loss: 0.9540 - val_accuracy: 0.3768 - val_loss: 1.7523\n",
      "Epoch 92/200\n",
      "511/511 - 8s - 15ms/step - accuracy: 0.6311 - loss: 0.9475 - val_accuracy: 0.3779 - val_loss: 1.7292\n",
      "Epoch 93/200\n",
      "511/511 - 8s - 16ms/step - accuracy: 0.6404 - loss: 0.9443 - val_accuracy: 0.3870 - val_loss: 1.7707\n",
      "Epoch 94/200\n",
      "511/511 - 8s - 16ms/step - accuracy: 0.6373 - loss: 0.9405 - val_accuracy: 0.3864 - val_loss: 1.7459\n",
      "Epoch 95/200\n",
      "511/511 - 8s - 16ms/step - accuracy: 0.6416 - loss: 0.9320 - val_accuracy: 0.3848 - val_loss: 1.7728\n",
      "Epoch 96/200\n",
      "511/511 - 8s - 16ms/step - accuracy: 0.6465 - loss: 0.9236 - val_accuracy: 0.3757 - val_loss: 1.7777\n",
      "Epoch 97/200\n",
      "511/511 - 8s - 15ms/step - accuracy: 0.6483 - loss: 0.9198 - val_accuracy: 0.3789 - val_loss: 1.7838\n",
      "Epoch 98/200\n",
      "511/511 - 8s - 16ms/step - accuracy: 0.6517 - loss: 0.9112 - val_accuracy: 0.3650 - val_loss: 1.8050\n",
      "Epoch 99/200\n",
      "511/511 - 8s - 16ms/step - accuracy: 0.6528 - loss: 0.9090 - val_accuracy: 0.3650 - val_loss: 1.8021\n",
      "Epoch 100/200\n",
      "511/511 - 8s - 16ms/step - accuracy: 0.6564 - loss: 0.9022 - val_accuracy: 0.3586 - val_loss: 1.8128\n",
      "Epoch 101/200\n",
      "511/511 - 8s - 15ms/step - accuracy: 0.6583 - loss: 0.8991 - val_accuracy: 0.3720 - val_loss: 1.8224\n",
      "Epoch 102/200\n",
      "511/511 - 8s - 16ms/step - accuracy: 0.6584 - loss: 0.8934 - val_accuracy: 0.3747 - val_loss: 1.8225\n",
      "Epoch 103/200\n",
      "511/511 - 8s - 16ms/step - accuracy: 0.6614 - loss: 0.8848 - val_accuracy: 0.3832 - val_loss: 1.8448\n",
      "Epoch 104/200\n",
      "511/511 - 8s - 16ms/step - accuracy: 0.6650 - loss: 0.8796 - val_accuracy: 0.3736 - val_loss: 1.8372\n",
      "Epoch 105/200\n",
      "511/511 - 8s - 16ms/step - accuracy: 0.6660 - loss: 0.8745 - val_accuracy: 0.3693 - val_loss: 1.8803\n",
      "Epoch 106/200\n",
      "511/511 - 8s - 16ms/step - accuracy: 0.6687 - loss: 0.8704 - val_accuracy: 0.3720 - val_loss: 1.8713\n",
      "Epoch 107/200\n",
      "511/511 - 8s - 16ms/step - accuracy: 0.6742 - loss: 0.8633 - val_accuracy: 0.3592 - val_loss: 1.8656\n",
      "Epoch 108/200\n",
      "511/511 - 8s - 16ms/step - accuracy: 0.6697 - loss: 0.8628 - val_accuracy: 0.3843 - val_loss: 1.8723\n",
      "Epoch 109/200\n",
      "511/511 - 8s - 15ms/step - accuracy: 0.6760 - loss: 0.8529 - val_accuracy: 0.3458 - val_loss: 1.8952\n",
      "Epoch 110/200\n",
      "511/511 - 8s - 16ms/step - accuracy: 0.6819 - loss: 0.8469 - val_accuracy: 0.3752 - val_loss: 1.8713\n",
      "Epoch 111/200\n",
      "511/511 - 8s - 16ms/step - accuracy: 0.6774 - loss: 0.8464 - val_accuracy: 0.3768 - val_loss: 1.9000\n",
      "Epoch 112/200\n",
      "511/511 - 8s - 16ms/step - accuracy: 0.6867 - loss: 0.8372 - val_accuracy: 0.3608 - val_loss: 1.8981\n",
      "Epoch 113/200\n",
      "511/511 - 8s - 16ms/step - accuracy: 0.6868 - loss: 0.8316 - val_accuracy: 0.3752 - val_loss: 1.9204\n",
      "Epoch 114/200\n",
      "511/511 - 8s - 16ms/step - accuracy: 0.6855 - loss: 0.8295 - val_accuracy: 0.3661 - val_loss: 1.9095\n",
      "Epoch 115/200\n",
      "511/511 - 8s - 16ms/step - accuracy: 0.6925 - loss: 0.8207 - val_accuracy: 0.3634 - val_loss: 1.9168\n",
      "Epoch 116/200\n",
      "511/511 - 8s - 16ms/step - accuracy: 0.6950 - loss: 0.8143 - val_accuracy: 0.3581 - val_loss: 1.9513\n",
      "Epoch 117/200\n",
      "511/511 - 8s - 16ms/step - accuracy: 0.6965 - loss: 0.8118 - val_accuracy: 0.3421 - val_loss: 1.9259\n",
      "Epoch 118/200\n",
      "511/511 - 8s - 15ms/step - accuracy: 0.6970 - loss: 0.8100 - val_accuracy: 0.3581 - val_loss: 1.9549\n",
      "Epoch 119/200\n",
      "511/511 - 8s - 15ms/step - accuracy: 0.7033 - loss: 0.8011 - val_accuracy: 0.3576 - val_loss: 1.9717\n",
      "Epoch 120/200\n",
      "511/511 - 8s - 15ms/step - accuracy: 0.7000 - loss: 0.7976 - val_accuracy: 0.3511 - val_loss: 1.9748\n",
      "Epoch 121/200\n",
      "511/511 - 8s - 15ms/step - accuracy: 0.7042 - loss: 0.7937 - val_accuracy: 0.3656 - val_loss: 1.9656\n",
      "Epoch 122/200\n",
      "511/511 - 8s - 15ms/step - accuracy: 0.7039 - loss: 0.7881 - val_accuracy: 0.3405 - val_loss: 1.9943\n",
      "Epoch 123/200\n",
      "511/511 - 8s - 15ms/step - accuracy: 0.7068 - loss: 0.7818 - val_accuracy: 0.3506 - val_loss: 1.9795\n",
      "Epoch 124/200\n",
      "511/511 - 8s - 15ms/step - accuracy: 0.7091 - loss: 0.7764 - val_accuracy: 0.3506 - val_loss: 1.9936\n",
      "Epoch 125/200\n",
      "511/511 - 8s - 15ms/step - accuracy: 0.7145 - loss: 0.7721 - val_accuracy: 0.3661 - val_loss: 1.9923\n",
      "Epoch 126/200\n",
      "511/511 - 8s - 15ms/step - accuracy: 0.7152 - loss: 0.7655 - val_accuracy: 0.3715 - val_loss: 2.0525\n",
      "Epoch 127/200\n",
      "511/511 - 8s - 15ms/step - accuracy: 0.7145 - loss: 0.7643 - val_accuracy: 0.3533 - val_loss: 2.0459\n",
      "Epoch 128/200\n",
      "511/511 - 7s - 15ms/step - accuracy: 0.7178 - loss: 0.7576 - val_accuracy: 0.3864 - val_loss: 2.0510\n",
      "Epoch 129/200\n",
      "511/511 - 8s - 15ms/step - accuracy: 0.7170 - loss: 0.7555 - val_accuracy: 0.3565 - val_loss: 2.0359\n",
      "Epoch 130/200\n",
      "511/511 - 8s - 15ms/step - accuracy: 0.7240 - loss: 0.7482 - val_accuracy: 0.3757 - val_loss: 2.0590\n",
      "Epoch 131/200\n",
      "511/511 - 7s - 15ms/step - accuracy: 0.7303 - loss: 0.7394 - val_accuracy: 0.3683 - val_loss: 2.0505\n",
      "Epoch 132/200\n",
      "511/511 - 8s - 15ms/step - accuracy: 0.7254 - loss: 0.7381 - val_accuracy: 0.3421 - val_loss: 2.0739\n",
      "Epoch 133/200\n",
      "511/511 - 8s - 15ms/step - accuracy: 0.7277 - loss: 0.7347 - val_accuracy: 0.3634 - val_loss: 2.0717\n",
      "Epoch 134/200\n",
      "511/511 - 8s - 15ms/step - accuracy: 0.7328 - loss: 0.7300 - val_accuracy: 0.3431 - val_loss: 2.0726\n",
      "Epoch 135/200\n",
      "511/511 - 8s - 15ms/step - accuracy: 0.7370 - loss: 0.7208 - val_accuracy: 0.3340 - val_loss: 2.0843\n",
      "Epoch 136/200\n",
      "511/511 - 8s - 15ms/step - accuracy: 0.7378 - loss: 0.7138 - val_accuracy: 0.3447 - val_loss: 2.1207\n",
      "Epoch 137/200\n",
      "511/511 - 8s - 15ms/step - accuracy: 0.7385 - loss: 0.7143 - val_accuracy: 0.3666 - val_loss: 2.1266\n",
      "Epoch 138/200\n",
      "511/511 - 8s - 15ms/step - accuracy: 0.7377 - loss: 0.7103 - val_accuracy: 0.3415 - val_loss: 2.1224\n",
      "Epoch 139/200\n",
      "511/511 - 8s - 15ms/step - accuracy: 0.7451 - loss: 0.7049 - val_accuracy: 0.3602 - val_loss: 2.1275\n",
      "Epoch 140/200\n",
      "511/511 - 8s - 15ms/step - accuracy: 0.7436 - loss: 0.7007 - val_accuracy: 0.3394 - val_loss: 2.1420\n",
      "Epoch 141/200\n",
      "511/511 - 8s - 15ms/step - accuracy: 0.7498 - loss: 0.6911 - val_accuracy: 0.3196 - val_loss: 2.2115\n",
      "Epoch 142/200\n",
      "511/511 - 8s - 15ms/step - accuracy: 0.7459 - loss: 0.6900 - val_accuracy: 0.3453 - val_loss: 2.1586\n",
      "Epoch 143/200\n",
      "511/511 - 8s - 15ms/step - accuracy: 0.7486 - loss: 0.6847 - val_accuracy: 0.3469 - val_loss: 2.2019\n",
      "Epoch 144/200\n",
      "511/511 - 8s - 15ms/step - accuracy: 0.7529 - loss: 0.6784 - val_accuracy: 0.3373 - val_loss: 2.1617\n",
      "Epoch 145/200\n",
      "511/511 - 8s - 15ms/step - accuracy: 0.7535 - loss: 0.6754 - val_accuracy: 0.3431 - val_loss: 2.1788\n",
      "Epoch 146/200\n",
      "511/511 - 8s - 15ms/step - accuracy: 0.7513 - loss: 0.6752 - val_accuracy: 0.3474 - val_loss: 2.1890\n",
      "Epoch 147/200\n",
      "511/511 - 8s - 15ms/step - accuracy: 0.7576 - loss: 0.6682 - val_accuracy: 0.3544 - val_loss: 2.1798\n",
      "Epoch 148/200\n",
      "511/511 - 8s - 15ms/step - accuracy: 0.7592 - loss: 0.6600 - val_accuracy: 0.3501 - val_loss: 2.2032\n",
      "Epoch 149/200\n",
      "511/511 - 8s - 15ms/step - accuracy: 0.7632 - loss: 0.6594 - val_accuracy: 0.3763 - val_loss: 2.1949\n",
      "Epoch 150/200\n",
      "511/511 - 8s - 15ms/step - accuracy: 0.7651 - loss: 0.6523 - val_accuracy: 0.3661 - val_loss: 2.2176\n",
      "Epoch 151/200\n",
      "511/511 - 8s - 15ms/step - accuracy: 0.7652 - loss: 0.6481 - val_accuracy: 0.3640 - val_loss: 2.2425\n",
      "Epoch 152/200\n",
      "511/511 - 8s - 15ms/step - accuracy: 0.7686 - loss: 0.6392 - val_accuracy: 0.3453 - val_loss: 2.2649\n",
      "Epoch 153/200\n",
      "511/511 - 8s - 15ms/step - accuracy: 0.7689 - loss: 0.6389 - val_accuracy: 0.3618 - val_loss: 2.2693\n",
      "Epoch 154/200\n",
      "511/511 - 8s - 16ms/step - accuracy: 0.7734 - loss: 0.6308 - val_accuracy: 0.3405 - val_loss: 2.2864\n",
      "Epoch 155/200\n",
      "511/511 - 8s - 15ms/step - accuracy: 0.7763 - loss: 0.6281 - val_accuracy: 0.3260 - val_loss: 2.2711\n",
      "Epoch 156/200\n",
      "511/511 - 8s - 15ms/step - accuracy: 0.7727 - loss: 0.6280 - val_accuracy: 0.3453 - val_loss: 2.2809\n",
      "Epoch 157/200\n",
      "511/511 - 8s - 15ms/step - accuracy: 0.7774 - loss: 0.6203 - val_accuracy: 0.3592 - val_loss: 2.2720\n",
      "Epoch 158/200\n",
      "511/511 - 8s - 15ms/step - accuracy: 0.7818 - loss: 0.6160 - val_accuracy: 0.3143 - val_loss: 2.2906\n",
      "Epoch 159/200\n",
      "511/511 - 8s - 15ms/step - accuracy: 0.7809 - loss: 0.6138 - val_accuracy: 0.3490 - val_loss: 2.3182\n",
      "Epoch 160/200\n",
      "511/511 - 8s - 15ms/step - accuracy: 0.7862 - loss: 0.6057 - val_accuracy: 0.3453 - val_loss: 2.3087\n",
      "Epoch 161/200\n",
      "511/511 - 8s - 15ms/step - accuracy: 0.7842 - loss: 0.6033 - val_accuracy: 0.3554 - val_loss: 2.3651\n",
      "Epoch 162/200\n",
      "511/511 - 8s - 15ms/step - accuracy: 0.7887 - loss: 0.5984 - val_accuracy: 0.3469 - val_loss: 2.3420\n",
      "Epoch 163/200\n",
      "511/511 - 8s - 15ms/step - accuracy: 0.7883 - loss: 0.5951 - val_accuracy: 0.3581 - val_loss: 2.3502\n",
      "Epoch 164/200\n",
      "511/511 - 8s - 15ms/step - accuracy: 0.7889 - loss: 0.5907 - val_accuracy: 0.3565 - val_loss: 2.3644\n",
      "Epoch 165/200\n",
      "511/511 - 8s - 15ms/step - accuracy: 0.7903 - loss: 0.5869 - val_accuracy: 0.3581 - val_loss: 2.4038\n",
      "Epoch 166/200\n",
      "511/511 - 8s - 15ms/step - accuracy: 0.7894 - loss: 0.5835 - val_accuracy: 0.3373 - val_loss: 2.4080\n",
      "Epoch 167/200\n",
      "511/511 - 8s - 16ms/step - accuracy: 0.7971 - loss: 0.5756 - val_accuracy: 0.3495 - val_loss: 2.4175\n",
      "Epoch 168/200\n",
      "511/511 - 8s - 15ms/step - accuracy: 0.7985 - loss: 0.5769 - val_accuracy: 0.3501 - val_loss: 2.4040\n",
      "Epoch 169/200\n",
      "511/511 - 8s - 15ms/step - accuracy: 0.8016 - loss: 0.5688 - val_accuracy: 0.3506 - val_loss: 2.4561\n",
      "Epoch 170/200\n",
      "511/511 - 8s - 16ms/step - accuracy: 0.7988 - loss: 0.5683 - val_accuracy: 0.3340 - val_loss: 2.4247\n",
      "Epoch 171/200\n",
      "511/511 - 8s - 15ms/step - accuracy: 0.8030 - loss: 0.5603 - val_accuracy: 0.3501 - val_loss: 2.4740\n",
      "Epoch 172/200\n",
      "511/511 - 8s - 15ms/step - accuracy: 0.8066 - loss: 0.5562 - val_accuracy: 0.3405 - val_loss: 2.4568\n",
      "Epoch 173/200\n",
      "511/511 - 8s - 15ms/step - accuracy: 0.8027 - loss: 0.5518 - val_accuracy: 0.3843 - val_loss: 2.5399\n",
      "Epoch 174/200\n",
      "511/511 - 8s - 15ms/step - accuracy: 0.8082 - loss: 0.5489 - val_accuracy: 0.3528 - val_loss: 2.4961\n",
      "Epoch 175/200\n",
      "511/511 - 8s - 15ms/step - accuracy: 0.8122 - loss: 0.5451 - val_accuracy: 0.3672 - val_loss: 2.5089\n",
      "Epoch 176/200\n",
      "511/511 - 8s - 16ms/step - accuracy: 0.8099 - loss: 0.5400 - val_accuracy: 0.3554 - val_loss: 2.5022\n",
      "Epoch 177/200\n",
      "511/511 - 8s - 16ms/step - accuracy: 0.8120 - loss: 0.5385 - val_accuracy: 0.3485 - val_loss: 2.4831\n",
      "Epoch 178/200\n",
      "511/511 - 8s - 16ms/step - accuracy: 0.8188 - loss: 0.5278 - val_accuracy: 0.3485 - val_loss: 2.5521\n",
      "Epoch 179/200\n",
      "511/511 - 8s - 16ms/step - accuracy: 0.8137 - loss: 0.5293 - val_accuracy: 0.3586 - val_loss: 2.5389\n",
      "Epoch 180/200\n",
      "511/511 - 8s - 15ms/step - accuracy: 0.8187 - loss: 0.5253 - val_accuracy: 0.3485 - val_loss: 2.5463\n",
      "Epoch 181/200\n",
      "511/511 - 8s - 15ms/step - accuracy: 0.8192 - loss: 0.5200 - val_accuracy: 0.3506 - val_loss: 2.5581\n",
      "Epoch 182/200\n",
      "511/511 - 8s - 16ms/step - accuracy: 0.8227 - loss: 0.5181 - val_accuracy: 0.3148 - val_loss: 2.6076\n",
      "Epoch 183/200\n",
      "511/511 - 8s - 16ms/step - accuracy: 0.8219 - loss: 0.5150 - val_accuracy: 0.3399 - val_loss: 2.5818\n",
      "Epoch 184/200\n",
      "511/511 - 8s - 15ms/step - accuracy: 0.8275 - loss: 0.5073 - val_accuracy: 0.3437 - val_loss: 2.6001\n",
      "Epoch 185/200\n",
      "511/511 - 8s - 15ms/step - accuracy: 0.8280 - loss: 0.5055 - val_accuracy: 0.3533 - val_loss: 2.6190\n",
      "Epoch 186/200\n",
      "511/511 - 8s - 16ms/step - accuracy: 0.8287 - loss: 0.5016 - val_accuracy: 0.3116 - val_loss: 2.6554\n",
      "Epoch 187/200\n",
      "511/511 - 8s - 15ms/step - accuracy: 0.8295 - loss: 0.4980 - val_accuracy: 0.3292 - val_loss: 2.6510\n",
      "Epoch 188/200\n",
      "511/511 - 8s - 16ms/step - accuracy: 0.8278 - loss: 0.4958 - val_accuracy: 0.3169 - val_loss: 2.6703\n",
      "Epoch 189/200\n",
      "511/511 - 8s - 15ms/step - accuracy: 0.8367 - loss: 0.4858 - val_accuracy: 0.3645 - val_loss: 2.6783\n",
      "Epoch 190/200\n",
      "511/511 - 8s - 15ms/step - accuracy: 0.8323 - loss: 0.4908 - val_accuracy: 0.3469 - val_loss: 2.6534\n",
      "Epoch 191/200\n",
      "511/511 - 8s - 15ms/step - accuracy: 0.8332 - loss: 0.4847 - val_accuracy: 0.3378 - val_loss: 2.6942\n",
      "Epoch 192/200\n",
      "511/511 - 8s - 15ms/step - accuracy: 0.8397 - loss: 0.4718 - val_accuracy: 0.3511 - val_loss: 2.7095\n",
      "Epoch 193/200\n",
      "511/511 - 8s - 15ms/step - accuracy: 0.8390 - loss: 0.4734 - val_accuracy: 0.3405 - val_loss: 2.6824\n",
      "Epoch 194/200\n",
      "511/511 - 8s - 15ms/step - accuracy: 0.8374 - loss: 0.4793 - val_accuracy: 0.3378 - val_loss: 2.7039\n",
      "Epoch 195/200\n",
      "511/511 - 8s - 15ms/step - accuracy: 0.8392 - loss: 0.4686 - val_accuracy: 0.3495 - val_loss: 2.7195\n",
      "Epoch 196/200\n",
      "511/511 - 8s - 16ms/step - accuracy: 0.8408 - loss: 0.4667 - val_accuracy: 0.3522 - val_loss: 2.7443\n",
      "Epoch 197/200\n",
      "511/511 - 8s - 15ms/step - accuracy: 0.8438 - loss: 0.4605 - val_accuracy: 0.3538 - val_loss: 2.7524\n",
      "Epoch 198/200\n",
      "511/511 - 8s - 15ms/step - accuracy: 0.8499 - loss: 0.4535 - val_accuracy: 0.3356 - val_loss: 2.7601\n",
      "Epoch 199/200\n",
      "511/511 - 8s - 15ms/step - accuracy: 0.8476 - loss: 0.4538 - val_accuracy: 0.3453 - val_loss: 2.7681\n",
      "Epoch 200/200\n",
      "511/511 - 8s - 15ms/step - accuracy: 0.8487 - loss: 0.4484 - val_accuracy: 0.3560 - val_loss: 2.8226\n"
     ]
    }
   ],
   "execution_count": 14
  },
  {
   "metadata": {
    "ExecuteTime": {
     "end_time": "2025-02-25T03:06:30.369054Z",
     "start_time": "2025-02-25T03:06:30.355670Z"
    }
   },
   "cell_type": "code",
   "source": [
    "# Save the entire model (architecture, weights, and optimizer state)\n",
    "model.save(\"../models/facet_unimodal_baseline_model.h5\")"
   ],
   "id": "15a3fdfee500b4bd",
   "outputs": [
    {
     "name": "stderr",
     "output_type": "stream",
     "text": [
      "WARNING:absl:You are saving your model as an HDF5 file via `model.save()` or `keras.saving.save_model(model)`. This file format is considered legacy. We recommend using instead the native Keras format, e.g. `model.save('my_model.keras')` or `keras.saving.save_model(model, 'my_model.keras')`. \n"
     ]
    }
   ],
   "execution_count": 15
  },
  {
   "metadata": {},
   "cell_type": "markdown",
   "source": "### Evaluating Model - Predictions and Metrics",
   "id": "ae612d344194ec80"
  },
  {
   "metadata": {
    "ExecuteTime": {
     "end_time": "2025-02-25T03:30:06.180268Z",
     "start_time": "2025-02-25T03:30:05.439046Z"
    }
   },
   "cell_type": "code",
   "source": "y_predict = np.argmax(model.predict(X_test_reshape), axis=1)",
   "id": "7b2198d41b97b9c6",
   "outputs": [
    {
     "name": "stdout",
     "output_type": "stream",
     "text": [
      "\u001B[1m146/146\u001B[0m \u001B[32m━━━━━━━━━━━━━━━━━━━━\u001B[0m\u001B[37m\u001B[0m \u001B[1m1s\u001B[0m 4ms/step\n"
     ]
    }
   ],
   "execution_count": 16
  },
  {
   "metadata": {
    "ExecuteTime": {
     "end_time": "2025-02-25T03:30:10.445274Z",
     "start_time": "2025-02-25T03:30:10.433135Z"
    }
   },
   "cell_type": "code",
   "source": [
    "# Compute the confusion matrix\n",
    "cm = confusion_matrix(Y_test_reshape, y_predict, normalize='true')\n",
    "\n",
    "# Compute precision, recall, and f1-score using classification_report\n",
    "report = classification_report(Y_test_reshape, y_predict)\n",
    "print(\"Classification Report:\")\n",
    "print(report)"
   ],
   "id": "58c1fcc3670846d5",
   "outputs": [
    {
     "name": "stdout",
     "output_type": "stream",
     "text": [
      "Classification Report:\n",
      "              precision    recall  f1-score   support\n",
      "\n",
      "           0       0.09      0.07      0.08        70\n",
      "           1       0.12      0.12      0.12       399\n",
      "           2       0.13      0.10      0.11       554\n",
      "           3       0.43      0.56      0.49      1927\n",
      "           4       0.31      0.24      0.27      1230\n",
      "           5       0.15      0.11      0.13       441\n",
      "           6       0.03      0.02      0.03        41\n",
      "\n",
      "    accuracy                           0.33      4662\n",
      "   macro avg       0.18      0.18      0.18      4662\n",
      "weighted avg       0.30      0.33      0.31      4662\n",
      "\n"
     ]
    }
   ],
   "execution_count": 17
  },
  {
   "metadata": {
    "ExecuteTime": {
     "end_time": "2025-02-25T04:35:52.709267Z",
     "start_time": "2025-02-25T04:35:52.508463Z"
    }
   },
   "cell_type": "code",
   "source": [
    "fig, ax = plt.subplots(figsize=(4, 3))\n",
    "sns.heatmap(cm, annot=True, fmt=\".2f\", xticklabels=np.arange(-3, 3.1).astype(int),\n",
    "\t\t\tyticklabels=np.arange(-3, 3.1).astype(int), ax=ax)\n",
    "ax.set_xlabel(\"Predicted Labels\")\n",
    "ax.set_ylabel(\"True Labels\")\n",
    "ax.set_title(\"FACET Unimodal CNN\")\n",
    "# ax.set_xticklabels(np.arange(-3, 3.1))\n",
    "plt.show()\n",
    "fig.savefig('../figures/facet_unimodal_baseline_confusion_matrix.png', bbox_inches='tight', dpi=300)"
   ],
   "id": "7a716ee72f303768",
   "outputs": [
    {
     "data": {
      "text/plain": [
       "<Figure size 400x300 with 2 Axes>"
      ],
      "image/png": "[encoded data removed]"
     },
     "metadata": {},
     "output_type": "display_data"
    }
   ],
   "execution_count": 25
  },
  {
   "metadata": {},
   "cell_type": "code",
   "outputs": [],
   "execution_count": null,
   "source": "",
   "id": "1c0e5320470847bf"
  }
 ],
 "metadata": {
  "kernelspec": {
   "display_name": "Python 3",
   "language": "python",
   "name": "python3"
  },
  "language_info": {
   "codemirror_mode": {
    "name": "ipython",
    "version": 2
   },
   "file_extension": ".py",
   "mimetype": "text/x-python",
   "name": "python",
   "nbconvert_exporter": "python",
   "pygments_lexer": "ipython2",
   "version": "2.7.6"
  }
 },
 "nbformat": 4,
 "nbformat_minor": 5
}

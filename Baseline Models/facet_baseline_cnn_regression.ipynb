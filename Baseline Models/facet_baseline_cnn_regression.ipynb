{
 "cells": [
  {
   "metadata": {},
   "cell_type": "markdown",
   "source": [
    "---\n",
    "\n",
    "## Facet: Facial Expressions in iMotions's Software Suite\n",
    "\n",
    "The facial expressions facet in iMotions's software suite harnesses advanced computer vision and machine learning techniques to detect, measure, and analyze facial movements. This module is pivotal for understanding emotional and behavioral responses in real-time.\n",
    "\n",
    "### Modality\n",
    "- **Type:** Visual (Video/Image)\n",
    "- **Purpose:**\n",
    "  - Decodes subtle facial cues and micro-expressions\n",
    "  - Provides real-time insights into emotional and affective states\n",
    "  - Supports a variety of research and practical applications, from consumer behavior analysis to psychological studies\n",
    "\n",
    "### Feature Extraction\n",
    "- **Pre-processing:**\n",
    "  - Implements robust facial landmark detection and alignment to ensure accuracy\n",
    "- **Analysis:**\n",
    "  - Utilizes the Facial Action Coding System (FACS) to quantify muscle activations\n",
    "  - Measures expression intensity, duration, and frequency for comprehensive emotion profiling\n",
    "- **Applications:**\n",
    "  - Market research and advertising to gauge consumer reactions\n",
    "  - Psychological and behavioral studies to analyze emotional responses\n",
    "  - Human-computer interaction (HCI) to improve user experience and adaptive interfaces\n",
    "\n",
    "---"
   ],
   "id": "49bdb5c09c0c94a3"
  },
  {
   "metadata": {},
   "cell_type": "markdown",
   "source": "### Importing Libraries",
   "id": "6b6577081b9270c3"
  },
  {
   "metadata": {
    "collapsed": true,
    "ExecuteTime": {
     "end_time": "2025-02-26T04:02:28.887489Z",
     "start_time": "2025-02-26T04:02:28.871954Z"
    }
   },
   "cell_type": "code",
   "source": [
    "import pickle\n",
    "\n",
    "import matplotlib.pyplot as plt\n",
    "import numpy as np\n",
    "import seaborn as sns\n",
    "from sklearn.metrics import confusion_matrix, classification_report\n",
    "from tensorflow.keras.layers import (\n",
    "\tConv2D,\n",
    "\tMaxPooling2D,\n",
    "\tAveragePooling2D,\n",
    "\tFlatten,\n",
    "\tDense,\n",
    ")\n",
    "from tensorflow.keras.models import Sequential\n",
    "from tensorflow.keras.optimizers import Adam\n",
    "from sklearn.metrics import mean_absolute_error, r2_score\n",
    "from scipy.stats import pearsonr"
   ],
   "id": "initial_id",
   "outputs": [],
   "execution_count": 13
  },
  {
   "metadata": {},
   "cell_type": "markdown",
   "source": "### Loading Data Tensors",
   "id": "6a149b08c4e65582"
  },
  {
   "metadata": {
    "ExecuteTime": {
     "end_time": "2025-02-26T03:17:56.298822Z",
     "start_time": "2025-02-26T03:17:53.539412Z"
    }
   },
   "cell_type": "code",
   "source": [
    "with open('../data/tensors.pkl', 'rb') as fr:\n",
    "    data_tensors = pickle.load(fr)"
   ],
   "id": "7debe840d5d7da0",
   "outputs": [],
   "execution_count": 2
  },
  {
   "metadata": {},
   "cell_type": "markdown",
   "source": "### Prepare Data into Partitions that make sense",
   "id": "22c4557af2bf127e"
  },
  {
   "metadata": {
    "ExecuteTime": {
     "end_time": "2025-02-26T03:17:56.374029Z",
     "start_time": "2025-02-26T03:17:56.371932Z"
    }
   },
   "cell_type": "code",
   "source": [
    "partitions_ = data_tensors[1]\n",
    "data_all = data_tensors[0]\n",
    "data_partitions = {partitions_[0]: data_all[0], partitions_[1]: data_all[1], partitions_[2]: data_all[2]}\n"
   ],
   "id": "b44d166ab988bd15",
   "outputs": [],
   "execution_count": 3
  },
  {
   "metadata": {
    "ExecuteTime": {
     "end_time": "2025-02-26T03:17:56.386522Z",
     "start_time": "2025-02-26T03:17:56.382907Z"
    }
   },
   "cell_type": "code",
   "source": "data_partitions['train'].keys()",
   "id": "890ff4c87099819",
   "outputs": [
    {
     "data": {
      "text/plain": [
       "dict_keys(['COAVAREP', 'FACET 4.2', 'OpenFace_2.0', 'All Labels', 'glove_vectors', 'OpenSMILE'])"
      ]
     },
     "execution_count": 4,
     "metadata": {},
     "output_type": "execute_result"
    }
   ],
   "execution_count": 4
  },
  {
   "metadata": {
    "ExecuteTime": {
     "end_time": "2025-02-26T03:17:56.399014Z",
     "start_time": "2025-02-26T03:17:56.396609Z"
    }
   },
   "cell_type": "code",
   "source": "data_partitions['train']['FACET 4.2'].shape",
   "id": "47b466614c449253",
   "outputs": [
    {
     "data": {
      "text/plain": [
       "(16327, 50, 35)"
      ]
     },
     "execution_count": 5,
     "metadata": {},
     "output_type": "execute_result"
    }
   ],
   "execution_count": 5
  },
  {
   "metadata": {},
   "cell_type": "markdown",
   "source": "### Exploring Training Data Distribution",
   "id": "82281513ccc400a"
  },
  {
   "metadata": {
    "ExecuteTime": {
     "end_time": "2025-02-26T03:17:56.507430Z",
     "start_time": "2025-02-26T03:17:56.408648Z"
    }
   },
   "cell_type": "code",
   "source": [
    "# looking at sentiment probability distribution in train\n",
    "fig, ax = plt.subplots(figsize=(4, 3))\n",
    "ax.hist(data_partitions['train']['All Labels'][:, :, 0])\n",
    "ax.set_xlabel(\"Sentiment Levels (Raw)\")\n",
    "ax.set_ylabel(\"Count\")\n",
    "ax.set_title('Sentiment Count Distribution for Training Data')\n",
    "plt.show()"
   ],
   "id": "cfc456d2ae9c8103",
   "outputs": [
    {
     "data": {
      "text/plain": [
       "<Figure size 400x300 with 1 Axes>"
      ],
      "image/png": "[encoded data removed]"
     },
     "metadata": {},
     "output_type": "display_data"
    }
   ],
   "execution_count": 6
  },
  {
   "metadata": {},
   "cell_type": "markdown",
   "source": "### Extract glove_vectors Only",
   "id": "6cec1ad69c08a54e"
  },
  {
   "metadata": {
    "ExecuteTime": {
     "end_time": "2025-02-26T03:17:56.517613Z",
     "start_time": "2025-02-26T03:17:56.515258Z"
    }
   },
   "cell_type": "code",
   "source": [
    "for k in data_partitions['train'].keys():\n",
    "    if k == 'FACET 4.2':\n",
    "        X_train = data_partitions['train'][k]\n",
    "        X_test = data_partitions['test'][k]\n",
    "        X_val = data_partitions['valid'][k]\n",
    "        print(f'{k} has dimension {X_train.shape[1:]}')"
   ],
   "id": "76cde0ce0a5311b4",
   "outputs": [
    {
     "name": "stdout",
     "output_type": "stream",
     "text": [
      "FACET 4.2 has dimension (50, 35)\n"
     ]
    }
   ],
   "execution_count": 7
  },
  {
   "metadata": {},
   "cell_type": "markdown",
   "source": "### Preparing Labels for Training, Testing, and Validation",
   "id": "47eb9bd886d5a2e6"
  },
  {
   "metadata": {
    "ExecuteTime": {
     "end_time": "2025-02-26T03:19:01.755699Z",
     "start_time": "2025-02-26T03:19:01.753138Z"
    }
   },
   "cell_type": "code",
   "source": [
    "# Use continuous sentiment values for regression:\n",
    "emo_selected = 0  # sentiment index\n",
    "Y_train = data_partitions['train']['All Labels'][:, :, emo_selected]\n",
    "Y_test = data_partitions['test']['All Labels'][:, :, emo_selected]\n",
    "Y_val = data_partitions['valid']['All Labels'][:, :, emo_selected]\n",
    "\n",
    "print(Y_train.shape, Y_test.shape, Y_val.shape)\n"
   ],
   "id": "5fa3848dc091732f",
   "outputs": [
    {
     "name": "stdout",
     "output_type": "stream",
     "text": [
      "(16327, 1) (4662, 1) (1871, 1)\n"
     ]
    }
   ],
   "execution_count": 8
  },
  {
   "metadata": {},
   "cell_type": "markdown",
   "source": "### Building the CNN Model",
   "id": "2f0480b8736f0a1b"
  },
  {
   "metadata": {
    "ExecuteTime": {
     "end_time": "2025-02-26T03:19:17.562080Z",
     "start_time": "2025-02-26T03:19:17.485935Z"
    }
   },
   "cell_type": "code",
   "source": [
    "input_dim_1 = X_train.shape[1]\n",
    "input_dim_2 = X_train.shape[2]\n",
    "\n",
    "model = Sequential()\n",
    "\n",
    "# 1st convolution layer\n",
    "model.add(Conv2D(64, (5, 5), activation=\"relu\", input_shape=(input_dim_1, input_dim_2, 1)))\n",
    "model.add(MaxPooling2D(pool_size=(5, 5), strides=(2, 2)))\n",
    "\n",
    "# 2nd convolution layer\n",
    "model.add(Conv2D(128, (3, 3), activation=\"relu\"))\n",
    "model.add(AveragePooling2D(pool_size=(3, 3), strides=(2, 2)))\n",
    "\n",
    "model.add(Flatten())\n",
    "\n",
    "# Regression output layer: 1 neuron with linear activation\n",
    "model.add(Dense(1, activation=\"linear\"))\n",
    "\n",
    "# Compile the model with a regression loss and metric\n",
    "model.compile(optimizer=Adam(learning_rate=0.0001),\n",
    "              loss='mse',\n",
    "              metrics=['mae'])"
   ],
   "id": "51da9e337c4892a5",
   "outputs": [
    {
     "name": "stderr",
     "output_type": "stream",
     "text": [
      "/Users/alexanderhsu/Documents/GitHub/11777-EMOji/venv/lib/python3.9/site-packages/keras/src/layers/convolutional/base_conv.py:107: UserWarning: Do not pass an `input_shape`/`input_dim` argument to a layer. When using Sequential models, prefer using an `Input(shape)` object as the first layer in the model instead.\n",
      "  super().__init__(activity_regularizer=activity_regularizer, **kwargs)\n"
     ]
    }
   ],
   "execution_count": 9
  },
  {
   "metadata": {},
   "cell_type": "markdown",
   "source": "### Preparing Data for Model Training",
   "id": "222ee1e36dbace6c"
  },
  {
   "metadata": {
    "ExecuteTime": {
     "end_time": "2025-02-26T03:19:26.894431Z",
     "start_time": "2025-02-26T03:19:26.724740Z"
    }
   },
   "cell_type": "code",
   "source": [
    "# Reshape the data\n",
    "X_train_reshape = X_train.reshape(-1, input_dim_1, input_dim_2, 1)\n",
    "Y_train_reshape = np.array(Y_train).reshape(-1, 1)\n",
    "X_test_reshape = X_test.reshape(-1, input_dim_1, input_dim_2, 1)\n",
    "Y_test_reshape = np.array(Y_test).reshape(-1, 1)\n",
    "X_val_reshape = X_val.reshape(-1, input_dim_1, input_dim_2, 1)\n",
    "Y_val_reshape = np.array(Y_val).reshape(-1, 1)\n",
    "\n",
    "# Handle potential Inf values in features\n",
    "X_train_reshape[np.isinf(X_train_reshape)] = np.nan\n",
    "X_train_reshape = np.nan_to_num(X_train_reshape, nan=np.nanmax(X_train_reshape))\n",
    "X_test_reshape[np.isinf(X_test_reshape)] = np.nan\n",
    "X_test_reshape = np.nan_to_num(X_test_reshape, nan=np.nanmax(X_test_reshape))\n",
    "X_val_reshape[np.isinf(X_val_reshape)] = np.nan\n",
    "X_val_reshape = np.nan_to_num(X_val_reshape, nan=np.nanmax(X_val_reshape))\n"
   ],
   "id": "a069070c69cbe7ee",
   "outputs": [],
   "execution_count": 10
  },
  {
   "metadata": {},
   "cell_type": "markdown",
   "source": "### Training the Model",
   "id": "a9e6e8e81994ad1c"
  },
  {
   "metadata": {
    "ExecuteTime": {
     "end_time": "2025-02-26T03:46:23.207588Z",
     "start_time": "2025-02-26T03:19:41.305101Z"
    }
   },
   "cell_type": "code",
   "source": [
    "history = model.fit(X_train_reshape, \n",
    "                    Y_train_reshape, \n",
    "                    epochs=200,\n",
    "                    batch_size=32,\n",
    "                    validation_data=(X_val_reshape, Y_val_reshape),\n",
    "                    verbose=2)"
   ],
   "id": "b54221325ded8c6b",
   "outputs": [
    {
     "name": "stdout",
     "output_type": "stream",
     "text": [
      "Epoch 1/200\n",
      "511/511 - 8s - 15ms/step - loss: 1.2016 - mae: 0.8253 - val_loss: 1.0377 - val_mae: 0.7643\n",
      "Epoch 2/200\n",
      "511/511 - 7s - 14ms/step - loss: 1.1707 - mae: 0.8176 - val_loss: 1.0355 - val_mae: 0.7635\n",
      "Epoch 3/200\n",
      "511/511 - 7s - 14ms/step - loss: 1.1535 - mae: 0.8143 - val_loss: 1.0327 - val_mae: 0.7650\n",
      "Epoch 4/200\n",
      "511/511 - 8s - 15ms/step - loss: 1.1414 - mae: 0.8112 - val_loss: 1.0285 - val_mae: 0.7644\n",
      "Epoch 5/200\n",
      "511/511 - 7s - 15ms/step - loss: 1.1295 - mae: 0.8075 - val_loss: 1.0362 - val_mae: 0.7668\n",
      "Epoch 6/200\n",
      "511/511 - 7s - 14ms/step - loss: 1.1219 - mae: 0.8044 - val_loss: 1.0372 - val_mae: 0.7716\n",
      "Epoch 7/200\n",
      "511/511 - 7s - 14ms/step - loss: 1.1115 - mae: 0.8014 - val_loss: 1.0308 - val_mae: 0.7686\n",
      "Epoch 8/200\n",
      "511/511 - 7s - 14ms/step - loss: 1.1085 - mae: 0.8011 - val_loss: 1.0400 - val_mae: 0.7717\n",
      "Epoch 9/200\n",
      "511/511 - 7s - 14ms/step - loss: 1.0970 - mae: 0.7975 - val_loss: 1.0239 - val_mae: 0.7676\n",
      "Epoch 10/200\n",
      "511/511 - 7s - 15ms/step - loss: 1.0901 - mae: 0.7952 - val_loss: 1.0813 - val_mae: 0.7958\n",
      "Epoch 11/200\n",
      "511/511 - 7s - 14ms/step - loss: 1.0852 - mae: 0.7934 - val_loss: 1.0696 - val_mae: 0.7917\n",
      "Epoch 12/200\n",
      "511/511 - 7s - 14ms/step - loss: 1.0760 - mae: 0.7907 - val_loss: 1.0305 - val_mae: 0.7719\n",
      "Epoch 13/200\n",
      "511/511 - 7s - 14ms/step - loss: 1.0700 - mae: 0.7891 - val_loss: 1.0405 - val_mae: 0.7758\n",
      "Epoch 14/200\n",
      "511/511 - 8s - 16ms/step - loss: 1.0635 - mae: 0.7867 - val_loss: 1.0381 - val_mae: 0.7765\n",
      "Epoch 15/200\n",
      "511/511 - 8s - 15ms/step - loss: 1.0543 - mae: 0.7844 - val_loss: 1.0626 - val_mae: 0.7899\n",
      "Epoch 16/200\n",
      "511/511 - 8s - 15ms/step - loss: 1.0510 - mae: 0.7835 - val_loss: 1.0376 - val_mae: 0.7750\n",
      "Epoch 17/200\n",
      "511/511 - 7s - 14ms/step - loss: 1.0410 - mae: 0.7804 - val_loss: 1.0361 - val_mae: 0.7768\n",
      "Epoch 18/200\n",
      "511/511 - 7s - 14ms/step - loss: 1.0371 - mae: 0.7782 - val_loss: 1.0295 - val_mae: 0.7714\n",
      "Epoch 19/200\n",
      "511/511 - 7s - 14ms/step - loss: 1.0256 - mae: 0.7771 - val_loss: 1.0767 - val_mae: 0.7988\n",
      "Epoch 20/200\n",
      "511/511 - 7s - 15ms/step - loss: 1.0272 - mae: 0.7761 - val_loss: 1.0422 - val_mae: 0.7754\n",
      "Epoch 21/200\n",
      "511/511 - 7s - 14ms/step - loss: 1.0192 - mae: 0.7736 - val_loss: 1.0362 - val_mae: 0.7776\n",
      "Epoch 22/200\n",
      "511/511 - 7s - 15ms/step - loss: 1.0129 - mae: 0.7713 - val_loss: 1.0344 - val_mae: 0.7762\n",
      "Epoch 23/200\n",
      "511/511 - 7s - 14ms/step - loss: 1.0058 - mae: 0.7675 - val_loss: 1.0682 - val_mae: 0.7938\n",
      "Epoch 24/200\n",
      "511/511 - 7s - 14ms/step - loss: 0.9994 - mae: 0.7656 - val_loss: 1.0423 - val_mae: 0.7820\n",
      "Epoch 25/200\n",
      "511/511 - 7s - 15ms/step - loss: 0.9955 - mae: 0.7653 - val_loss: 1.0587 - val_mae: 0.7859\n",
      "Epoch 26/200\n",
      "511/511 - 7s - 15ms/step - loss: 0.9862 - mae: 0.7616 - val_loss: 1.0390 - val_mae: 0.7816\n",
      "Epoch 27/200\n",
      "511/511 - 7s - 15ms/step - loss: 0.9810 - mae: 0.7605 - val_loss: 1.0524 - val_mae: 0.7902\n",
      "Epoch 28/200\n",
      "511/511 - 8s - 15ms/step - loss: 0.9755 - mae: 0.7588 - val_loss: 1.0456 - val_mae: 0.7854\n",
      "Epoch 29/200\n",
      "511/511 - 8s - 15ms/step - loss: 0.9742 - mae: 0.7582 - val_loss: 1.0431 - val_mae: 0.7838\n",
      "Epoch 30/200\n",
      "511/511 - 7s - 15ms/step - loss: 0.9672 - mae: 0.7569 - val_loss: 1.0468 - val_mae: 0.7834\n",
      "Epoch 31/200\n",
      "511/511 - 7s - 15ms/step - loss: 0.9603 - mae: 0.7530 - val_loss: 1.0633 - val_mae: 0.7897\n",
      "Epoch 32/200\n",
      "511/511 - 7s - 15ms/step - loss: 0.9557 - mae: 0.7515 - val_loss: 1.0564 - val_mae: 0.7903\n",
      "Epoch 33/200\n",
      "511/511 - 7s - 15ms/step - loss: 0.9514 - mae: 0.7500 - val_loss: 1.0426 - val_mae: 0.7813\n",
      "Epoch 34/200\n",
      "511/511 - 7s - 15ms/step - loss: 0.9444 - mae: 0.7480 - val_loss: 1.0661 - val_mae: 0.7937\n",
      "Epoch 35/200\n",
      "511/511 - 8s - 15ms/step - loss: 0.9386 - mae: 0.7456 - val_loss: 1.0700 - val_mae: 0.7971\n",
      "Epoch 36/200\n",
      "511/511 - 8s - 15ms/step - loss: 0.9340 - mae: 0.7436 - val_loss: 1.0833 - val_mae: 0.8021\n",
      "Epoch 37/200\n",
      "511/511 - 8s - 15ms/step - loss: 0.9270 - mae: 0.7417 - val_loss: 1.0508 - val_mae: 0.7887\n",
      "Epoch 38/200\n",
      "511/511 - 8s - 15ms/step - loss: 0.9214 - mae: 0.7396 - val_loss: 1.0529 - val_mae: 0.7892\n",
      "Epoch 39/200\n",
      "511/511 - 8s - 15ms/step - loss: 0.9151 - mae: 0.7365 - val_loss: 1.0737 - val_mae: 0.7982\n",
      "Epoch 40/200\n",
      "511/511 - 8s - 15ms/step - loss: 0.9092 - mae: 0.7347 - val_loss: 1.0628 - val_mae: 0.7911\n",
      "Epoch 41/200\n",
      "511/511 - 8s - 15ms/step - loss: 0.9097 - mae: 0.7375 - val_loss: 1.0618 - val_mae: 0.7924\n",
      "Epoch 42/200\n",
      "511/511 - 8s - 15ms/step - loss: 0.9010 - mae: 0.7327 - val_loss: 1.0876 - val_mae: 0.8041\n",
      "Epoch 43/200\n",
      "511/511 - 8s - 15ms/step - loss: 0.8929 - mae: 0.7300 - val_loss: 1.0645 - val_mae: 0.7967\n",
      "Epoch 44/200\n",
      "511/511 - 8s - 15ms/step - loss: 0.8839 - mae: 0.7260 - val_loss: 1.0933 - val_mae: 0.8060\n",
      "Epoch 45/200\n",
      "511/511 - 8s - 15ms/step - loss: 0.8819 - mae: 0.7257 - val_loss: 1.0935 - val_mae: 0.8064\n",
      "Epoch 46/200\n",
      "511/511 - 8s - 15ms/step - loss: 0.8772 - mae: 0.7233 - val_loss: 1.0976 - val_mae: 0.8090\n",
      "Epoch 47/200\n",
      "511/511 - 8s - 15ms/step - loss: 0.8713 - mae: 0.7216 - val_loss: 1.0953 - val_mae: 0.8089\n",
      "Epoch 48/200\n",
      "511/511 - 8s - 15ms/step - loss: 0.8675 - mae: 0.7176 - val_loss: 1.0635 - val_mae: 0.7949\n",
      "Epoch 49/200\n",
      "511/511 - 8s - 15ms/step - loss: 0.8611 - mae: 0.7170 - val_loss: 1.0706 - val_mae: 0.7976\n",
      "Epoch 50/200\n",
      "511/511 - 8s - 15ms/step - loss: 0.8519 - mae: 0.7137 - val_loss: 1.1153 - val_mae: 0.8166\n",
      "Epoch 51/200\n",
      "511/511 - 8s - 15ms/step - loss: 0.8482 - mae: 0.7117 - val_loss: 1.1421 - val_mae: 0.8288\n",
      "Epoch 52/200\n",
      "511/511 - 8s - 15ms/step - loss: 0.8408 - mae: 0.7092 - val_loss: 1.1060 - val_mae: 0.8152\n",
      "Epoch 53/200\n",
      "511/511 - 8s - 15ms/step - loss: 0.8400 - mae: 0.7086 - val_loss: 1.0832 - val_mae: 0.8061\n",
      "Epoch 54/200\n",
      "511/511 - 8s - 15ms/step - loss: 0.8364 - mae: 0.7079 - val_loss: 1.0924 - val_mae: 0.8077\n",
      "Epoch 55/200\n",
      "511/511 - 8s - 15ms/step - loss: 0.8316 - mae: 0.7054 - val_loss: 1.1051 - val_mae: 0.8113\n",
      "Epoch 56/200\n",
      "511/511 - 8s - 15ms/step - loss: 0.8211 - mae: 0.7036 - val_loss: 1.0794 - val_mae: 0.8013\n",
      "Epoch 57/200\n",
      "511/511 - 8s - 15ms/step - loss: 0.8159 - mae: 0.6989 - val_loss: 1.1043 - val_mae: 0.8099\n",
      "Epoch 58/200\n",
      "511/511 - 8s - 15ms/step - loss: 0.8114 - mae: 0.6968 - val_loss: 1.1154 - val_mae: 0.8184\n",
      "Epoch 59/200\n",
      "511/511 - 8s - 15ms/step - loss: 0.8073 - mae: 0.6957 - val_loss: 1.1112 - val_mae: 0.8166\n",
      "Epoch 60/200\n",
      "511/511 - 8s - 15ms/step - loss: 0.8013 - mae: 0.6934 - val_loss: 1.1239 - val_mae: 0.8222\n",
      "Epoch 61/200\n",
      "511/511 - 8s - 15ms/step - loss: 0.7995 - mae: 0.6913 - val_loss: 1.1189 - val_mae: 0.8186\n",
      "Epoch 62/200\n",
      "511/511 - 8s - 15ms/step - loss: 0.7899 - mae: 0.6881 - val_loss: 1.1029 - val_mae: 0.8132\n",
      "Epoch 63/200\n",
      "511/511 - 8s - 15ms/step - loss: 0.7841 - mae: 0.6858 - val_loss: 1.1351 - val_mae: 0.8312\n",
      "Epoch 64/200\n",
      "511/511 - 8s - 15ms/step - loss: 0.7805 - mae: 0.6856 - val_loss: 1.1603 - val_mae: 0.8332\n",
      "Epoch 65/200\n",
      "511/511 - 8s - 15ms/step - loss: 0.7785 - mae: 0.6837 - val_loss: 1.1245 - val_mae: 0.8218\n",
      "Epoch 66/200\n",
      "511/511 - 8s - 15ms/step - loss: 0.7706 - mae: 0.6814 - val_loss: 1.1255 - val_mae: 0.8204\n",
      "Epoch 67/200\n",
      "511/511 - 8s - 15ms/step - loss: 0.7656 - mae: 0.6779 - val_loss: 1.1839 - val_mae: 0.8412\n",
      "Epoch 68/200\n",
      "511/511 - 8s - 15ms/step - loss: 0.7590 - mae: 0.6762 - val_loss: 1.1333 - val_mae: 0.8315\n",
      "Epoch 69/200\n",
      "511/511 - 8s - 15ms/step - loss: 0.7592 - mae: 0.6755 - val_loss: 1.1842 - val_mae: 0.8410\n",
      "Epoch 70/200\n",
      "511/511 - 8s - 15ms/step - loss: 0.7509 - mae: 0.6706 - val_loss: 1.1652 - val_mae: 0.8385\n",
      "Epoch 71/200\n",
      "511/511 - 8s - 15ms/step - loss: 0.7476 - mae: 0.6698 - val_loss: 1.1433 - val_mae: 0.8354\n",
      "Epoch 72/200\n",
      "511/511 - 8s - 15ms/step - loss: 0.7437 - mae: 0.6694 - val_loss: 1.1457 - val_mae: 0.8324\n",
      "Epoch 73/200\n",
      "511/511 - 8s - 15ms/step - loss: 0.7340 - mae: 0.6646 - val_loss: 1.1521 - val_mae: 0.8333\n",
      "Epoch 74/200\n",
      "511/511 - 8s - 16ms/step - loss: 0.7292 - mae: 0.6620 - val_loss: 1.1624 - val_mae: 0.8381\n",
      "Epoch 75/200\n",
      "511/511 - 8s - 16ms/step - loss: 0.7254 - mae: 0.6612 - val_loss: 1.2036 - val_mae: 0.8538\n",
      "Epoch 76/200\n",
      "511/511 - 8s - 16ms/step - loss: 0.7186 - mae: 0.6583 - val_loss: 1.1729 - val_mae: 0.8475\n",
      "Epoch 77/200\n",
      "511/511 - 8s - 16ms/step - loss: 0.7172 - mae: 0.6569 - val_loss: 1.1383 - val_mae: 0.8310\n",
      "Epoch 78/200\n",
      "511/511 - 8s - 15ms/step - loss: 0.7097 - mae: 0.6532 - val_loss: 1.1710 - val_mae: 0.8417\n",
      "Epoch 79/200\n",
      "511/511 - 8s - 15ms/step - loss: 0.7069 - mae: 0.6527 - val_loss: 1.1646 - val_mae: 0.8411\n",
      "Epoch 80/200\n",
      "511/511 - 8s - 15ms/step - loss: 0.6993 - mae: 0.6494 - val_loss: 1.2115 - val_mae: 0.8611\n",
      "Epoch 81/200\n",
      "511/511 - 8s - 16ms/step - loss: 0.6969 - mae: 0.6481 - val_loss: 1.2277 - val_mae: 0.8660\n",
      "Epoch 82/200\n",
      "511/511 - 8s - 15ms/step - loss: 0.6926 - mae: 0.6472 - val_loss: 1.1848 - val_mae: 0.8457\n",
      "Epoch 83/200\n",
      "511/511 - 8s - 15ms/step - loss: 0.6862 - mae: 0.6437 - val_loss: 1.1702 - val_mae: 0.8461\n",
      "Epoch 84/200\n",
      "511/511 - 8s - 15ms/step - loss: 0.6812 - mae: 0.6409 - val_loss: 1.1985 - val_mae: 0.8560\n",
      "Epoch 85/200\n",
      "511/511 - 8s - 15ms/step - loss: 0.6788 - mae: 0.6404 - val_loss: 1.1934 - val_mae: 0.8542\n",
      "Epoch 86/200\n",
      "511/511 - 8s - 16ms/step - loss: 0.6718 - mae: 0.6371 - val_loss: 1.1920 - val_mae: 0.8489\n",
      "Epoch 87/200\n",
      "511/511 - 8s - 16ms/step - loss: 0.6755 - mae: 0.6382 - val_loss: 1.2131 - val_mae: 0.8557\n",
      "Epoch 88/200\n",
      "511/511 - 8s - 16ms/step - loss: 0.6607 - mae: 0.6318 - val_loss: 1.1994 - val_mae: 0.8566\n",
      "Epoch 89/200\n",
      "511/511 - 8s - 16ms/step - loss: 0.6609 - mae: 0.6308 - val_loss: 1.2126 - val_mae: 0.8567\n",
      "Epoch 90/200\n",
      "511/511 - 8s - 16ms/step - loss: 0.6538 - mae: 0.6293 - val_loss: 1.1700 - val_mae: 0.8443\n",
      "Epoch 91/200\n",
      "511/511 - 8s - 15ms/step - loss: 0.6510 - mae: 0.6261 - val_loss: 1.2360 - val_mae: 0.8662\n",
      "Epoch 92/200\n",
      "511/511 - 8s - 16ms/step - loss: 0.6467 - mae: 0.6241 - val_loss: 1.2057 - val_mae: 0.8563\n",
      "Epoch 93/200\n",
      "511/511 - 8s - 15ms/step - loss: 0.6426 - mae: 0.6232 - val_loss: 1.2831 - val_mae: 0.8962\n",
      "Epoch 94/200\n",
      "511/511 - 8s - 15ms/step - loss: 0.6375 - mae: 0.6196 - val_loss: 1.2199 - val_mae: 0.8645\n",
      "Epoch 95/200\n",
      "511/511 - 8s - 15ms/step - loss: 0.6274 - mae: 0.6161 - val_loss: 1.2203 - val_mae: 0.8660\n",
      "Epoch 96/200\n",
      "511/511 - 8s - 15ms/step - loss: 0.6274 - mae: 0.6162 - val_loss: 1.2319 - val_mae: 0.8667\n",
      "Epoch 97/200\n",
      "511/511 - 8s - 15ms/step - loss: 0.6241 - mae: 0.6154 - val_loss: 1.2284 - val_mae: 0.8694\n",
      "Epoch 98/200\n",
      "511/511 - 8s - 16ms/step - loss: 0.6164 - mae: 0.6102 - val_loss: 1.2443 - val_mae: 0.8755\n",
      "Epoch 99/200\n",
      "511/511 - 8s - 16ms/step - loss: 0.6115 - mae: 0.6092 - val_loss: 1.2188 - val_mae: 0.8624\n",
      "Epoch 100/200\n",
      "511/511 - 8s - 16ms/step - loss: 0.6073 - mae: 0.6071 - val_loss: 1.2367 - val_mae: 0.8673\n",
      "Epoch 101/200\n",
      "511/511 - 8s - 16ms/step - loss: 0.6048 - mae: 0.6043 - val_loss: 1.2300 - val_mae: 0.8640\n",
      "Epoch 102/200\n",
      "511/511 - 8s - 16ms/step - loss: 0.6009 - mae: 0.6041 - val_loss: 1.2302 - val_mae: 0.8764\n",
      "Epoch 103/200\n",
      "511/511 - 8s - 16ms/step - loss: 0.5962 - mae: 0.6004 - val_loss: 1.2381 - val_mae: 0.8693\n",
      "Epoch 104/200\n",
      "511/511 - 8s - 16ms/step - loss: 0.5938 - mae: 0.5986 - val_loss: 1.2398 - val_mae: 0.8645\n",
      "Epoch 105/200\n",
      "511/511 - 8s - 16ms/step - loss: 0.5889 - mae: 0.5967 - val_loss: 1.2527 - val_mae: 0.8766\n",
      "Epoch 106/200\n",
      "511/511 - 8s - 16ms/step - loss: 0.5835 - mae: 0.5933 - val_loss: 1.2442 - val_mae: 0.8742\n",
      "Epoch 107/200\n",
      "511/511 - 8s - 16ms/step - loss: 0.5774 - mae: 0.5904 - val_loss: 1.2921 - val_mae: 0.8936\n",
      "Epoch 108/200\n",
      "511/511 - 8s - 16ms/step - loss: 0.5734 - mae: 0.5897 - val_loss: 1.2473 - val_mae: 0.8795\n",
      "Epoch 109/200\n",
      "511/511 - 8s - 16ms/step - loss: 0.5692 - mae: 0.5889 - val_loss: 1.2500 - val_mae: 0.8809\n",
      "Epoch 110/200\n",
      "511/511 - 8s - 16ms/step - loss: 0.5650 - mae: 0.5839 - val_loss: 1.2633 - val_mae: 0.8852\n",
      "Epoch 111/200\n",
      "511/511 - 8s - 16ms/step - loss: 0.5605 - mae: 0.5828 - val_loss: 1.2956 - val_mae: 0.8944\n",
      "Epoch 112/200\n",
      "511/511 - 8s - 16ms/step - loss: 0.5613 - mae: 0.5833 - val_loss: 1.2765 - val_mae: 0.8897\n",
      "Epoch 113/200\n",
      "511/511 - 8s - 16ms/step - loss: 0.5529 - mae: 0.5788 - val_loss: 1.2539 - val_mae: 0.8748\n",
      "Epoch 114/200\n",
      "511/511 - 8s - 16ms/step - loss: 0.5512 - mae: 0.5776 - val_loss: 1.2787 - val_mae: 0.8898\n",
      "Epoch 115/200\n",
      "511/511 - 8s - 16ms/step - loss: 0.5435 - mae: 0.5737 - val_loss: 1.2933 - val_mae: 0.8907\n",
      "Epoch 116/200\n",
      "511/511 - 8s - 16ms/step - loss: 0.5433 - mae: 0.5727 - val_loss: 1.2820 - val_mae: 0.8887\n",
      "Epoch 117/200\n",
      "511/511 - 8s - 16ms/step - loss: 0.5356 - mae: 0.5696 - val_loss: 1.2667 - val_mae: 0.8853\n",
      "Epoch 118/200\n",
      "511/511 - 8s - 16ms/step - loss: 0.5317 - mae: 0.5688 - val_loss: 1.3036 - val_mae: 0.8990\n",
      "Epoch 119/200\n",
      "511/511 - 8s - 16ms/step - loss: 0.5291 - mae: 0.5668 - val_loss: 1.3025 - val_mae: 0.8996\n",
      "Epoch 120/200\n",
      "511/511 - 8s - 17ms/step - loss: 0.5259 - mae: 0.5646 - val_loss: 1.3198 - val_mae: 0.9008\n",
      "Epoch 121/200\n",
      "511/511 - 8s - 16ms/step - loss: 0.5221 - mae: 0.5635 - val_loss: 1.2892 - val_mae: 0.8906\n",
      "Epoch 122/200\n",
      "511/511 - 8s - 16ms/step - loss: 0.5199 - mae: 0.5623 - val_loss: 1.3000 - val_mae: 0.8909\n",
      "Epoch 123/200\n",
      "511/511 - 8s - 16ms/step - loss: 0.5126 - mae: 0.5570 - val_loss: 1.3210 - val_mae: 0.8990\n",
      "Epoch 124/200\n",
      "511/511 - 8s - 16ms/step - loss: 0.5124 - mae: 0.5587 - val_loss: 1.3289 - val_mae: 0.9060\n",
      "Epoch 125/200\n",
      "511/511 - 8s - 16ms/step - loss: 0.5072 - mae: 0.5544 - val_loss: 1.2971 - val_mae: 0.8947\n",
      "Epoch 126/200\n",
      "511/511 - 8s - 16ms/step - loss: 0.5022 - mae: 0.5521 - val_loss: 1.3011 - val_mae: 0.8974\n",
      "Epoch 127/200\n",
      "511/511 - 8s - 16ms/step - loss: 0.5013 - mae: 0.5514 - val_loss: 1.2865 - val_mae: 0.8930\n",
      "Epoch 128/200\n",
      "511/511 - 8s - 16ms/step - loss: 0.4938 - mae: 0.5479 - val_loss: 1.3086 - val_mae: 0.8981\n",
      "Epoch 129/200\n",
      "511/511 - 8s - 16ms/step - loss: 0.4885 - mae: 0.5436 - val_loss: 1.3592 - val_mae: 0.9125\n",
      "Epoch 130/200\n",
      "511/511 - 8s - 16ms/step - loss: 0.4924 - mae: 0.5461 - val_loss: 1.3598 - val_mae: 0.9171\n",
      "Epoch 131/200\n",
      "511/511 - 8s - 16ms/step - loss: 0.4913 - mae: 0.5477 - val_loss: 1.3100 - val_mae: 0.8989\n",
      "Epoch 132/200\n",
      "511/511 - 8s - 16ms/step - loss: 0.4796 - mae: 0.5392 - val_loss: 1.3940 - val_mae: 0.9232\n",
      "Epoch 133/200\n",
      "511/511 - 8s - 16ms/step - loss: 0.4778 - mae: 0.5401 - val_loss: 1.3785 - val_mae: 0.9236\n",
      "Epoch 134/200\n",
      "511/511 - 8s - 16ms/step - loss: 0.4736 - mae: 0.5368 - val_loss: 1.3468 - val_mae: 0.9067\n",
      "Epoch 135/200\n",
      "511/511 - 8s - 16ms/step - loss: 0.4717 - mae: 0.5355 - val_loss: 1.3252 - val_mae: 0.9038\n",
      "Epoch 136/200\n",
      "511/511 - 8s - 16ms/step - loss: 0.4701 - mae: 0.5336 - val_loss: 1.3688 - val_mae: 0.9182\n",
      "Epoch 137/200\n",
      "511/511 - 8s - 16ms/step - loss: 0.4630 - mae: 0.5316 - val_loss: 1.3657 - val_mae: 0.9195\n",
      "Epoch 138/200\n",
      "511/511 - 8s - 16ms/step - loss: 0.4611 - mae: 0.5286 - val_loss: 1.3628 - val_mae: 0.9157\n",
      "Epoch 139/200\n",
      "511/511 - 8s - 16ms/step - loss: 0.4574 - mae: 0.5266 - val_loss: 1.3627 - val_mae: 0.9177\n",
      "Epoch 140/200\n",
      "511/511 - 8s - 16ms/step - loss: 0.4557 - mae: 0.5258 - val_loss: 1.3627 - val_mae: 0.9176\n",
      "Epoch 141/200\n",
      "511/511 - 8s - 16ms/step - loss: 0.4554 - mae: 0.5265 - val_loss: 1.3847 - val_mae: 0.9253\n",
      "Epoch 142/200\n",
      "511/511 - 8s - 17ms/step - loss: 0.4479 - mae: 0.5215 - val_loss: 1.4139 - val_mae: 0.9328\n",
      "Epoch 143/200\n",
      "511/511 - 8s - 17ms/step - loss: 0.4437 - mae: 0.5185 - val_loss: 1.3737 - val_mae: 0.9186\n",
      "Epoch 144/200\n",
      "511/511 - 8s - 16ms/step - loss: 0.4400 - mae: 0.5181 - val_loss: 1.3856 - val_mae: 0.9251\n",
      "Epoch 145/200\n",
      "511/511 - 8s - 16ms/step - loss: 0.4414 - mae: 0.5189 - val_loss: 1.3666 - val_mae: 0.9231\n",
      "Epoch 146/200\n",
      "511/511 - 8s - 16ms/step - loss: 0.4356 - mae: 0.5141 - val_loss: 1.3749 - val_mae: 0.9247\n",
      "Epoch 147/200\n",
      "511/511 - 8s - 16ms/step - loss: 0.4410 - mae: 0.5175 - val_loss: 1.3860 - val_mae: 0.9285\n",
      "Epoch 148/200\n",
      "511/511 - 8s - 16ms/step - loss: 0.4290 - mae: 0.5112 - val_loss: 1.3622 - val_mae: 0.9169\n",
      "Epoch 149/200\n",
      "511/511 - 8s - 16ms/step - loss: 0.4244 - mae: 0.5079 - val_loss: 1.3821 - val_mae: 0.9222\n",
      "Epoch 150/200\n",
      "511/511 - 8s - 16ms/step - loss: 0.4221 - mae: 0.5071 - val_loss: 1.3659 - val_mae: 0.9203\n",
      "Epoch 151/200\n",
      "511/511 - 8s - 16ms/step - loss: 0.4261 - mae: 0.5098 - val_loss: 1.3983 - val_mae: 0.9285\n",
      "Epoch 152/200\n",
      "511/511 - 8s - 16ms/step - loss: 0.4188 - mae: 0.5049 - val_loss: 1.3889 - val_mae: 0.9233\n",
      "Epoch 153/200\n",
      "511/511 - 8s - 16ms/step - loss: 0.4099 - mae: 0.4989 - val_loss: 1.3758 - val_mae: 0.9207\n",
      "Epoch 154/200\n",
      "511/511 - 8s - 16ms/step - loss: 0.4089 - mae: 0.4996 - val_loss: 1.4088 - val_mae: 0.9320\n",
      "Epoch 155/200\n",
      "511/511 - 8s - 16ms/step - loss: 0.4046 - mae: 0.4966 - val_loss: 1.4564 - val_mae: 0.9483\n",
      "Epoch 156/200\n",
      "511/511 - 8s - 16ms/step - loss: 0.4054 - mae: 0.4960 - val_loss: 1.3937 - val_mae: 0.9298\n",
      "Epoch 157/200\n",
      "511/511 - 8s - 16ms/step - loss: 0.4028 - mae: 0.4945 - val_loss: 1.3746 - val_mae: 0.9228\n",
      "Epoch 158/200\n",
      "511/511 - 8s - 17ms/step - loss: 0.3975 - mae: 0.4910 - val_loss: 1.4170 - val_mae: 0.9330\n",
      "Epoch 159/200\n",
      "511/511 - 8s - 16ms/step - loss: 0.3991 - mae: 0.4928 - val_loss: 1.4409 - val_mae: 0.9426\n",
      "Epoch 160/200\n",
      "511/511 - 8s - 16ms/step - loss: 0.3928 - mae: 0.4872 - val_loss: 1.4207 - val_mae: 0.9371\n",
      "Epoch 161/200\n",
      "511/511 - 8s - 17ms/step - loss: 0.3855 - mae: 0.4820 - val_loss: 1.4111 - val_mae: 0.9322\n",
      "Epoch 162/200\n",
      "511/511 - 8s - 17ms/step - loss: 0.3883 - mae: 0.4848 - val_loss: 1.4366 - val_mae: 0.9457\n",
      "Epoch 163/200\n",
      "511/511 - 8s - 16ms/step - loss: 0.3838 - mae: 0.4823 - val_loss: 1.4433 - val_mae: 0.9405\n",
      "Epoch 164/200\n",
      "511/511 - 8s - 16ms/step - loss: 0.3833 - mae: 0.4812 - val_loss: 1.4147 - val_mae: 0.9390\n",
      "Epoch 165/200\n",
      "511/511 - 8s - 17ms/step - loss: 0.3783 - mae: 0.4779 - val_loss: 1.4172 - val_mae: 0.9337\n",
      "Epoch 166/200\n",
      "511/511 - 8s - 16ms/step - loss: 0.3814 - mae: 0.4806 - val_loss: 1.4653 - val_mae: 0.9520\n",
      "Epoch 167/200\n",
      "511/511 - 8s - 17ms/step - loss: 0.3728 - mae: 0.4751 - val_loss: 1.4150 - val_mae: 0.9348\n",
      "Epoch 168/200\n",
      "511/511 - 9s - 17ms/step - loss: 0.3703 - mae: 0.4724 - val_loss: 1.4774 - val_mae: 0.9578\n",
      "Epoch 169/200\n",
      "511/511 - 9s - 17ms/step - loss: 0.3673 - mae: 0.4718 - val_loss: 1.4316 - val_mae: 0.9408\n",
      "Epoch 170/200\n",
      "511/511 - 9s - 17ms/step - loss: 0.3662 - mae: 0.4717 - val_loss: 1.4266 - val_mae: 0.9366\n",
      "Epoch 171/200\n",
      "511/511 - 9s - 17ms/step - loss: 0.3598 - mae: 0.4670 - val_loss: 1.4551 - val_mae: 0.9473\n",
      "Epoch 172/200\n",
      "511/511 - 9s - 17ms/step - loss: 0.3592 - mae: 0.4668 - val_loss: 1.4457 - val_mae: 0.9462\n",
      "Epoch 173/200\n",
      "511/511 - 8s - 17ms/step - loss: 0.3580 - mae: 0.4656 - val_loss: 1.4647 - val_mae: 0.9506\n",
      "Epoch 174/200\n",
      "511/511 - 9s - 17ms/step - loss: 0.3548 - mae: 0.4626 - val_loss: 1.4676 - val_mae: 0.9532\n",
      "Epoch 175/200\n",
      "511/511 - 8s - 17ms/step - loss: 0.3515 - mae: 0.4602 - val_loss: 1.4843 - val_mae: 0.9584\n",
      "Epoch 176/200\n",
      "511/511 - 9s - 17ms/step - loss: 0.3510 - mae: 0.4604 - val_loss: 1.4885 - val_mae: 0.9568\n",
      "Epoch 177/200\n",
      "511/511 - 9s - 17ms/step - loss: 0.3463 - mae: 0.4582 - val_loss: 1.4545 - val_mae: 0.9483\n",
      "Epoch 178/200\n",
      "511/511 - 9s - 17ms/step - loss: 0.3474 - mae: 0.4575 - val_loss: 1.4537 - val_mae: 0.9495\n",
      "Epoch 179/200\n",
      "511/511 - 9s - 17ms/step - loss: 0.3482 - mae: 0.4587 - val_loss: 1.4788 - val_mae: 0.9547\n",
      "Epoch 180/200\n",
      "511/511 - 8s - 17ms/step - loss: 0.3367 - mae: 0.4500 - val_loss: 1.4536 - val_mae: 0.9500\n",
      "Epoch 181/200\n",
      "511/511 - 8s - 17ms/step - loss: 0.3382 - mae: 0.4521 - val_loss: 1.4722 - val_mae: 0.9555\n",
      "Epoch 182/200\n",
      "511/511 - 8s - 17ms/step - loss: 0.3355 - mae: 0.4499 - val_loss: 1.5139 - val_mae: 0.9666\n",
      "Epoch 183/200\n",
      "511/511 - 9s - 17ms/step - loss: 0.3368 - mae: 0.4515 - val_loss: 1.4810 - val_mae: 0.9539\n",
      "Epoch 184/200\n",
      "511/511 - 9s - 17ms/step - loss: 0.3291 - mae: 0.4458 - val_loss: 1.4889 - val_mae: 0.9579\n",
      "Epoch 185/200\n",
      "511/511 - 9s - 17ms/step - loss: 0.3270 - mae: 0.4455 - val_loss: 1.4908 - val_mae: 0.9597\n",
      "Epoch 186/200\n",
      "511/511 - 9s - 17ms/step - loss: 0.3271 - mae: 0.4448 - val_loss: 1.4726 - val_mae: 0.9534\n",
      "Epoch 187/200\n",
      "511/511 - 9s - 17ms/step - loss: 0.3243 - mae: 0.4431 - val_loss: 1.4774 - val_mae: 0.9524\n",
      "Epoch 188/200\n",
      "511/511 - 9s - 17ms/step - loss: 0.3222 - mae: 0.4413 - val_loss: 1.4819 - val_mae: 0.9557\n",
      "Epoch 189/200\n",
      "511/511 - 9s - 17ms/step - loss: 0.3186 - mae: 0.4378 - val_loss: 1.4702 - val_mae: 0.9563\n",
      "Epoch 190/200\n",
      "511/511 - 9s - 17ms/step - loss: 0.3182 - mae: 0.4385 - val_loss: 1.5238 - val_mae: 0.9712\n",
      "Epoch 191/200\n",
      "511/511 - 9s - 17ms/step - loss: 0.3170 - mae: 0.4376 - val_loss: 1.5112 - val_mae: 0.9649\n",
      "Epoch 192/200\n",
      "511/511 - 9s - 17ms/step - loss: 0.3105 - mae: 0.4323 - val_loss: 1.4836 - val_mae: 0.9577\n",
      "Epoch 193/200\n",
      "511/511 - 9s - 17ms/step - loss: 0.3119 - mae: 0.4332 - val_loss: 1.5304 - val_mae: 0.9704\n",
      "Epoch 194/200\n",
      "511/511 - 9s - 17ms/step - loss: 0.3074 - mae: 0.4304 - val_loss: 1.5189 - val_mae: 0.9680\n",
      "Epoch 195/200\n",
      "511/511 - 9s - 17ms/step - loss: 0.3046 - mae: 0.4298 - val_loss: 1.4842 - val_mae: 0.9581\n",
      "Epoch 196/200\n",
      "511/511 - 8s - 17ms/step - loss: 0.3011 - mae: 0.4263 - val_loss: 1.5314 - val_mae: 0.9758\n",
      "Epoch 197/200\n",
      "511/511 - 9s - 17ms/step - loss: 0.3028 - mae: 0.4280 - val_loss: 1.5149 - val_mae: 0.9656\n",
      "Epoch 198/200\n",
      "511/511 - 9s - 17ms/step - loss: 0.2976 - mae: 0.4237 - val_loss: 1.5242 - val_mae: 0.9687\n",
      "Epoch 199/200\n",
      "511/511 - 9s - 17ms/step - loss: 0.2952 - mae: 0.4211 - val_loss: 1.5285 - val_mae: 0.9716\n",
      "Epoch 200/200\n",
      "511/511 - 9s - 17ms/step - loss: 0.2924 - mae: 0.4198 - val_loss: 1.5397 - val_mae: 0.9736\n"
     ]
    }
   ],
   "execution_count": 11
  },
  {
   "metadata": {
    "ExecuteTime": {
     "end_time": "2025-02-26T03:47:09.635808Z",
     "start_time": "2025-02-26T03:47:09.610910Z"
    }
   },
   "cell_type": "code",
   "source": [
    "# Save the entire model (architecture, weights, and optimizer state)\n",
    "model.save(\"../models/facet_unimodal_baseline_regression_model.h5\")"
   ],
   "id": "15a3fdfee500b4bd",
   "outputs": [
    {
     "name": "stderr",
     "output_type": "stream",
     "text": [
      "WARNING:absl:You are saving your model as an HDF5 file via `model.save()` or `keras.saving.save_model(model)`. This file format is considered legacy. We recommend using instead the native Keras format, e.g. `model.save('my_model.keras')` or `keras.saving.save_model(model, 'my_model.keras')`. \n"
     ]
    }
   ],
   "execution_count": 12
  },
  {
   "metadata": {},
   "cell_type": "markdown",
   "source": "### Evaluating Model - Predictions and Metrics",
   "id": "ae612d344194ec80"
  },
  {
   "metadata": {
    "ExecuteTime": {
     "end_time": "2025-02-26T04:02:38.171275Z",
     "start_time": "2025-02-26T04:02:36.909512Z"
    }
   },
   "cell_type": "code",
   "source": [
    "# Predict on the test set\n",
    "Y_pred = model.predict(X_test_reshape)\n",
    "\n",
    "# Compute Mean Absolute Error (MAE)\n",
    "mae = mean_absolute_error(Y_test_reshape, Y_pred)\n",
    "\n",
    "# Compute Pearson correlation coefficient\n",
    "# Flatten arrays in case they are multi-dimensional\n",
    "corr, _ = pearsonr(Y_test_reshape.flatten(), Y_pred.flatten())\n",
    "\n",
    "# Compute R-squared (Coefficient of Determination)\n",
    "r2 = r2_score(Y_test_reshape, Y_pred)\n",
    "\n",
    "print(\"MAE:\", mae)\n",
    "print(\"Correlation:\", corr)\n",
    "print(\"R2:\", r2)"
   ],
   "id": "7b2198d41b97b9c6",
   "outputs": [
    {
     "name": "stdout",
     "output_type": "stream",
     "text": [
      "\u001B[1m146/146\u001B[0m \u001B[32m━━━━━━━━━━━━━━━━━━━━\u001B[0m\u001B[37m\u001B[0m \u001B[1m1s\u001B[0m 8ms/step\n",
      "MAE: 1.0261921882629395\n",
      "Correlation: 0.1571212\n",
      "R2: -0.3923743963241577\n"
     ]
    }
   ],
   "execution_count": 14
  },
  {
   "metadata": {
    "ExecuteTime": {
     "end_time": "2025-02-26T04:58:23.185719Z",
     "start_time": "2025-02-26T04:58:23.039005Z"
    }
   },
   "cell_type": "code",
   "source": [
    "fig, ax = plt.subplots(1, 1, figsize=(4, 3))\n",
    "ax.scatter(Y_pred, Y_test_reshape, s=1, color='indigo')\n",
    "ax.set_xlabel(\"Predicted Sentiment Levels\")\n",
    "ax.set_ylabel(\"True Sentiment Levels\")\n",
    "ax.set_title('FACET CNN Regression')\n",
    "# clipping to possible sentiment to zoom in on within range predictions\n",
    "ax.set_xlim([-3, 3])\n",
    "\n",
    "plt.show()\n",
    "fig.savefig('../figures/facet_baseline_regression_plot.png', bbox_inches='tight', dpi=300)"
   ],
   "id": "1c0e5320470847bf",
   "outputs": [
    {
     "data": {
      "text/plain": [
       "<Figure size 400x300 with 1 Axes>"
      ],
      "image/png": "[encoded data removed]"
     },
     "metadata": {},
     "output_type": "display_data"
    }
   ],
   "execution_count": 15
  },
  {
   "metadata": {},
   "cell_type": "code",
   "outputs": [],
   "execution_count": null,
   "source": "",
   "id": "9a69f148cda5eae1"
  }
 ],
 "metadata": {
  "kernelspec": {
   "display_name": "Python 3",
   "language": "python",
   "name": "python3"
  },
  "language_info": {
   "codemirror_mode": {
    "name": "ipython",
    "version": 2
   },
   "file_extension": ".py",
   "mimetype": "text/x-python",
   "name": "python",
   "nbconvert_exporter": "python",
   "pygments_lexer": "ipython2",
   "version": "2.7.6"
  }
 },
 "nbformat": 4,
 "nbformat_minor": 5
}

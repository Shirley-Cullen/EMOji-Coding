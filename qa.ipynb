{
 "cells": [
  {
   "cell_type": "code",
   "execution_count": null,
   "metadata": {},
   "outputs": [],
   "source": [
    "from mfn import MFN3\n",
    "import torch\n",
    "from torch.utils.data import DataLoader\n",
    "from mosei_dataset import MOSEIDataset\n",
    "import pickle as pkl"
   ]
  },
  {
   "cell_type": "code",
   "execution_count": 2,
   "metadata": {},
   "outputs": [],
   "source": [
    "data_path = \"tensors.pkl\"\n",
    "device = 'cuda' if torch.cuda.is_available() else 'cpu'\n",
    "test_dataloader = DataLoader(MOSEIDataset(data_path, \"test\"), batch_size=64, shuffle=False)\n",
    "\n",
    "model = MFN3()\n",
    "checkpoint = torch.load(\"workdir_MFN3_sentiment_lr0.0005_wd0.0_0223020207\\epoch20_valloss0.01_valmae0.61.pt\")\n",
    "model.load_state_dict(checkpoint)\n",
    "model.to(device)\n",
    "\n",
    "TARGET_INDEX = {\n",
    "    \"sentiment\": 0,\n",
    "    \"happy\": 1,\n",
    "    \"sad\": 2,\n",
    "    \"anger\": 3,\n",
    "    \"surprise\": 4,\n",
    "    \"disgust\": 5,\n",
    "    \"fear\": 6,\n",
    "}"
   ]
  },
  {
   "cell_type": "code",
   "execution_count": 9,
   "metadata": {},
   "outputs": [],
   "source": [
    "vid_keys = pkl.load(open(\"fold_to_vidkeys.pkl\", \"rb\"))\n",
    "vid_keys = vid_keys[\"test\"]"
   ]
  },
  {
   "cell_type": "code",
   "execution_count": 14,
   "metadata": {},
   "outputs": [
    {
     "name": "stdout",
     "output_type": "stream",
     "text": [
      "111881[8] groud truth = -2.0 predicted = 1.0739003419876099\n",
      "111881[10] groud truth = -2.0 predicted = 1.1930171251296997\n",
      "112425[3] groud truth = 2.6666667461395264 predicted = -0.5479336977005005\n",
      "112425[5] groud truth = 2.3333332538604736 predicted = -1.0635606050491333\n",
      "198112[3] groud truth = 2.3333332538604736 predicted = -2.2885186672210693\n",
      "208322[8] groud truth = -2.3333332538604736 predicted = 0.7543882131576538\n",
      "238063[12] groud truth = 2.0 predicted = -1.116330623626709\n",
      "24351[3] groud truth = 2.0 predicted = -1.5847101211547852\n",
      "28006[0] groud truth = -2.6666667461395264 predicted = 0.5640744566917419\n",
      "41381[10] groud truth = 1.0 predicted = -2.031898260116577\n",
      "91844[7] groud truth = 2.6666667461395264 predicted = -0.8367092609405518\n",
      "WoL4fCxGd8Q[6] groud truth = -2.3333332538604736 predicted = 0.7395752668380737\n",
      "fsBzpr4k3rY[0] groud truth = 2.0 predicted = -1.2238091230392456\n",
      "sfaWfZ2-4c0[1] groud truth = -2.3333332538604736 predicted = 1.1371482610702515\n"
     ]
    }
   ],
   "source": [
    "\n",
    "\n",
    "model.eval()\n",
    "batch_start_index = 0\n",
    "\n",
    "for *inputs, labels in test_dataloader:\n",
    "    inputs = [inputs[1], inputs[3], inputs[4]]\n",
    "    inputs = torch.cat(inputs, dim=2).to(device, dtype=torch.float32)\n",
    "    labels = labels[:, TARGET_INDEX[\"sentiment\"]].to(device, dtype=torch.float32) # regression targets\n",
    "    outputs = model(inputs)\n",
    "    outputs = outputs.squeeze()\n",
    "\n",
    "    maes = list(torch.abs(outputs - labels).cpu())\n",
    "    for i, mae in enumerate(maes):\n",
    "        if mae > 3:\n",
    "            print(vid_keys[batch_start_index + i], end=\" \")\n",
    "            print(f\"groud truth = {labels[i].item()}\", end=\" \")\n",
    "            print(f\"predicted = {outputs[i].item()}\")\n",
    "\n",
    "\n",
    "    batch_start_index += labels.shape[0]"
   ]
  },
  {
   "cell_type": "code",
   "execution_count": 20,
   "metadata": {},
   "outputs": [
    {
     "name": "stdout",
     "output_type": "stream",
     "text": [
      "hi my name is mike and this is my review for mr wonder emporium and uhh this was a film that we took our two year old to uhh just a couple days ago umm it's probably one of the worst films uhh i've seen probably in the last five or six years umm the main reason why was there wasn't much of a plot but it was pretty boring uhh not not stutter really a lot of interesting things uhh seemed to occur during the uhh during the show umm one of the things that was uhh kind of interesting is it seems to be a cross between willy and uhh and some other christmas style movies uhh in which they're just hoping to kind of show you some uhh interesting colorful scenery uhh and have a toy store in which you walk by things and things pop out and weird stuff happens but uhh that just after maybe a minute or two of that and it becomes you become used to it you're just really not interested in seeing any more of that uhh dustin hoffman uhh is kind of bizarre uhh cast as this uhh particular person and natalie portman seems to just be sleepwalking through the role uhh stutter everybody involved in this movie uhh seems to just be cashing a paycheck it's a horrible terrible film and so i i stutter can't uhh recommend it whatsoever so definitely pass on mr wonder emporium uhh save your money and rent uhh the classic willy and you'll enjoy uhh the experience a whole lot better and my name is mike that's been my movie review thank you\n"
     ]
    }
   ],
   "source": [
    "VID_KEY = \"208322\"\n",
    "\n",
    "with open(\"vidkey_to_transcription.pkl\", \"rb\") as f:\n",
    "    key_to_text = pkl.load(f)\n",
    "\n",
    "print(\" \".join(key_to_text[VID_KEY]))"
   ]
  }
 ],
 "metadata": {
  "kernelspec": {
   "display_name": "mmml",
   "language": "python",
   "name": "python3"
  },
  "language_info": {
   "codemirror_mode": {
    "name": "ipython",
    "version": 3
   },
   "file_extension": ".py",
   "mimetype": "text/x-python",
   "name": "python",
   "nbconvert_exporter": "python",
   "pygments_lexer": "ipython3",
   "version": "3.9.21"
  }
 },
 "nbformat": 4,
 "nbformat_minor": 2
}
